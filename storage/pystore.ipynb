{
 "cells": [
  {
   "cell_type": "markdown",
   "metadata": {},
   "source": [
    "# PyStore Tutorial\n",
    "\n",
    "\n",
    "[PyStore](https://github.com/ranaroussi/pystore) is a utility that provides developers with fast data storage for Pandas dataframes. It's built on top of Pandas, Numpy and Dask and stores the data in the Parquet file format (via Fastparquet) in a hierarchical directory structure. Files are compressed using Snappy, a fast and efficient compression/decompression library from Google.\n",
    "\n",
    "The end result is a fast, powerful, and pythonic datastore for Pandas dataframes that can **easily query millions of rows in sub-second speed**.\n",
    "\n",
    "PyStore was designed with storing timeseries data in mind. It provides namespaced collections of data. These collections allow bucketing data by source, user or some other metric (for example frequency: End-Of-Day; Minute Bars; etc.). Each collection (or namespace) maps to a directory containing partitioned parquet files for each item (e.g. symbol)."
   ]
  },
  {
   "cell_type": "markdown",
   "metadata": {},
   "source": [
    "## Let's get started"
   ]
  },
  {
   "cell_type": "markdown",
   "metadata": {},
   "source": [
    "We'll start with importing the necessary libraries"
   ]
  },
  {
   "cell_type": "code",
   "execution_count": 1,
   "metadata": {},
   "outputs": [],
   "source": [
    "import pystore\n",
    "import quandl"
   ]
  },
  {
   "cell_type": "markdown",
   "metadata": {},
   "source": [
    "Next, let's get some market data to work with. We'll use Quandl's API to download 37+ years worth of historical data for Apple's stock."
   ]
  },
  {
   "cell_type": "code",
   "execution_count": 2,
   "metadata": {},
   "outputs": [
    {
     "data": {
      "text/html": "<div>\n<style scoped>\n    .dataframe tbody tr th:only-of-type {\n        vertical-align: middle;\n    }\n\n    .dataframe tbody tr th {\n        vertical-align: top;\n    }\n\n    .dataframe thead th {\n        text-align: right;\n    }\n</style>\n<table border=\"1\" class=\"dataframe\">\n  <thead>\n    <tr style=\"text-align: right;\">\n      <th></th>\n      <th>Open</th>\n      <th>High</th>\n      <th>Low</th>\n      <th>Close</th>\n      <th>Volume</th>\n      <th>Ex-Dividend</th>\n      <th>Split Ratio</th>\n      <th>Adj. Open</th>\n      <th>Adj. High</th>\n      <th>Adj. Low</th>\n      <th>Adj. Close</th>\n      <th>Adj. Volume</th>\n    </tr>\n    <tr>\n      <th>Date</th>\n      <th></th>\n      <th></th>\n      <th></th>\n      <th></th>\n      <th></th>\n      <th></th>\n      <th></th>\n      <th></th>\n      <th></th>\n      <th></th>\n      <th></th>\n      <th></th>\n    </tr>\n  </thead>\n  <tbody>\n    <tr>\n      <th>1980-12-12</th>\n      <td>28.75</td>\n      <td>28.87</td>\n      <td>28.75</td>\n      <td>28.75</td>\n      <td>2093900.0</td>\n      <td>0.0</td>\n      <td>1.0</td>\n      <td>0.422706</td>\n      <td>0.424470</td>\n      <td>0.422706</td>\n      <td>0.422706</td>\n      <td>117258400.0</td>\n    </tr>\n    <tr>\n      <th>1980-12-15</th>\n      <td>27.38</td>\n      <td>27.38</td>\n      <td>27.25</td>\n      <td>27.25</td>\n      <td>785200.0</td>\n      <td>0.0</td>\n      <td>1.0</td>\n      <td>0.402563</td>\n      <td>0.402563</td>\n      <td>0.400652</td>\n      <td>0.400652</td>\n      <td>43971200.0</td>\n    </tr>\n    <tr>\n      <th>1980-12-16</th>\n      <td>25.37</td>\n      <td>25.37</td>\n      <td>25.25</td>\n      <td>25.25</td>\n      <td>472000.0</td>\n      <td>0.0</td>\n      <td>1.0</td>\n      <td>0.373010</td>\n      <td>0.373010</td>\n      <td>0.371246</td>\n      <td>0.371246</td>\n      <td>26432000.0</td>\n    </tr>\n    <tr>\n      <th>1980-12-17</th>\n      <td>25.87</td>\n      <td>26.00</td>\n      <td>25.87</td>\n      <td>25.87</td>\n      <td>385900.0</td>\n      <td>0.0</td>\n      <td>1.0</td>\n      <td>0.380362</td>\n      <td>0.382273</td>\n      <td>0.380362</td>\n      <td>0.380362</td>\n      <td>21610400.0</td>\n    </tr>\n    <tr>\n      <th>1980-12-18</th>\n      <td>26.63</td>\n      <td>26.75</td>\n      <td>26.63</td>\n      <td>26.63</td>\n      <td>327900.0</td>\n      <td>0.0</td>\n      <td>1.0</td>\n      <td>0.391536</td>\n      <td>0.393300</td>\n      <td>0.391536</td>\n      <td>0.391536</td>\n      <td>18362400.0</td>\n    </tr>\n  </tbody>\n</table>\n</div>",
      "text/plain": "             Open   High    Low  Close     Volume  Ex-Dividend  Split Ratio  \\\nDate                                                                          \n1980-12-12  28.75  28.87  28.75  28.75  2093900.0          0.0          1.0   \n1980-12-15  27.38  27.38  27.25  27.25   785200.0          0.0          1.0   \n1980-12-16  25.37  25.37  25.25  25.25   472000.0          0.0          1.0   \n1980-12-17  25.87  26.00  25.87  25.87   385900.0          0.0          1.0   \n1980-12-18  26.63  26.75  26.63  26.63   327900.0          0.0          1.0   \n\n            Adj. Open  Adj. High  Adj. Low  Adj. Close  Adj. Volume  \nDate                                                                 \n1980-12-12   0.422706   0.424470  0.422706    0.422706  117258400.0  \n1980-12-15   0.402563   0.402563  0.400652    0.400652   43971200.0  \n1980-12-16   0.373010   0.373010  0.371246    0.371246   26432000.0  \n1980-12-17   0.380362   0.382273  0.380362    0.380362   21610400.0  \n1980-12-18   0.391536   0.393300  0.391536    0.391536   18362400.0  "
     },
     "execution_count": 2,
     "metadata": {},
     "output_type": "execute_result"
    }
   ],
   "source": [
    "aapl = quandl.get('WIKI/AAPL')\n",
    "aapl.head()"
   ]
  },
  {
   "cell_type": "code",
   "execution_count": 3,
   "metadata": {},
   "outputs": [
    {
     "data": {
      "text/plain": "(9400, 12)"
     },
     "execution_count": 3,
     "metadata": {},
     "output_type": "execute_result"
    }
   ],
   "source": [
    "aapl.shape"
   ]
  },
  {
   "cell_type": "markdown",
   "metadata": {},
   "source": [
    "We can take a look at the storage path"
   ]
  },
  {
   "cell_type": "code",
   "execution_count": 4,
   "metadata": {},
   "outputs": [
    {
     "data": {
      "text/plain": "PosixPath('/Users/ronaldopontes/pystore')"
     },
     "execution_count": 4,
     "metadata": {},
     "output_type": "execute_result"
    }
   ],
   "source": [
    "pystore.get_path()"
   ]
  },
  {
   "cell_type": "markdown",
   "metadata": {},
   "source": [
    "We can get a list of datastores found this location. Since we're just getting started, all we'll get is an empty list."
   ]
  },
  {
   "cell_type": "code",
   "execution_count": 5,
   "metadata": {},
   "outputs": [
    {
     "data": {
      "text/plain": "[]"
     },
     "execution_count": 5,
     "metadata": {},
     "output_type": "execute_result"
    }
   ],
   "source": [
    "# List stores\n",
    "pystore.list_stores()"
   ]
  },
  {
   "cell_type": "markdown",
   "metadata": {},
   "source": [
    "### Creating / connecting to our datastore\n",
    "\n",
    "When connecting to a datastore, if it doesn't exist, it will be automatically created."
   ]
  },
  {
   "cell_type": "code",
   "execution_count": 6,
   "metadata": {},
   "outputs": [
    {
     "data": {
      "text/plain": "PyStore.datastore </Users/ronaldopontes/pystore/timeseries>"
     },
     "execution_count": 6,
     "metadata": {},
     "output_type": "execute_result"
    }
   ],
   "source": [
    "store = pystore.store('timeseries')\n",
    "store"
   ]
  },
  {
   "cell_type": "markdown",
   "metadata": {},
   "source": [
    "Now when we call ``pystore.list_stores()`` we'll get a list with our new datastore listed."
   ]
  },
  {
   "cell_type": "code",
   "execution_count": 7,
   "metadata": {},
   "outputs": [
    {
     "data": {
      "text/plain": "['timeseries']"
     },
     "execution_count": 7,
     "metadata": {},
     "output_type": "execute_result"
    }
   ],
   "source": [
    "pystore.list_stores()"
   ]
  },
  {
   "cell_type": "markdown",
   "metadata": {},
   "source": [
    "### Creating / connecting to a Collection\n",
    "\n",
    "Before we can save our APPL time-series data, we need to create a **Collection**. As mentioned earlier, each collection (or namespace) maps to a directory containing partitioned parquet files for each item (e.g. symbol).\n",
    "\n",
    "When connecting to a collection, if it doesn't exist, it will be automatically created."
   ]
  },
  {
   "cell_type": "code",
   "execution_count": 8,
   "metadata": {},
   "outputs": [
    {
     "data": {
      "text/plain": "PyStore.collection <NASDAQ.EOD>"
     },
     "execution_count": 8,
     "metadata": {},
     "output_type": "execute_result"
    }
   ],
   "source": [
    "# Access a collection (create it if not exist)\n",
    "collection = store.collection('NASDAQ.EOD')\n",
    "collection"
   ]
  },
  {
   "cell_type": "markdown",
   "metadata": {},
   "source": [
    "Now, when we list all collections in the datastore, we can see out newly created collection:"
   ]
  },
  {
   "cell_type": "code",
   "execution_count": 9,
   "metadata": {},
   "outputs": [
    {
     "data": {
      "text/plain": "['NASDAQ.EOD']"
     },
     "execution_count": 9,
     "metadata": {},
     "output_type": "execute_result"
    }
   ],
   "source": [
    "store.list_collections()"
   ]
  },
  {
   "cell_type": "markdown",
   "metadata": {},
   "source": [
    "### Working with collection items"
   ]
  },
  {
   "cell_type": "markdown",
   "metadata": {},
   "source": [
    "Before saving our data, let's see if there are any existing items in the collection:"
   ]
  },
  {
   "cell_type": "code",
   "execution_count": 10,
   "metadata": {},
   "outputs": [
    {
     "data": {
      "text/plain": "set()"
     },
     "execution_count": 10,
     "metadata": {},
     "output_type": "execute_result"
    }
   ],
   "source": [
    "collection.list_items()"
   ]
  },
  {
   "cell_type": "markdown",
   "metadata": {},
   "source": [
    "Now we're ready to store our data. For demo purposes, we won't be storing the last row, which will be appended later. We'll also attach some metadata indicating the data source."
   ]
  },
  {
   "cell_type": "code",
   "execution_count": 11,
   "metadata": {},
   "outputs": [],
   "source": [
    "collection.write('AAPL', aapl[:-1], metadata={'source': 'Quandl'})"
   ]
  },
  {
   "cell_type": "markdown",
   "metadata": {},
   "source": [
    "Now, when we list all items in the collections, we can see out newly created item:"
   ]
  },
  {
   "cell_type": "code",
   "execution_count": 12,
   "metadata": {},
   "outputs": [
    {
     "data": {
      "text/plain": "{'AAPL'}"
     },
     "execution_count": 12,
     "metadata": {},
     "output_type": "execute_result"
    }
   ],
   "source": [
    "collection.list_items()"
   ]
  },
  {
   "cell_type": "markdown",
   "metadata": {},
   "source": [
    "Now let's read the item from the datastore's collection:"
   ]
  },
  {
   "cell_type": "code",
   "execution_count": 13,
   "metadata": {},
   "outputs": [
    {
     "data": {
      "text/plain": "PyStore.item <NASDAQ.EOD/AAPL>"
     },
     "execution_count": 13,
     "metadata": {},
     "output_type": "execute_result"
    }
   ],
   "source": [
    "# Read the item's data\n",
    "item = collection.item('AAPL')\n",
    "item"
   ]
  },
  {
   "cell_type": "markdown",
   "metadata": {},
   "source": [
    "The item object has two main properties: **data**, which returns a Dask dataframe, and **metadata** which returns the metadata we attached to our item, along with an \"updated\" timestamp\". To learn more about Dask dataframes and their capacilities, visit http://dask.pydata.org/en/latest/dataframe.html."
   ]
  },
  {
   "cell_type": "code",
   "execution_count": 14,
   "metadata": {},
   "outputs": [
    {
     "data": {
      "text/html": "<div><strong>Dask DataFrame Structure:</strong></div>\n<div>\n<style scoped>\n    .dataframe tbody tr th:only-of-type {\n        vertical-align: middle;\n    }\n\n    .dataframe tbody tr th {\n        vertical-align: top;\n    }\n\n    .dataframe thead th {\n        text-align: right;\n    }\n</style>\n<table border=\"1\" class=\"dataframe\">\n  <thead>\n    <tr style=\"text-align: right;\">\n      <th></th>\n      <th>Open</th>\n      <th>High</th>\n      <th>Low</th>\n      <th>Close</th>\n      <th>Volume</th>\n      <th>Ex-Dividend</th>\n      <th>Split Ratio</th>\n      <th>Adj. Open</th>\n      <th>Adj. High</th>\n      <th>Adj. Low</th>\n      <th>Adj. Close</th>\n      <th>Adj. Volume</th>\n    </tr>\n    <tr>\n      <th>npartitions=1</th>\n      <th></th>\n      <th></th>\n      <th></th>\n      <th></th>\n      <th></th>\n      <th></th>\n      <th></th>\n      <th></th>\n      <th></th>\n      <th></th>\n      <th></th>\n      <th></th>\n    </tr>\n  </thead>\n  <tbody>\n    <tr>\n      <th>1980-12-12</th>\n      <td>float64</td>\n      <td>float64</td>\n      <td>float64</td>\n      <td>float64</td>\n      <td>float64</td>\n      <td>float64</td>\n      <td>float64</td>\n      <td>float64</td>\n      <td>float64</td>\n      <td>float64</td>\n      <td>float64</td>\n      <td>float64</td>\n    </tr>\n    <tr>\n      <th>2018-03-26</th>\n      <td>...</td>\n      <td>...</td>\n      <td>...</td>\n      <td>...</td>\n      <td>...</td>\n      <td>...</td>\n      <td>...</td>\n      <td>...</td>\n      <td>...</td>\n      <td>...</td>\n      <td>...</td>\n      <td>...</td>\n    </tr>\n  </tbody>\n</table>\n</div>\n<div>Dask Name: read-parquet, 1 tasks</div>",
      "text/plain": "Dask DataFrame Structure:\n                  Open     High      Low    Close   Volume Ex-Dividend Split Ratio Adj. Open Adj. High Adj. Low Adj. Close Adj. Volume\nnpartitions=1                                                                                                                         \n1980-12-12     float64  float64  float64  float64  float64     float64     float64   float64   float64  float64    float64     float64\n2018-03-26         ...      ...      ...      ...      ...         ...         ...       ...       ...      ...        ...         ...\nDask Name: read-parquet, 1 tasks"
     },
     "execution_count": 14,
     "metadata": {},
     "output_type": "execute_result"
    }
   ],
   "source": [
    "data = item.data\n",
    "data"
   ]
  },
  {
   "cell_type": "code",
   "execution_count": 15,
   "metadata": {},
   "outputs": [
    {
     "data": {
      "text/plain": "{'source': 'Quandl', '_updated': '2020-03-26 14:02:33.033165'}"
     },
     "execution_count": 15,
     "metadata": {},
     "output_type": "execute_result"
    }
   ],
   "source": [
    "item.metadata"
   ]
  },
  {
   "cell_type": "markdown",
   "metadata": {},
   "source": [
    "To load the item's data as a Pandas dataframe, we call the ``to_pandas()`` method."
   ]
  },
  {
   "cell_type": "code",
   "execution_count": 16,
   "metadata": {},
   "outputs": [
    {
     "data": {
      "text/html": "<div>\n<style scoped>\n    .dataframe tbody tr th:only-of-type {\n        vertical-align: middle;\n    }\n\n    .dataframe tbody tr th {\n        vertical-align: top;\n    }\n\n    .dataframe thead th {\n        text-align: right;\n    }\n</style>\n<table border=\"1\" class=\"dataframe\">\n  <thead>\n    <tr style=\"text-align: right;\">\n      <th></th>\n      <th>Open</th>\n      <th>High</th>\n      <th>Low</th>\n      <th>Close</th>\n      <th>Volume</th>\n      <th>Ex-Dividend</th>\n      <th>Split Ratio</th>\n      <th>Adj. Open</th>\n      <th>Adj. High</th>\n      <th>Adj. Low</th>\n      <th>Adj. Close</th>\n      <th>Adj. Volume</th>\n    </tr>\n    <tr>\n      <th>Date</th>\n      <th></th>\n      <th></th>\n      <th></th>\n      <th></th>\n      <th></th>\n      <th></th>\n      <th></th>\n      <th></th>\n      <th></th>\n      <th></th>\n      <th></th>\n      <th></th>\n    </tr>\n  </thead>\n  <tbody>\n    <tr>\n      <th>2018-03-20</th>\n      <td>175.24</td>\n      <td>176.80</td>\n      <td>174.94</td>\n      <td>175.240</td>\n      <td>19314039.0</td>\n      <td>0.0</td>\n      <td>1.0</td>\n      <td>175.24</td>\n      <td>176.80</td>\n      <td>174.94</td>\n      <td>175.240</td>\n      <td>19314039.0</td>\n    </tr>\n    <tr>\n      <th>2018-03-21</th>\n      <td>175.04</td>\n      <td>175.09</td>\n      <td>171.26</td>\n      <td>171.270</td>\n      <td>35247358.0</td>\n      <td>0.0</td>\n      <td>1.0</td>\n      <td>175.04</td>\n      <td>175.09</td>\n      <td>171.26</td>\n      <td>171.270</td>\n      <td>35247358.0</td>\n    </tr>\n    <tr>\n      <th>2018-03-22</th>\n      <td>170.00</td>\n      <td>172.68</td>\n      <td>168.60</td>\n      <td>168.845</td>\n      <td>41051076.0</td>\n      <td>0.0</td>\n      <td>1.0</td>\n      <td>170.00</td>\n      <td>172.68</td>\n      <td>168.60</td>\n      <td>168.845</td>\n      <td>41051076.0</td>\n    </tr>\n    <tr>\n      <th>2018-03-23</th>\n      <td>168.39</td>\n      <td>169.92</td>\n      <td>164.94</td>\n      <td>164.940</td>\n      <td>40248954.0</td>\n      <td>0.0</td>\n      <td>1.0</td>\n      <td>168.39</td>\n      <td>169.92</td>\n      <td>164.94</td>\n      <td>164.940</td>\n      <td>40248954.0</td>\n    </tr>\n    <tr>\n      <th>2018-03-26</th>\n      <td>168.07</td>\n      <td>173.10</td>\n      <td>166.44</td>\n      <td>172.770</td>\n      <td>36272617.0</td>\n      <td>0.0</td>\n      <td>1.0</td>\n      <td>168.07</td>\n      <td>173.10</td>\n      <td>166.44</td>\n      <td>172.770</td>\n      <td>36272617.0</td>\n    </tr>\n  </tbody>\n</table>\n</div>",
      "text/plain": "              Open    High     Low    Close      Volume  Ex-Dividend  \\\nDate                                                                   \n2018-03-20  175.24  176.80  174.94  175.240  19314039.0          0.0   \n2018-03-21  175.04  175.09  171.26  171.270  35247358.0          0.0   \n2018-03-22  170.00  172.68  168.60  168.845  41051076.0          0.0   \n2018-03-23  168.39  169.92  164.94  164.940  40248954.0          0.0   \n2018-03-26  168.07  173.10  166.44  172.770  36272617.0          0.0   \n\n            Split Ratio  Adj. Open  Adj. High  Adj. Low  Adj. Close  \\\nDate                                                                  \n2018-03-20          1.0     175.24     176.80    174.94     175.240   \n2018-03-21          1.0     175.04     175.09    171.26     171.270   \n2018-03-22          1.0     170.00     172.68    168.60     168.845   \n2018-03-23          1.0     168.39     169.92    164.94     164.940   \n2018-03-26          1.0     168.07     173.10    166.44     172.770   \n\n            Adj. Volume  \nDate                     \n2018-03-20   19314039.0  \n2018-03-21   35247358.0  \n2018-03-22   41051076.0  \n2018-03-23   40248954.0  \n2018-03-26   36272617.0  "
     },
     "execution_count": 16,
     "metadata": {},
     "output_type": "execute_result"
    }
   ],
   "source": [
    "df = item.to_pandas()\n",
    "df.tail()"
   ]
  },
  {
   "cell_type": "markdown",
   "metadata": {},
   "source": [
    "Let's append the last day (row) to our item:"
   ]
  },
  {
   "cell_type": "code",
   "execution_count": 17,
   "metadata": {},
   "outputs": [
    {
     "ename": "ValueError",
     "evalue": "Exactly one of npartitions and chunksize must be specified.",
     "output_type": "error",
     "traceback": [
      "\u001b[0;31m---------------------------------------------------------------------------\u001b[0m",
      "\u001b[0;31mValueError\u001b[0m                                Traceback (most recent call last)",
      "\u001b[0;32m<ipython-input-17-9764a435955d>\u001b[0m in \u001b[0;36m<module>\u001b[0;34m\u001b[0m\n\u001b[0;32m----> 1\u001b[0;31m \u001b[0mcollection\u001b[0m\u001b[0;34m.\u001b[0m\u001b[0mappend\u001b[0m\u001b[0;34m(\u001b[0m\u001b[0;34m'AAPL'\u001b[0m\u001b[0;34m,\u001b[0m \u001b[0maapl\u001b[0m\u001b[0;34m[\u001b[0m\u001b[0;34m-\u001b[0m\u001b[0;36m1\u001b[0m\u001b[0;34m:\u001b[0m\u001b[0;34m]\u001b[0m\u001b[0;34m)\u001b[0m\u001b[0;34m\u001b[0m\u001b[0;34m\u001b[0m\u001b[0m\n\u001b[0m\u001b[1;32m      2\u001b[0m \u001b[0;34m\u001b[0m\u001b[0m\n\u001b[1;32m      3\u001b[0m \u001b[0mdf\u001b[0m \u001b[0;34m=\u001b[0m \u001b[0mcollection\u001b[0m\u001b[0;34m.\u001b[0m\u001b[0mitem\u001b[0m\u001b[0;34m(\u001b[0m\u001b[0;34m'AAPL'\u001b[0m\u001b[0;34m)\u001b[0m\u001b[0;34m.\u001b[0m\u001b[0mto_pandas\u001b[0m\u001b[0;34m(\u001b[0m\u001b[0;34m)\u001b[0m\u001b[0;34m\u001b[0m\u001b[0;34m\u001b[0m\u001b[0m\n\u001b[1;32m      4\u001b[0m \u001b[0mdf\u001b[0m\u001b[0;34m.\u001b[0m\u001b[0mtail\u001b[0m\u001b[0;34m(\u001b[0m\u001b[0;34m)\u001b[0m\u001b[0;34m\u001b[0m\u001b[0;34m\u001b[0m\u001b[0m\n",
      "\u001b[0;32m~/miniconda3/lib/python3.7/site-packages/pystore/collection.py\u001b[0m in \u001b[0;36mappend\u001b[0;34m(self, item, data, npartitions, epochdate, threaded, reload_items, **kwargs)\u001b[0m\n\u001b[1;32m    180\u001b[0m         \u001b[0;31m# combine old dataframe with new\u001b[0m\u001b[0;34m\u001b[0m\u001b[0;34m\u001b[0m\u001b[0;34m\u001b[0m\u001b[0m\n\u001b[1;32m    181\u001b[0m         \u001b[0mcurrent\u001b[0m \u001b[0;34m=\u001b[0m \u001b[0mself\u001b[0m\u001b[0;34m.\u001b[0m\u001b[0mitem\u001b[0m\u001b[0;34m(\u001b[0m\u001b[0mitem\u001b[0m\u001b[0;34m)\u001b[0m\u001b[0;34m\u001b[0m\u001b[0;34m\u001b[0m\u001b[0m\n\u001b[0;32m--> 182\u001b[0;31m         \u001b[0mnew\u001b[0m \u001b[0;34m=\u001b[0m \u001b[0mdd\u001b[0m\u001b[0;34m.\u001b[0m\u001b[0mfrom_pandas\u001b[0m\u001b[0;34m(\u001b[0m\u001b[0mdata\u001b[0m\u001b[0;34m,\u001b[0m \u001b[0mnpartitions\u001b[0m\u001b[0;34m=\u001b[0m\u001b[0mnpartitions\u001b[0m\u001b[0;34m)\u001b[0m\u001b[0;34m\u001b[0m\u001b[0;34m\u001b[0m\u001b[0m\n\u001b[0m\u001b[1;32m    183\u001b[0m         \u001b[0;31m# combined = current.data.append(new)\u001b[0m\u001b[0;34m\u001b[0m\u001b[0;34m\u001b[0m\u001b[0;34m\u001b[0m\u001b[0m\n\u001b[1;32m    184\u001b[0m         \u001b[0mcombined\u001b[0m \u001b[0;34m=\u001b[0m \u001b[0mdd\u001b[0m\u001b[0;34m.\u001b[0m\u001b[0mconcat\u001b[0m\u001b[0;34m(\u001b[0m\u001b[0;34m[\u001b[0m\u001b[0mcurrent\u001b[0m\u001b[0;34m.\u001b[0m\u001b[0mdata\u001b[0m\u001b[0;34m,\u001b[0m \u001b[0mnew\u001b[0m\u001b[0;34m]\u001b[0m\u001b[0;34m)\u001b[0m\u001b[0;34m.\u001b[0m\u001b[0mdrop_duplicates\u001b[0m\u001b[0;34m(\u001b[0m\u001b[0mkeep\u001b[0m\u001b[0;34m=\u001b[0m\u001b[0;34m\"last\"\u001b[0m\u001b[0;34m)\u001b[0m\u001b[0;34m\u001b[0m\u001b[0;34m\u001b[0m\u001b[0m\n",
      "\u001b[0;32m~/miniconda3/lib/python3.7/site-packages/dask/dataframe/io/io.py\u001b[0m in \u001b[0;36mfrom_pandas\u001b[0;34m(data, npartitions, chunksize, sort, name)\u001b[0m\n\u001b[1;32m    178\u001b[0m \u001b[0;34m\u001b[0m\u001b[0m\n\u001b[1;32m    179\u001b[0m     \u001b[0;32mif\u001b[0m \u001b[0;34m(\u001b[0m\u001b[0mnpartitions\u001b[0m \u001b[0;32mis\u001b[0m \u001b[0;32mNone\u001b[0m\u001b[0;34m)\u001b[0m \u001b[0;34m==\u001b[0m \u001b[0;34m(\u001b[0m\u001b[0mchunksize\u001b[0m \u001b[0;32mis\u001b[0m \u001b[0;32mNone\u001b[0m\u001b[0;34m)\u001b[0m\u001b[0;34m:\u001b[0m\u001b[0;34m\u001b[0m\u001b[0;34m\u001b[0m\u001b[0m\n\u001b[0;32m--> 180\u001b[0;31m         \u001b[0;32mraise\u001b[0m \u001b[0mValueError\u001b[0m\u001b[0;34m(\u001b[0m\u001b[0;34m\"Exactly one of npartitions and chunksize must be specified.\"\u001b[0m\u001b[0;34m)\u001b[0m\u001b[0;34m\u001b[0m\u001b[0;34m\u001b[0m\u001b[0m\n\u001b[0m\u001b[1;32m    181\u001b[0m \u001b[0;34m\u001b[0m\u001b[0m\n\u001b[1;32m    182\u001b[0m     \u001b[0mnrows\u001b[0m \u001b[0;34m=\u001b[0m \u001b[0mlen\u001b[0m\u001b[0;34m(\u001b[0m\u001b[0mdata\u001b[0m\u001b[0;34m)\u001b[0m\u001b[0;34m\u001b[0m\u001b[0;34m\u001b[0m\u001b[0m\n",
      "\u001b[0;31mValueError\u001b[0m: Exactly one of npartitions and chunksize must be specified."
     ]
    }
   ],
   "source": [
    "collection.append('AAPL', aapl[-1:])\n",
    "\n",
    "df = collection.item('AAPL').to_pandas()\n",
    "df.tail()"
   ]
  },
  {
   "cell_type": "markdown",
   "metadata": {},
   "source": [
    "---\n",
    "\n",
    "# Querying Collections\n",
    "\n",
    "After a while, you'll have many items stored, and you may want to look some of them up by metadata. To do this, simply add your metadata key to the list_items method:"
   ]
  },
  {
   "cell_type": "code",
   "execution_count": 18,
   "metadata": {},
   "outputs": [
    {
     "data": {
      "text/plain": "{'AAPL'}"
     },
     "execution_count": 18,
     "metadata": {},
     "output_type": "execute_result"
    }
   ],
   "source": [
    "collection.list_items(source='Quandl')"
   ]
  },
  {
   "cell_type": "markdown",
   "metadata": {},
   "source": [
    "---\n",
    "\n",
    "# Working with Snapshots\n",
    "\n",
    "When working with data, there will be times when you'll accidentally mess up the data, making it unusable. For that reason, PyStore allows you to create snapshots - a point-in-time, named reference for all current items in a collection.\n",
    "\n",
    "First, let's see if we have any existing snapshots:"
   ]
  },
  {
   "cell_type": "code",
   "execution_count": 19,
   "metadata": {},
   "outputs": [
    {
     "data": {
      "text/plain": "set()"
     },
     "execution_count": 19,
     "metadata": {},
     "output_type": "execute_result"
    }
   ],
   "source": [
    "collection.list_snapshots()"
   ]
  },
  {
   "cell_type": "markdown",
   "metadata": {},
   "source": [
    "Creating a snapshot is done using the ``create_snapshot`` method:"
   ]
  },
  {
   "cell_type": "code",
   "execution_count": 20,
   "metadata": {},
   "outputs": [
    {
     "data": {
      "text/plain": "{'snapshot_name'}"
     },
     "execution_count": 20,
     "metadata": {},
     "output_type": "execute_result"
    }
   ],
   "source": [
    "collection.create_snapshot('snapshot_name')\n",
    "\n",
    "collection.list_snapshots()"
   ]
  },
  {
   "cell_type": "markdown",
   "metadata": {},
   "source": [
    "To see how snapshots work, let's change our original AAPL to only include the `Close` and `Volume` columns."
   ]
  },
  {
   "cell_type": "code",
   "execution_count": 21,
   "metadata": {},
   "outputs": [
    {
     "data": {
      "text/html": "<div>\n<style scoped>\n    .dataframe tbody tr th:only-of-type {\n        vertical-align: middle;\n    }\n\n    .dataframe tbody tr th {\n        vertical-align: top;\n    }\n\n    .dataframe thead th {\n        text-align: right;\n    }\n</style>\n<table border=\"1\" class=\"dataframe\">\n  <thead>\n    <tr style=\"text-align: right;\">\n      <th></th>\n      <th>Close</th>\n      <th>Volume</th>\n    </tr>\n    <tr>\n      <th>Date</th>\n      <th></th>\n      <th></th>\n    </tr>\n  </thead>\n  <tbody>\n    <tr>\n      <th>2018-03-21</th>\n      <td>171.270</td>\n      <td>35247358.0</td>\n    </tr>\n    <tr>\n      <th>2018-03-22</th>\n      <td>168.845</td>\n      <td>41051076.0</td>\n    </tr>\n    <tr>\n      <th>2018-03-23</th>\n      <td>164.940</td>\n      <td>40248954.0</td>\n    </tr>\n    <tr>\n      <th>2018-03-26</th>\n      <td>172.770</td>\n      <td>36272617.0</td>\n    </tr>\n    <tr>\n      <th>2018-03-27</th>\n      <td>168.340</td>\n      <td>38962839.0</td>\n    </tr>\n  </tbody>\n</table>\n</div>",
      "text/plain": "              Close      Volume\nDate                           \n2018-03-21  171.270  35247358.0\n2018-03-22  168.845  41051076.0\n2018-03-23  164.940  40248954.0\n2018-03-26  172.770  36272617.0\n2018-03-27  168.340  38962839.0"
     },
     "execution_count": 21,
     "metadata": {},
     "output_type": "execute_result"
    }
   ],
   "source": [
    "collection.write('AAPL', aapl[['Close', 'Volume']],\n",
    "                 metadata={'source': 'Quandl'},\n",
    "                 overwrite=True)\n",
    "\n",
    "# Load the \"new\" item\n",
    "df = collection.item('AAPL').to_pandas()\n",
    "df.tail()"
   ]
  },
  {
   "cell_type": "markdown",
   "metadata": {},
   "source": [
    "To load the item from a previous snapshot, we just need to specity it when using the ``item()`` method:"
   ]
  },
  {
   "cell_type": "code",
   "execution_count": 22,
   "metadata": {},
   "outputs": [
    {
     "data": {
      "text/html": "<div>\n<style scoped>\n    .dataframe tbody tr th:only-of-type {\n        vertical-align: middle;\n    }\n\n    .dataframe tbody tr th {\n        vertical-align: top;\n    }\n\n    .dataframe thead th {\n        text-align: right;\n    }\n</style>\n<table border=\"1\" class=\"dataframe\">\n  <thead>\n    <tr style=\"text-align: right;\">\n      <th></th>\n      <th>Open</th>\n      <th>High</th>\n      <th>Low</th>\n      <th>Close</th>\n      <th>Volume</th>\n      <th>Ex-Dividend</th>\n      <th>Split Ratio</th>\n      <th>Adj. Open</th>\n      <th>Adj. High</th>\n      <th>Adj. Low</th>\n      <th>Adj. Close</th>\n      <th>Adj. Volume</th>\n    </tr>\n    <tr>\n      <th>Date</th>\n      <th></th>\n      <th></th>\n      <th></th>\n      <th></th>\n      <th></th>\n      <th></th>\n      <th></th>\n      <th></th>\n      <th></th>\n      <th></th>\n      <th></th>\n      <th></th>\n    </tr>\n  </thead>\n  <tbody>\n    <tr>\n      <th>2018-03-20</th>\n      <td>175.24</td>\n      <td>176.80</td>\n      <td>174.94</td>\n      <td>175.240</td>\n      <td>19314039.0</td>\n      <td>0.0</td>\n      <td>1.0</td>\n      <td>175.24</td>\n      <td>176.80</td>\n      <td>174.94</td>\n      <td>175.240</td>\n      <td>19314039.0</td>\n    </tr>\n    <tr>\n      <th>2018-03-21</th>\n      <td>175.04</td>\n      <td>175.09</td>\n      <td>171.26</td>\n      <td>171.270</td>\n      <td>35247358.0</td>\n      <td>0.0</td>\n      <td>1.0</td>\n      <td>175.04</td>\n      <td>175.09</td>\n      <td>171.26</td>\n      <td>171.270</td>\n      <td>35247358.0</td>\n    </tr>\n    <tr>\n      <th>2018-03-22</th>\n      <td>170.00</td>\n      <td>172.68</td>\n      <td>168.60</td>\n      <td>168.845</td>\n      <td>41051076.0</td>\n      <td>0.0</td>\n      <td>1.0</td>\n      <td>170.00</td>\n      <td>172.68</td>\n      <td>168.60</td>\n      <td>168.845</td>\n      <td>41051076.0</td>\n    </tr>\n    <tr>\n      <th>2018-03-23</th>\n      <td>168.39</td>\n      <td>169.92</td>\n      <td>164.94</td>\n      <td>164.940</td>\n      <td>40248954.0</td>\n      <td>0.0</td>\n      <td>1.0</td>\n      <td>168.39</td>\n      <td>169.92</td>\n      <td>164.94</td>\n      <td>164.940</td>\n      <td>40248954.0</td>\n    </tr>\n    <tr>\n      <th>2018-03-26</th>\n      <td>168.07</td>\n      <td>173.10</td>\n      <td>166.44</td>\n      <td>172.770</td>\n      <td>36272617.0</td>\n      <td>0.0</td>\n      <td>1.0</td>\n      <td>168.07</td>\n      <td>173.10</td>\n      <td>166.44</td>\n      <td>172.770</td>\n      <td>36272617.0</td>\n    </tr>\n  </tbody>\n</table>\n</div>",
      "text/plain": "              Open    High     Low    Close      Volume  Ex-Dividend  \\\nDate                                                                   \n2018-03-20  175.24  176.80  174.94  175.240  19314039.0          0.0   \n2018-03-21  175.04  175.09  171.26  171.270  35247358.0          0.0   \n2018-03-22  170.00  172.68  168.60  168.845  41051076.0          0.0   \n2018-03-23  168.39  169.92  164.94  164.940  40248954.0          0.0   \n2018-03-26  168.07  173.10  166.44  172.770  36272617.0          0.0   \n\n            Split Ratio  Adj. Open  Adj. High  Adj. Low  Adj. Close  \\\nDate                                                                  \n2018-03-20          1.0     175.24     176.80    174.94     175.240   \n2018-03-21          1.0     175.04     175.09    171.26     171.270   \n2018-03-22          1.0     170.00     172.68    168.60     168.845   \n2018-03-23          1.0     168.39     169.92    164.94     164.940   \n2018-03-26          1.0     168.07     173.10    166.44     172.770   \n\n            Adj. Volume  \nDate                     \n2018-03-20   19314039.0  \n2018-03-21   35247358.0  \n2018-03-22   41051076.0  \n2018-03-23   40248954.0  \n2018-03-26   36272617.0  "
     },
     "execution_count": 22,
     "metadata": {},
     "output_type": "execute_result"
    }
   ],
   "source": [
    "snap_df = collection.item('AAPL', snapshot='snapshot_name')\n",
    "snap_df.to_pandas().tail()"
   ]
  },
  {
   "cell_type": "markdown",
   "metadata": {},
   "source": [
    "We can, of course, restore our data from the snapshot:"
   ]
  },
  {
   "cell_type": "code",
   "execution_count": 23,
   "metadata": {},
   "outputs": [
    {
     "data": {
      "text/html": "<div>\n<style scoped>\n    .dataframe tbody tr th:only-of-type {\n        vertical-align: middle;\n    }\n\n    .dataframe tbody tr th {\n        vertical-align: top;\n    }\n\n    .dataframe thead th {\n        text-align: right;\n    }\n</style>\n<table border=\"1\" class=\"dataframe\">\n  <thead>\n    <tr style=\"text-align: right;\">\n      <th></th>\n      <th>Open</th>\n      <th>High</th>\n      <th>Low</th>\n      <th>Close</th>\n      <th>Volume</th>\n      <th>Ex-Dividend</th>\n      <th>Split Ratio</th>\n      <th>Adj. Open</th>\n      <th>Adj. High</th>\n      <th>Adj. Low</th>\n      <th>Adj. Close</th>\n      <th>Adj. Volume</th>\n    </tr>\n    <tr>\n      <th>Date</th>\n      <th></th>\n      <th></th>\n      <th></th>\n      <th></th>\n      <th></th>\n      <th></th>\n      <th></th>\n      <th></th>\n      <th></th>\n      <th></th>\n      <th></th>\n      <th></th>\n    </tr>\n  </thead>\n  <tbody>\n    <tr>\n      <th>2018-03-20</th>\n      <td>175.24</td>\n      <td>176.80</td>\n      <td>174.94</td>\n      <td>175.240</td>\n      <td>19314039.0</td>\n      <td>0.0</td>\n      <td>1.0</td>\n      <td>175.24</td>\n      <td>176.80</td>\n      <td>174.94</td>\n      <td>175.240</td>\n      <td>19314039.0</td>\n    </tr>\n    <tr>\n      <th>2018-03-21</th>\n      <td>175.04</td>\n      <td>175.09</td>\n      <td>171.26</td>\n      <td>171.270</td>\n      <td>35247358.0</td>\n      <td>0.0</td>\n      <td>1.0</td>\n      <td>175.04</td>\n      <td>175.09</td>\n      <td>171.26</td>\n      <td>171.270</td>\n      <td>35247358.0</td>\n    </tr>\n    <tr>\n      <th>2018-03-22</th>\n      <td>170.00</td>\n      <td>172.68</td>\n      <td>168.60</td>\n      <td>168.845</td>\n      <td>41051076.0</td>\n      <td>0.0</td>\n      <td>1.0</td>\n      <td>170.00</td>\n      <td>172.68</td>\n      <td>168.60</td>\n      <td>168.845</td>\n      <td>41051076.0</td>\n    </tr>\n    <tr>\n      <th>2018-03-23</th>\n      <td>168.39</td>\n      <td>169.92</td>\n      <td>164.94</td>\n      <td>164.940</td>\n      <td>40248954.0</td>\n      <td>0.0</td>\n      <td>1.0</td>\n      <td>168.39</td>\n      <td>169.92</td>\n      <td>164.94</td>\n      <td>164.940</td>\n      <td>40248954.0</td>\n    </tr>\n    <tr>\n      <th>2018-03-26</th>\n      <td>168.07</td>\n      <td>173.10</td>\n      <td>166.44</td>\n      <td>172.770</td>\n      <td>36272617.0</td>\n      <td>0.0</td>\n      <td>1.0</td>\n      <td>168.07</td>\n      <td>173.10</td>\n      <td>166.44</td>\n      <td>172.770</td>\n      <td>36272617.0</td>\n    </tr>\n  </tbody>\n</table>\n</div>",
      "text/plain": "              Open    High     Low    Close      Volume  Ex-Dividend  \\\nDate                                                                   \n2018-03-20  175.24  176.80  174.94  175.240  19314039.0          0.0   \n2018-03-21  175.04  175.09  171.26  171.270  35247358.0          0.0   \n2018-03-22  170.00  172.68  168.60  168.845  41051076.0          0.0   \n2018-03-23  168.39  169.92  164.94  164.940  40248954.0          0.0   \n2018-03-26  168.07  173.10  166.44  172.770  36272617.0          0.0   \n\n            Split Ratio  Adj. Open  Adj. High  Adj. Low  Adj. Close  \\\nDate                                                                  \n2018-03-20          1.0     175.24     176.80    174.94     175.240   \n2018-03-21          1.0     175.04     175.09    171.26     171.270   \n2018-03-22          1.0     170.00     172.68    168.60     168.845   \n2018-03-23          1.0     168.39     169.92    164.94     164.940   \n2018-03-26          1.0     168.07     173.10    166.44     172.770   \n\n            Adj. Volume  \nDate                     \n2018-03-20   19314039.0  \n2018-03-21   35247358.0  \n2018-03-22   41051076.0  \n2018-03-23   40248954.0  \n2018-03-26   36272617.0  "
     },
     "execution_count": 23,
     "metadata": {},
     "output_type": "execute_result"
    }
   ],
   "source": [
    "collection.write('AAPL', snap_df,\n",
    "                 metadata={'source': 'Quandl'},\n",
    "                 overwrite=True)\n",
    "\n",
    "df = collection.item('AAPL').to_pandas()\n",
    "df.tail()"
   ]
  },
  {
   "cell_type": "markdown",
   "metadata": {},
   "source": [
    "Once we're sure we no longer have the need for this snapshot, we can delete it."
   ]
  },
  {
   "cell_type": "code",
   "execution_count": 24,
   "metadata": {},
   "outputs": [
    {
     "data": {
      "text/plain": "True"
     },
     "execution_count": 24,
     "metadata": {},
     "output_type": "execute_result"
    }
   ],
   "source": [
    "# Delete a collection snapshot\n",
    "collection.delete_snapshot('snapshot_name')\n",
    "\n",
    "# To delete all snapshots, use:\n",
    "# collection.delete_snapshots()"
   ]
  },
  {
   "cell_type": "markdown",
   "metadata": {},
   "source": [
    "---\n",
    "\n",
    "# Deleting items, collections and stores"
   ]
  },
  {
   "cell_type": "code",
   "execution_count": 25,
   "metadata": {},
   "outputs": [
    {
     "data": {
      "text/plain": "True"
     },
     "execution_count": 25,
     "metadata": {},
     "output_type": "execute_result"
    }
   ],
   "source": [
    "# Delete the item from the current version\n",
    "collection.delete_item('AAPL')"
   ]
  },
  {
   "cell_type": "code",
   "execution_count": 26,
   "metadata": {},
   "outputs": [
    {
     "data": {
      "text/plain": "True"
     },
     "execution_count": 26,
     "metadata": {},
     "output_type": "execute_result"
    }
   ],
   "source": [
    "# Delete the collection\n",
    "store.delete_collection('NASDAQ.EOD')"
   ]
  },
  {
   "cell_type": "code",
   "execution_count": 28,
   "metadata": {},
   "outputs": [
    {
     "data": {
      "text/plain": "True"
     },
     "execution_count": 28,
     "metadata": {},
     "output_type": "execute_result"
    }
   ],
   "source": [
    "# Delete the datastore\n",
    "pystore.delete_store('timeseries')\n",
    "\n",
    "# to delete all datastores in the path, use:\n",
    "# pystore.delete_stores()"
   ]
  },
  {
   "cell_type": "code",
   "execution_count": null,
   "metadata": {},
   "outputs": [],
   "source": []
  }
 ],
 "metadata": {
  "kernelspec": {
   "display_name": "Python 3",
   "language": "python",
   "name": "python3"
  },
  "language_info": {
   "codemirror_mode": {
    "name": "ipython",
    "version": 3
   },
   "file_extension": ".py",
   "mimetype": "text/x-python",
   "name": "python",
   "nbconvert_exporter": "python",
   "pygments_lexer": "ipython3",
   "version": "3.7.6-final"
  }
 },
 "nbformat": 4,
 "nbformat_minor": 2
}