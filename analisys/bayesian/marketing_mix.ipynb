{
 "nbformat": 4,
 "nbformat_minor": 2,
 "metadata": {
  "language_info": {
   "name": "python",
   "codemirror_mode": {
    "name": "ipython",
    "version": 3
   }
  },
  "orig_nbformat": 2,
  "file_extension": ".py",
  "mimetype": "text/x-python",
  "name": "python",
  "npconvert_exporter": "python",
  "pygments_lexer": "ipython3",
  "version": 3
 },
 "cells": [
  {
   "cell_type": "markdown",
   "metadata": {},
   "source": [
    "http://www.joshuakim.io/marketing-mix-modelling-with-bayesian-regression/\n",
    "\n",
    "https://towardsdatascience.com/bayesian-nightmare-how-to-start-loving-bayes-1622741fa960\n",
    "\n",
    "https://towardsdatascience.com/the-next-level-of-data-visualization-in-python-dd6e99039d5e\n",
    "\n",
    "https://towardsdatascience.com/hands-on-bayesian-statistics-with-python-pymc3-arviz-499db9a59501\n",
    "\n",
    "https://towardsdatascience.com/estimating-probabilities-with-bayesian-modeling-in-python-7144be007815\n",
    "\n",
    "\n",
    "https://www.smartly.io/blog/tutorial-how-we-productized-bayesian-revenue-estimation-with-stan\n",
    "\n",
    "\n",
    "\n",
    "\n"
   ]
  },
  {
   "cell_type": "code",
   "execution_count": null,
   "metadata": {},
   "outputs": [],
   "source": []
  }
 ]
}