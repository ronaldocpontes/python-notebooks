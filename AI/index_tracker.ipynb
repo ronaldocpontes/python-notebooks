{
 "cells": [
  {
   "cell_type": "markdown",
   "metadata": {
    "colab_type": "text",
    "id": "TYvBTnpX1pHi"
   },
   "source": [
    "# Index Tracker construction with Deep Learning Variational Autoencoder\n",
    "\n",
    "We will use of a variational autoencoder to reduce the dimensions of financial time series. We will further detect similarities between financial instruments in different markets and will use the results obtained to construct a tracker portifolio for a target financial instrument.\n",
    "\n",
    "[Original article](https://towardsdatascience.com/variational-autoencoder-in-finance-53ee5eb9ed98)"
   ]
  },
  {
   "cell_type": "code",
   "execution_count": 2,
   "metadata": {
    "colab": {
     "base_uri": "https://localhost:8080/",
     "height": 34
    },
    "colab_type": "code",
    "executionInfo": {
     "elapsed": 2141,
     "status": "ok",
     "timestamp": 1554396720485,
     "user": {
      "displayName": "Marie Imokoyende",
      "photoUrl": "",
      "userId": "13592623342127678396"
     },
     "user_tz": 240
    },
    "id": "9wGj-w4BXDEj",
    "outputId": "8c6b3050-9e44-4c94-bdfc-ce3cb51fb2a4"
   },
   "outputs": [],
   "source": [
    "import os\n",
    "import pandas as pd\n",
    "import numpy as np\n",
    "import scipy\n",
    "\n",
    "from keras.layers import Lambda, Input, Dense\n",
    "from keras.models import Model\n",
    "from keras.datasets import mnist\n",
    "from keras.losses import mse, binary_crossentropy\n",
    "from keras.utils import plot_model\n",
    "from keras import backend as K\n",
    "\n",
    "import matplotlib.pyplot as plt\n",
    "import argparse\n",
    "\n",
    "from numpy.random import seed\n",
    "from sklearn.preprocessing import minmax_scale\n",
    "from sklearn.model_selection import train_test_split\n",
    "from keras import losses\n",
    "import quantstats as qs\n",
    "from scipy.stats.mstats import gmean\n",
    "\n",
    "from ron.pandas import extend_pandas\n",
    "import ron.datasources.datasources as datasources\n",
    "extend_pandas()"
   ]
  },
  {
   "cell_type": "code",
   "execution_count": 3,
   "metadata": {},
   "outputs": [],
   "source": [
    "# import importlib.util\n",
    "# spec = importlib.util.spec_from_file_location(\"datasources\", \"../src/datasources/datasources.py\")\n",
    "# datasources = importlib.util.module_from_spec(spec)\n",
    "# spec.loader.exec_module(datasources)"
   ]
  },
  {
   "cell_type": "markdown",
   "metadata": {},
   "source": [
    "## Part 1: Dimensionality Reduction Using a Variational Autoencoder\n",
    "In this section, we will discuss:\n",
    "Creating the geometric moving average dataset\n",
    "Augmenting the data with stochastic simulation\n",
    "Building the variational autoencoder model\n",
    "Obtaining the predictions.\n",
    "\n",
    "### Load the index and available instruments"
   ]
  },
  {
   "cell_type": "code",
   "execution_count": 4,
   "metadata": {},
   "outputs": [],
   "source": [
    "AVAILABLE_INSTRUMENTS = datasources.SYMBOLS_DOW_JONES\n",
    "TARGET_INSTRUMENT = 'DJI'\n",
    "ANALISYS_PERIOD = '18m'"
   ]
  },
  {
   "cell_type": "code",
   "execution_count": 5,
   "metadata": {},
   "outputs": [
    {
     "output_type": "stream",
     "name": "stdout",
     "text": "\n                                               0\nFirst Index                  2018-11-01 00:00:00\nLast Index                   2020-04-01 00:00:00\nSeries shape                           (355, 30)\nInconsistent Symbol Dropped                  DOW\n"
    },
    {
     "output_type": "execute_result",
     "data": {
      "text/plain": "                       PG  TRV    V  NKE  MMM   GS  MRK  WBA  DIS   DOW  ...  \\\nConsecutive NaN       NaN  NaN  NaN  NaN  NaN  NaN  NaN  NaN  NaN  93.0  ...   \nTotal Zeros           0.0  0.0  0.0  0.0  0.0  0.0  0.0  0.0  0.0   0.0  ...   \nAutoClean: Final NaN  0.0  0.0  0.0  0.0  0.0  0.0  0.0  0.0  0.0   NaN  ...   \n\n                       KO  IBM  XOM   HD  UNH  AXP  MCD  JNJ   VZ  CSCO  \nConsecutive NaN       NaN  NaN  NaN  NaN  NaN  NaN  NaN  NaN  NaN   NaN  \nTotal Zeros           0.0  0.0  0.0  0.0  0.0  0.0  0.0  0.0  0.0   0.0  \nAutoClean: Final NaN  0.0  0.0  0.0  0.0  0.0  0.0  0.0  0.0  0.0   0.0  \n\n[3 rows x 30 columns]",
      "text/html": "<div>\n<style scoped>\n    .dataframe tbody tr th:only-of-type {\n        vertical-align: middle;\n    }\n\n    .dataframe tbody tr th {\n        vertical-align: top;\n    }\n\n    .dataframe thead th {\n        text-align: right;\n    }\n</style>\n<table border=\"1\" class=\"dataframe\">\n  <thead>\n    <tr style=\"text-align: right;\">\n      <th></th>\n      <th>PG</th>\n      <th>TRV</th>\n      <th>V</th>\n      <th>NKE</th>\n      <th>MMM</th>\n      <th>GS</th>\n      <th>MRK</th>\n      <th>WBA</th>\n      <th>DIS</th>\n      <th>DOW</th>\n      <th>...</th>\n      <th>KO</th>\n      <th>IBM</th>\n      <th>XOM</th>\n      <th>HD</th>\n      <th>UNH</th>\n      <th>AXP</th>\n      <th>MCD</th>\n      <th>JNJ</th>\n      <th>VZ</th>\n      <th>CSCO</th>\n    </tr>\n  </thead>\n  <tbody>\n    <tr>\n      <th>Consecutive NaN</th>\n      <td>NaN</td>\n      <td>NaN</td>\n      <td>NaN</td>\n      <td>NaN</td>\n      <td>NaN</td>\n      <td>NaN</td>\n      <td>NaN</td>\n      <td>NaN</td>\n      <td>NaN</td>\n      <td>93.0</td>\n      <td>...</td>\n      <td>NaN</td>\n      <td>NaN</td>\n      <td>NaN</td>\n      <td>NaN</td>\n      <td>NaN</td>\n      <td>NaN</td>\n      <td>NaN</td>\n      <td>NaN</td>\n      <td>NaN</td>\n      <td>NaN</td>\n    </tr>\n    <tr>\n      <th>Total Zeros</th>\n      <td>0.0</td>\n      <td>0.0</td>\n      <td>0.0</td>\n      <td>0.0</td>\n      <td>0.0</td>\n      <td>0.0</td>\n      <td>0.0</td>\n      <td>0.0</td>\n      <td>0.0</td>\n      <td>0.0</td>\n      <td>...</td>\n      <td>0.0</td>\n      <td>0.0</td>\n      <td>0.0</td>\n      <td>0.0</td>\n      <td>0.0</td>\n      <td>0.0</td>\n      <td>0.0</td>\n      <td>0.0</td>\n      <td>0.0</td>\n      <td>0.0</td>\n    </tr>\n    <tr>\n      <th>AutoClean: Final NaN</th>\n      <td>0.0</td>\n      <td>0.0</td>\n      <td>0.0</td>\n      <td>0.0</td>\n      <td>0.0</td>\n      <td>0.0</td>\n      <td>0.0</td>\n      <td>0.0</td>\n      <td>0.0</td>\n      <td>NaN</td>\n      <td>...</td>\n      <td>0.0</td>\n      <td>0.0</td>\n      <td>0.0</td>\n      <td>0.0</td>\n      <td>0.0</td>\n      <td>0.0</td>\n      <td>0.0</td>\n      <td>0.0</td>\n      <td>0.0</td>\n      <td>0.0</td>\n    </tr>\n  </tbody>\n</table>\n<p>3 rows × 30 columns</p>\n</div>"
     },
     "metadata": {},
     "execution_count": 5
    }
   ],
   "source": [
    "\n",
    "# series = datasources.download_timeseries(SYMBOLS)\n",
    "instruments, report, log, errors = datasources.timeseries(AVAILABLE_INSTRUMENTS, columns=['Close'], period=ANALISYS_PERIOD)\n",
    "print(errors)\n",
    "print(log)\n",
    "report"
   ]
  },
  {
   "cell_type": "markdown",
   "metadata": {
    "colab_type": "text",
    "id": "XQotgwzMlG6d"
   },
   "source": [
    "We will first load the geometric moving average created in notebook 1 (*3546 Deep Learning Project - Data Treatment.ipynb*) and then divide the dataset in two time periods of equal length."
   ]
  },
  {
   "cell_type": "code",
   "execution_count": 6,
   "metadata": {},
   "outputs": [
    {
     "output_type": "execute_result",
     "data": {
      "text/plain": "                   PG         TRV           V        NKE         MMM  \\\nDate                                                                   \n2018-11-01  86.624763  120.823662  139.479309  75.550781  183.035690   \n2018-11-02  86.837486  120.534149  138.439377  75.344177  183.597504   \n\n                    GS        MRK        WBA         DIS         CAT  ...  \\\nDate                                                                  ...   \n2018-11-01  220.142410  70.106277  76.373833  113.815407  120.418167  ...   \n2018-11-02  222.780579  69.291298  75.800316  112.913521  121.470749  ...   \n\n                   KO         IBM        XOM          HD         UNH  \\\nDate                                                                   \n2018-11-01  45.511578  108.943344  75.131729  173.470047  254.670197   \n2018-11-02  45.759438  107.861641  76.323860  172.960556  254.748352   \n\n                   AXP         MCD        JNJ         VZ       CSCO  \nDate                                                                 \n2018-11-01  102.182198  168.656876  135.23027  53.221458  44.071709  \n2018-11-02  101.858086  170.460312  135.09581  53.772190  43.907585  \n\n[2 rows x 29 columns]",
      "text/html": "<div>\n<style scoped>\n    .dataframe tbody tr th:only-of-type {\n        vertical-align: middle;\n    }\n\n    .dataframe tbody tr th {\n        vertical-align: top;\n    }\n\n    .dataframe thead th {\n        text-align: right;\n    }\n</style>\n<table border=\"1\" class=\"dataframe\">\n  <thead>\n    <tr style=\"text-align: right;\">\n      <th></th>\n      <th>PG</th>\n      <th>TRV</th>\n      <th>V</th>\n      <th>NKE</th>\n      <th>MMM</th>\n      <th>GS</th>\n      <th>MRK</th>\n      <th>WBA</th>\n      <th>DIS</th>\n      <th>CAT</th>\n      <th>...</th>\n      <th>KO</th>\n      <th>IBM</th>\n      <th>XOM</th>\n      <th>HD</th>\n      <th>UNH</th>\n      <th>AXP</th>\n      <th>MCD</th>\n      <th>JNJ</th>\n      <th>VZ</th>\n      <th>CSCO</th>\n    </tr>\n    <tr>\n      <th>Date</th>\n      <th></th>\n      <th></th>\n      <th></th>\n      <th></th>\n      <th></th>\n      <th></th>\n      <th></th>\n      <th></th>\n      <th></th>\n      <th></th>\n      <th></th>\n      <th></th>\n      <th></th>\n      <th></th>\n      <th></th>\n      <th></th>\n      <th></th>\n      <th></th>\n      <th></th>\n      <th></th>\n      <th></th>\n    </tr>\n  </thead>\n  <tbody>\n    <tr>\n      <th>2018-11-01</th>\n      <td>86.624763</td>\n      <td>120.823662</td>\n      <td>139.479309</td>\n      <td>75.550781</td>\n      <td>183.035690</td>\n      <td>220.142410</td>\n      <td>70.106277</td>\n      <td>76.373833</td>\n      <td>113.815407</td>\n      <td>120.418167</td>\n      <td>...</td>\n      <td>45.511578</td>\n      <td>108.943344</td>\n      <td>75.131729</td>\n      <td>173.470047</td>\n      <td>254.670197</td>\n      <td>102.182198</td>\n      <td>168.656876</td>\n      <td>135.23027</td>\n      <td>53.221458</td>\n      <td>44.071709</td>\n    </tr>\n    <tr>\n      <th>2018-11-02</th>\n      <td>86.837486</td>\n      <td>120.534149</td>\n      <td>138.439377</td>\n      <td>75.344177</td>\n      <td>183.597504</td>\n      <td>222.780579</td>\n      <td>69.291298</td>\n      <td>75.800316</td>\n      <td>112.913521</td>\n      <td>121.470749</td>\n      <td>...</td>\n      <td>45.759438</td>\n      <td>107.861641</td>\n      <td>76.323860</td>\n      <td>172.960556</td>\n      <td>254.748352</td>\n      <td>101.858086</td>\n      <td>170.460312</td>\n      <td>135.09581</td>\n      <td>53.772190</td>\n      <td>43.907585</td>\n    </tr>\n  </tbody>\n</table>\n<p>2 rows × 29 columns</p>\n</div>"
     },
     "metadata": {},
     "execution_count": 6
    }
   ],
   "source": [
    "instruments.head(2)"
   ]
  },
  {
   "cell_type": "code",
   "execution_count": 7,
   "metadata": {},
   "outputs": [
    {
     "output_type": "stream",
     "name": "stdout",
     "text": "\n                                0\nFirst Index   2018-11-01 00:00:00\nLast Index    2020-04-02 00:00:00\nSeries shape             (204, 1)\n"
    },
    {
     "output_type": "execute_result",
     "data": {
      "text/plain": "                      Close\nConsecutive NaN         NaN\nTotal Zeros             0.0\nAutoClean: Final NaN    0.0",
      "text/html": "<div>\n<style scoped>\n    .dataframe tbody tr th:only-of-type {\n        vertical-align: middle;\n    }\n\n    .dataframe tbody tr th {\n        vertical-align: top;\n    }\n\n    .dataframe thead th {\n        text-align: right;\n    }\n</style>\n<table border=\"1\" class=\"dataframe\">\n  <thead>\n    <tr style=\"text-align: right;\">\n      <th></th>\n      <th>Close</th>\n    </tr>\n  </thead>\n  <tbody>\n    <tr>\n      <th>Consecutive NaN</th>\n      <td>NaN</td>\n    </tr>\n    <tr>\n      <th>Total Zeros</th>\n      <td>0.0</td>\n    </tr>\n    <tr>\n      <th>AutoClean: Final NaN</th>\n      <td>0.0</td>\n    </tr>\n  </tbody>\n</table>\n</div>"
     },
     "metadata": {},
     "execution_count": 7
    }
   ],
   "source": [
    "target, report, log, errors = datasources.timeseries(TARGET_INSTRUMENT, columns=['Close'], period=ANALISYS_PERIOD)\n",
    "print(errors)\n",
    "print(log)\n",
    "report"
   ]
  },
  {
   "cell_type": "markdown",
   "metadata": {
    "colab_type": "text",
    "id": "x5fwQXkFangj"
   },
   "source": [
    "## Creating The Geometric Moving Average Dataset\n",
    "In order to normalise and compare time series of various price ranges, we will use geometric moving averages of the log returns with a period of 5 days, as it represents a typical trading week of 5 business days."
   ]
  },
  {
   "cell_type": "code",
   "execution_count": 8,
   "metadata": {},
   "outputs": [
    {
     "output_type": "execute_result",
     "data": {
      "text/plain": "                  PG       TRV        V      NKE       MMM        GS      MRK  \\\nDate                                                                            \n2018-11-01       NaN       NaN      NaN      NaN       NaN       NaN      NaN   \n2018-11-02       NaN       NaN      NaN      NaN       NaN       NaN      NaN   \n2018-11-05       NaN       NaN      NaN      NaN       NaN       NaN      NaN   \n2018-11-06       NaN       NaN      NaN      NaN       NaN       NaN      NaN   \n2018-11-07  0.003741  0.007926  0.00546  0.00299  0.009161  0.003735  0.00522   \n\n                 WBA       DIS     CAT  ...        KO       IBM      XOM  \\\nDate                                    ...                                \n2018-11-01       NaN       NaN     NaN  ...       NaN       NaN      NaN   \n2018-11-02       NaN       NaN     NaN  ...       NaN       NaN      NaN   \n2018-11-05       NaN       NaN     NaN  ...       NaN       NaN      NaN   \n2018-11-06       NaN       NaN     NaN  ...       NaN       NaN      NaN   \n2018-11-07  0.004937  0.001612  0.0159  ...  0.006704  0.013121  0.00574   \n\n                  HD       UNH       AXP       MCD       JNJ        VZ  \\\nDate                                                                     \n2018-11-01       NaN       NaN       NaN       NaN       NaN       NaN   \n2018-11-02       NaN       NaN       NaN       NaN       NaN       NaN   \n2018-11-05       NaN       NaN       NaN       NaN       NaN       NaN   \n2018-11-06       NaN       NaN       NaN       NaN       NaN       NaN   \n2018-11-07  0.007297  0.010111  0.006139  0.010417  0.005485  0.005618   \n\n                CSCO  \nDate                  \n2018-11-01       NaN  \n2018-11-02       NaN  \n2018-11-05       NaN  \n2018-11-06       NaN  \n2018-11-07  0.009553  \n\n[5 rows x 29 columns]",
      "text/html": "<div>\n<style scoped>\n    .dataframe tbody tr th:only-of-type {\n        vertical-align: middle;\n    }\n\n    .dataframe tbody tr th {\n        vertical-align: top;\n    }\n\n    .dataframe thead th {\n        text-align: right;\n    }\n</style>\n<table border=\"1\" class=\"dataframe\">\n  <thead>\n    <tr style=\"text-align: right;\">\n      <th></th>\n      <th>PG</th>\n      <th>TRV</th>\n      <th>V</th>\n      <th>NKE</th>\n      <th>MMM</th>\n      <th>GS</th>\n      <th>MRK</th>\n      <th>WBA</th>\n      <th>DIS</th>\n      <th>CAT</th>\n      <th>...</th>\n      <th>KO</th>\n      <th>IBM</th>\n      <th>XOM</th>\n      <th>HD</th>\n      <th>UNH</th>\n      <th>AXP</th>\n      <th>MCD</th>\n      <th>JNJ</th>\n      <th>VZ</th>\n      <th>CSCO</th>\n    </tr>\n    <tr>\n      <th>Date</th>\n      <th></th>\n      <th></th>\n      <th></th>\n      <th></th>\n      <th></th>\n      <th></th>\n      <th></th>\n      <th></th>\n      <th></th>\n      <th></th>\n      <th></th>\n      <th></th>\n      <th></th>\n      <th></th>\n      <th></th>\n      <th></th>\n      <th></th>\n      <th></th>\n      <th></th>\n      <th></th>\n      <th></th>\n    </tr>\n  </thead>\n  <tbody>\n    <tr>\n      <th>2018-11-01</th>\n      <td>NaN</td>\n      <td>NaN</td>\n      <td>NaN</td>\n      <td>NaN</td>\n      <td>NaN</td>\n      <td>NaN</td>\n      <td>NaN</td>\n      <td>NaN</td>\n      <td>NaN</td>\n      <td>NaN</td>\n      <td>...</td>\n      <td>NaN</td>\n      <td>NaN</td>\n      <td>NaN</td>\n      <td>NaN</td>\n      <td>NaN</td>\n      <td>NaN</td>\n      <td>NaN</td>\n      <td>NaN</td>\n      <td>NaN</td>\n      <td>NaN</td>\n    </tr>\n    <tr>\n      <th>2018-11-02</th>\n      <td>NaN</td>\n      <td>NaN</td>\n      <td>NaN</td>\n      <td>NaN</td>\n      <td>NaN</td>\n      <td>NaN</td>\n      <td>NaN</td>\n      <td>NaN</td>\n      <td>NaN</td>\n      <td>NaN</td>\n      <td>...</td>\n      <td>NaN</td>\n      <td>NaN</td>\n      <td>NaN</td>\n      <td>NaN</td>\n      <td>NaN</td>\n      <td>NaN</td>\n      <td>NaN</td>\n      <td>NaN</td>\n      <td>NaN</td>\n      <td>NaN</td>\n    </tr>\n    <tr>\n      <th>2018-11-05</th>\n      <td>NaN</td>\n      <td>NaN</td>\n      <td>NaN</td>\n      <td>NaN</td>\n      <td>NaN</td>\n      <td>NaN</td>\n      <td>NaN</td>\n      <td>NaN</td>\n      <td>NaN</td>\n      <td>NaN</td>\n      <td>...</td>\n      <td>NaN</td>\n      <td>NaN</td>\n      <td>NaN</td>\n      <td>NaN</td>\n      <td>NaN</td>\n      <td>NaN</td>\n      <td>NaN</td>\n      <td>NaN</td>\n      <td>NaN</td>\n      <td>NaN</td>\n    </tr>\n    <tr>\n      <th>2018-11-06</th>\n      <td>NaN</td>\n      <td>NaN</td>\n      <td>NaN</td>\n      <td>NaN</td>\n      <td>NaN</td>\n      <td>NaN</td>\n      <td>NaN</td>\n      <td>NaN</td>\n      <td>NaN</td>\n      <td>NaN</td>\n      <td>...</td>\n      <td>NaN</td>\n      <td>NaN</td>\n      <td>NaN</td>\n      <td>NaN</td>\n      <td>NaN</td>\n      <td>NaN</td>\n      <td>NaN</td>\n      <td>NaN</td>\n      <td>NaN</td>\n      <td>NaN</td>\n    </tr>\n    <tr>\n      <th>2018-11-07</th>\n      <td>0.003741</td>\n      <td>0.007926</td>\n      <td>0.00546</td>\n      <td>0.00299</td>\n      <td>0.009161</td>\n      <td>0.003735</td>\n      <td>0.00522</td>\n      <td>0.004937</td>\n      <td>0.001612</td>\n      <td>0.0159</td>\n      <td>...</td>\n      <td>0.006704</td>\n      <td>0.013121</td>\n      <td>0.00574</td>\n      <td>0.007297</td>\n      <td>0.010111</td>\n      <td>0.006139</td>\n      <td>0.010417</td>\n      <td>0.005485</td>\n      <td>0.005618</td>\n      <td>0.009553</td>\n    </tr>\n  </tbody>\n</table>\n<p>5 rows × 29 columns</p>\n</div>"
     },
     "metadata": {},
     "execution_count": 8
    }
   ],
   "source": [
    "instruments_return = instruments.log_returns()\n",
    "instruments_gmean_5d = (instruments_return + 1).rolling(5).apply(gmean) -1\n",
    "instruments_gmean_5d.head()"
   ]
  },
  {
   "cell_type": "code",
   "execution_count": 9,
   "metadata": {},
   "outputs": [],
   "source": [
    "target_return = target.log_returns()\n",
    "target_gmean_5d = (target_return + 1).rolling(5).apply(gmean) -1"
   ]
  },
  {
   "cell_type": "markdown",
   "metadata": {},
   "source": [
    "We will remove the NaN's resulting from the GMA calculation"
   ]
  },
  {
   "cell_type": "code",
   "execution_count": 10,
   "metadata": {
    "colab": {},
    "colab_type": "code",
    "id": "ZpuuXTWnXXU8"
   },
   "outputs": [
    {
     "output_type": "execute_result",
     "data": {
      "text/plain": "                  PG       TRV         V       NKE       MMM        GS  \\\nDate                                                                     \n2018-11-07  0.003741  0.007926  0.005460  0.002990  0.009161  0.003735   \n2018-11-08  0.003895  0.009019  0.006083  0.002501  0.011914  0.004056   \n2018-11-09  0.005686  0.009566  0.005777 -0.000673  0.008312 -0.006387   \n2018-11-12  0.003252  0.000661 -0.000295 -0.006459  0.003708 -0.021456   \n2018-11-13  0.004226 -0.002917 -0.001700 -0.003700  0.002947 -0.021964   \n\n                 MRK       WBA       DIS       CAT  ...        KO       IBM  \\\nDate                                                ...                       \n2018-11-07  0.005220  0.004937  0.001612  0.015900  ...  0.006704  0.013121   \n2018-11-08  0.006286  0.007304 -0.000200  0.010178  ...  0.006541  0.013302   \n2018-11-09  0.006986  0.008707  0.004799  0.001333  ...  0.006868  0.015599   \n2018-11-12  0.004191  0.005592  0.002094 -0.002702  ...  0.004784  0.003804   \n2018-11-13  0.003455  0.004291  0.000189 -0.005681  ...  0.003027 -0.001273   \n\n                 XOM        HD       UNH       AXP       MCD       JNJ  \\\nDate                                                                     \n2018-11-07  0.005740  0.007297  0.010111  0.006139  0.010417  0.005485   \n2018-11-08  0.002496  0.008123  0.011587  0.008348  0.011758  0.006247   \n2018-11-09 -0.000681  0.006539  0.011452  0.008580  0.010119  0.006502   \n2018-11-12 -0.002524 -0.003272  0.008359  0.002333  0.004339  0.004739   \n2018-11-13 -0.008041 -0.003553  0.004065  0.005323  0.001399  0.002914   \n\n                  VZ      CSCO  \nDate                            \n2018-11-07  0.005618  0.009553  \n2018-11-08  0.007761  0.011807  \n2018-11-09  0.006352  0.006862  \n2018-11-12  0.005204 -0.002553  \n2018-11-13  0.004998 -0.006301  \n\n[5 rows x 29 columns]",
      "text/html": "<div>\n<style scoped>\n    .dataframe tbody tr th:only-of-type {\n        vertical-align: middle;\n    }\n\n    .dataframe tbody tr th {\n        vertical-align: top;\n    }\n\n    .dataframe thead th {\n        text-align: right;\n    }\n</style>\n<table border=\"1\" class=\"dataframe\">\n  <thead>\n    <tr style=\"text-align: right;\">\n      <th></th>\n      <th>PG</th>\n      <th>TRV</th>\n      <th>V</th>\n      <th>NKE</th>\n      <th>MMM</th>\n      <th>GS</th>\n      <th>MRK</th>\n      <th>WBA</th>\n      <th>DIS</th>\n      <th>CAT</th>\n      <th>...</th>\n      <th>KO</th>\n      <th>IBM</th>\n      <th>XOM</th>\n      <th>HD</th>\n      <th>UNH</th>\n      <th>AXP</th>\n      <th>MCD</th>\n      <th>JNJ</th>\n      <th>VZ</th>\n      <th>CSCO</th>\n    </tr>\n    <tr>\n      <th>Date</th>\n      <th></th>\n      <th></th>\n      <th></th>\n      <th></th>\n      <th></th>\n      <th></th>\n      <th></th>\n      <th></th>\n      <th></th>\n      <th></th>\n      <th></th>\n      <th></th>\n      <th></th>\n      <th></th>\n      <th></th>\n      <th></th>\n      <th></th>\n      <th></th>\n      <th></th>\n      <th></th>\n      <th></th>\n    </tr>\n  </thead>\n  <tbody>\n    <tr>\n      <th>2018-11-07</th>\n      <td>0.003741</td>\n      <td>0.007926</td>\n      <td>0.005460</td>\n      <td>0.002990</td>\n      <td>0.009161</td>\n      <td>0.003735</td>\n      <td>0.005220</td>\n      <td>0.004937</td>\n      <td>0.001612</td>\n      <td>0.015900</td>\n      <td>...</td>\n      <td>0.006704</td>\n      <td>0.013121</td>\n      <td>0.005740</td>\n      <td>0.007297</td>\n      <td>0.010111</td>\n      <td>0.006139</td>\n      <td>0.010417</td>\n      <td>0.005485</td>\n      <td>0.005618</td>\n      <td>0.009553</td>\n    </tr>\n    <tr>\n      <th>2018-11-08</th>\n      <td>0.003895</td>\n      <td>0.009019</td>\n      <td>0.006083</td>\n      <td>0.002501</td>\n      <td>0.011914</td>\n      <td>0.004056</td>\n      <td>0.006286</td>\n      <td>0.007304</td>\n      <td>-0.000200</td>\n      <td>0.010178</td>\n      <td>...</td>\n      <td>0.006541</td>\n      <td>0.013302</td>\n      <td>0.002496</td>\n      <td>0.008123</td>\n      <td>0.011587</td>\n      <td>0.008348</td>\n      <td>0.011758</td>\n      <td>0.006247</td>\n      <td>0.007761</td>\n      <td>0.011807</td>\n    </tr>\n    <tr>\n      <th>2018-11-09</th>\n      <td>0.005686</td>\n      <td>0.009566</td>\n      <td>0.005777</td>\n      <td>-0.000673</td>\n      <td>0.008312</td>\n      <td>-0.006387</td>\n      <td>0.006986</td>\n      <td>0.008707</td>\n      <td>0.004799</td>\n      <td>0.001333</td>\n      <td>...</td>\n      <td>0.006868</td>\n      <td>0.015599</td>\n      <td>-0.000681</td>\n      <td>0.006539</td>\n      <td>0.011452</td>\n      <td>0.008580</td>\n      <td>0.010119</td>\n      <td>0.006502</td>\n      <td>0.006352</td>\n      <td>0.006862</td>\n    </tr>\n    <tr>\n      <th>2018-11-12</th>\n      <td>0.003252</td>\n      <td>0.000661</td>\n      <td>-0.000295</td>\n      <td>-0.006459</td>\n      <td>0.003708</td>\n      <td>-0.021456</td>\n      <td>0.004191</td>\n      <td>0.005592</td>\n      <td>0.002094</td>\n      <td>-0.002702</td>\n      <td>...</td>\n      <td>0.004784</td>\n      <td>0.003804</td>\n      <td>-0.002524</td>\n      <td>-0.003272</td>\n      <td>0.008359</td>\n      <td>0.002333</td>\n      <td>0.004339</td>\n      <td>0.004739</td>\n      <td>0.005204</td>\n      <td>-0.002553</td>\n    </tr>\n    <tr>\n      <th>2018-11-13</th>\n      <td>0.004226</td>\n      <td>-0.002917</td>\n      <td>-0.001700</td>\n      <td>-0.003700</td>\n      <td>0.002947</td>\n      <td>-0.021964</td>\n      <td>0.003455</td>\n      <td>0.004291</td>\n      <td>0.000189</td>\n      <td>-0.005681</td>\n      <td>...</td>\n      <td>0.003027</td>\n      <td>-0.001273</td>\n      <td>-0.008041</td>\n      <td>-0.003553</td>\n      <td>0.004065</td>\n      <td>0.005323</td>\n      <td>0.001399</td>\n      <td>0.002914</td>\n      <td>0.004998</td>\n      <td>-0.006301</td>\n    </tr>\n  </tbody>\n</table>\n<p>5 rows × 29 columns</p>\n</div>"
     },
     "metadata": {},
     "execution_count": 10
    }
   ],
   "source": [
    "instruments_gmean_5d.dropna(inplace=True)\n",
    "instruments_gmean_5d.head()"
   ]
  },
  {
   "cell_type": "code",
   "execution_count": 11,
   "metadata": {},
   "outputs": [
    {
     "output_type": "execute_result",
     "data": {
      "text/plain": "               Close\nDate                \n2018-11-07  0.006167\n2018-11-08  0.006251\n2018-11-09  0.005563\n2018-11-12 -0.000696\n2018-11-13 -0.002826",
      "text/html": "<div>\n<style scoped>\n    .dataframe tbody tr th:only-of-type {\n        vertical-align: middle;\n    }\n\n    .dataframe tbody tr th {\n        vertical-align: top;\n    }\n\n    .dataframe thead th {\n        text-align: right;\n    }\n</style>\n<table border=\"1\" class=\"dataframe\">\n  <thead>\n    <tr style=\"text-align: right;\">\n      <th></th>\n      <th>Close</th>\n    </tr>\n    <tr>\n      <th>Date</th>\n      <th></th>\n    </tr>\n  </thead>\n  <tbody>\n    <tr>\n      <th>2018-11-07</th>\n      <td>0.006167</td>\n    </tr>\n    <tr>\n      <th>2018-11-08</th>\n      <td>0.006251</td>\n    </tr>\n    <tr>\n      <th>2018-11-09</th>\n      <td>0.005563</td>\n    </tr>\n    <tr>\n      <th>2018-11-12</th>\n      <td>-0.000696</td>\n    </tr>\n    <tr>\n      <th>2018-11-13</th>\n      <td>-0.002826</td>\n    </tr>\n  </tbody>\n</table>\n</div>"
     },
     "metadata": {},
     "execution_count": 11
    }
   ],
   "source": [
    "target_gmean_5d.dropna(inplace=True)\n",
    "target_gmean_5d.head()"
   ]
  },
  {
   "cell_type": "markdown",
   "metadata": {
    "colab_type": "text",
    "id": "IVTw94hjbWeb"
   },
   "source": [
    "## Create the simulated training and test sets\n",
    "The geometric moving average dataset only contains data for 423 stocks. We will use stochastic simulation to augment the dataset.\n",
    "\n",
    "The goal is not to model exactly the behavior of the geometric moving average time series of a given stock. We want the model to be trained on time series that are similar to a typical geometric moving average curve but without learning the specificities of the reference stock market dataset.\n",
    "\n",
    "### Divide in two time periods\n",
    "The dataframe just built can be divided in two time periods of equal length, transposing the one for the first period only"
   ]
  },
  {
   "cell_type": "code",
   "execution_count": 12,
   "metadata": {
    "colab": {},
    "colab_type": "code",
    "id": "pSC9iMiLbbke"
   },
   "outputs": [
    {
     "output_type": "stream",
     "name": "stdout",
     "text": "len(geoMA_5d_stocks_p1) = 175\nlen(geoMA_5d_stocks_p2) = 175\n"
    },
    {
     "output_type": "execute_result",
     "data": {
      "text/plain": "Date  2018-11-07  2018-11-08  2018-11-09  2018-11-12  2018-11-13  2018-11-14  \\\nPG      0.003741    0.003895    0.005686    0.003252    0.004226    0.004753   \nTRV     0.007926    0.009019    0.009566    0.000661   -0.002917   -0.011562   \nV       0.005460    0.006083    0.005777   -0.000295   -0.001700   -0.007515   \nNKE     0.002990    0.002501   -0.000673   -0.006459   -0.003700   -0.007271   \nMMM     0.009161    0.011914    0.008312    0.003708    0.002947   -0.003317   \n\nDate  2018-11-15  2018-11-16  2018-11-19  2018-11-20  ...  2019-07-09  \\\nPG      0.005327    0.003024    0.001258   -0.002970  ...    0.004259   \nTRV    -0.008615   -0.003767    0.005204    0.002206  ...    0.002648   \nV      -0.004487   -0.005046   -0.007053   -0.009121  ...    0.004298   \nNKE    -0.009108   -0.004324   -0.007076   -0.011241  ...    0.006017   \nMMM     0.000640    0.007536    0.008336    0.001905  ...   -0.010411   \n\nDate  2019-07-10  2019-07-11  2019-07-12  2019-07-15  2019-07-16  2019-07-17  \\\nPG      0.003958    0.000494    0.003204    0.002472    0.005209    0.003812   \nTRV     0.000643   -0.002440   -0.000919    0.001319    0.001465   -0.001279   \nV       0.004532    0.004316    0.004098    0.004901    0.001752   -0.000191   \nNKE     0.005702    0.004746    0.005182    0.002223    0.001235    0.000092   \nMMM    -0.009854   -0.007023    0.001380    0.004131    0.012550    0.010442   \n\nDate  2019-07-18  2019-07-19  2019-07-22  \nPG      0.003134    0.001322    0.000976  \nTRV     0.000333   -0.004212   -0.006753  \nV      -0.000244   -0.001228   -0.000021  \nNKE    -0.001969   -0.005873   -0.008012  \nMMM     0.004586   -0.000908    0.001997  \n\n[5 rows x 175 columns]",
      "text/html": "<div>\n<style scoped>\n    .dataframe tbody tr th:only-of-type {\n        vertical-align: middle;\n    }\n\n    .dataframe tbody tr th {\n        vertical-align: top;\n    }\n\n    .dataframe thead th {\n        text-align: right;\n    }\n</style>\n<table border=\"1\" class=\"dataframe\">\n  <thead>\n    <tr style=\"text-align: right;\">\n      <th>Date</th>\n      <th>2018-11-07</th>\n      <th>2018-11-08</th>\n      <th>2018-11-09</th>\n      <th>2018-11-12</th>\n      <th>2018-11-13</th>\n      <th>2018-11-14</th>\n      <th>2018-11-15</th>\n      <th>2018-11-16</th>\n      <th>2018-11-19</th>\n      <th>2018-11-20</th>\n      <th>...</th>\n      <th>2019-07-09</th>\n      <th>2019-07-10</th>\n      <th>2019-07-11</th>\n      <th>2019-07-12</th>\n      <th>2019-07-15</th>\n      <th>2019-07-16</th>\n      <th>2019-07-17</th>\n      <th>2019-07-18</th>\n      <th>2019-07-19</th>\n      <th>2019-07-22</th>\n    </tr>\n  </thead>\n  <tbody>\n    <tr>\n      <th>PG</th>\n      <td>0.003741</td>\n      <td>0.003895</td>\n      <td>0.005686</td>\n      <td>0.003252</td>\n      <td>0.004226</td>\n      <td>0.004753</td>\n      <td>0.005327</td>\n      <td>0.003024</td>\n      <td>0.001258</td>\n      <td>-0.002970</td>\n      <td>...</td>\n      <td>0.004259</td>\n      <td>0.003958</td>\n      <td>0.000494</td>\n      <td>0.003204</td>\n      <td>0.002472</td>\n      <td>0.005209</td>\n      <td>0.003812</td>\n      <td>0.003134</td>\n      <td>0.001322</td>\n      <td>0.000976</td>\n    </tr>\n    <tr>\n      <th>TRV</th>\n      <td>0.007926</td>\n      <td>0.009019</td>\n      <td>0.009566</td>\n      <td>0.000661</td>\n      <td>-0.002917</td>\n      <td>-0.011562</td>\n      <td>-0.008615</td>\n      <td>-0.003767</td>\n      <td>0.005204</td>\n      <td>0.002206</td>\n      <td>...</td>\n      <td>0.002648</td>\n      <td>0.000643</td>\n      <td>-0.002440</td>\n      <td>-0.000919</td>\n      <td>0.001319</td>\n      <td>0.001465</td>\n      <td>-0.001279</td>\n      <td>0.000333</td>\n      <td>-0.004212</td>\n      <td>-0.006753</td>\n    </tr>\n    <tr>\n      <th>V</th>\n      <td>0.005460</td>\n      <td>0.006083</td>\n      <td>0.005777</td>\n      <td>-0.000295</td>\n      <td>-0.001700</td>\n      <td>-0.007515</td>\n      <td>-0.004487</td>\n      <td>-0.005046</td>\n      <td>-0.007053</td>\n      <td>-0.009121</td>\n      <td>...</td>\n      <td>0.004298</td>\n      <td>0.004532</td>\n      <td>0.004316</td>\n      <td>0.004098</td>\n      <td>0.004901</td>\n      <td>0.001752</td>\n      <td>-0.000191</td>\n      <td>-0.000244</td>\n      <td>-0.001228</td>\n      <td>-0.000021</td>\n    </tr>\n    <tr>\n      <th>NKE</th>\n      <td>0.002990</td>\n      <td>0.002501</td>\n      <td>-0.000673</td>\n      <td>-0.006459</td>\n      <td>-0.003700</td>\n      <td>-0.007271</td>\n      <td>-0.009108</td>\n      <td>-0.004324</td>\n      <td>-0.007076</td>\n      <td>-0.011241</td>\n      <td>...</td>\n      <td>0.006017</td>\n      <td>0.005702</td>\n      <td>0.004746</td>\n      <td>0.005182</td>\n      <td>0.002223</td>\n      <td>0.001235</td>\n      <td>0.000092</td>\n      <td>-0.001969</td>\n      <td>-0.005873</td>\n      <td>-0.008012</td>\n    </tr>\n    <tr>\n      <th>MMM</th>\n      <td>0.009161</td>\n      <td>0.011914</td>\n      <td>0.008312</td>\n      <td>0.003708</td>\n      <td>0.002947</td>\n      <td>-0.003317</td>\n      <td>0.000640</td>\n      <td>0.007536</td>\n      <td>0.008336</td>\n      <td>0.001905</td>\n      <td>...</td>\n      <td>-0.010411</td>\n      <td>-0.009854</td>\n      <td>-0.007023</td>\n      <td>0.001380</td>\n      <td>0.004131</td>\n      <td>0.012550</td>\n      <td>0.010442</td>\n      <td>0.004586</td>\n      <td>-0.000908</td>\n      <td>0.001997</td>\n    </tr>\n  </tbody>\n</table>\n<p>5 rows × 175 columns</p>\n</div>"
     },
     "metadata": {},
     "execution_count": 12
    }
   ],
   "source": [
    "geoMA_5d_stocks_p1 = instruments_gmean_5d.head(int(len(instruments_gmean_5d)/2))\n",
    "geoMA_5d_stocks_p2 = instruments_gmean_5d.tail(int(len(instruments_gmean_5d)/2))\n",
    "print('len(geoMA_5d_stocks_p1) =', len(geoMA_5d_stocks_p1))\n",
    "print('len(geoMA_5d_stocks_p2) =', len(geoMA_5d_stocks_p2))\n",
    "geoMA_5d_stocks_p1_T = geoMA_5d_stocks_p1.T\n",
    "geoMA_5d_stocks_p1_T.head()\n",
    ""
   ]
  },
  {
   "cell_type": "markdown",
   "metadata": {
    "colab_type": "text",
    "id": "hGd7dgtkefuL"
   },
   "source": [
    "## Create synthetic time series using stochastic simulation\n",
    "We will use stochastic simulation to generate synthetic geometric moving average curves. The objective is not to precisely model returns but to obtain curves with a behavior similar to real data. By training the model with only simulated curves we can keep the real data to obtain the predictions. The synthetic curves are generated using Geometric Brownian Motion."
   ]
  },
  {
   "cell_type": "markdown",
   "metadata": {
    "colab_type": "text",
    "id": "dFZ6or6ieq_x"
   },
   "source": [
    "The modeling of the geometric moving average time series will be done using geometric brownian motion ***S(t)*** defined by:\n",
    "$$ \\large S(t) = S_0\\exp^{X(t)} $$\n",
    "where: $$ X_t = logreturns(t) = ln(S_{t}\\div S_{t-1})$$\n",
    "\n"
   ]
  },
  {
   "cell_type": "markdown",
   "metadata": {
    "colab_type": "text",
    "id": "vVX2mVL22OPl"
   },
   "source": [
    "For each stock, ***logreturns(t)*** is randomly selected following the following steps:\n",
    "\n",
    "1.   Calculate a vector of log returns over the two time periods (using ***geoMA_5d_stocks_T***)\n",
    "2.   Randomly select one log returns from the existing vector calculated in step 1\n",
    "\n",
    "1.   Construct a generated path using: $ S_t = S_0\\exp{logreturns(t)}$ $\\forall$ $t>=1$\n",
    "\n",
    "\n",
    "\n",
    "\n",
    "\n",
    "\n",
    "\n",
    "\n"
   ]
  },
  {
   "cell_type": "markdown",
   "metadata": {
    "colab_type": "text",
    "id": "bbKOFDP77gsZ"
   },
   "source": [
    "We will randomly select 100 stocks and generate 100 simulated paths for each stock. This will allow us to obtain 10,000 geometric moving average series."
   ]
  },
  {
   "cell_type": "markdown",
   "metadata": {
    "colab_type": "text",
    "id": "BApWCZ7M2LxO"
   },
   "source": [
    "For more on the geometric brownian motion process, see: http://www.columbia.edu/~ks20/FE-Notes/4700-07-Notes-GBM.pdf."
   ]
  },
  {
   "cell_type": "code",
   "execution_count": 13,
   "metadata": {
    "colab": {},
    "colab_type": "code",
    "id": "BTBBSZ2peYMe"
   },
   "outputs": [],
   "source": [
    "n_simpath_per_ticker = 100\n",
    "n_tickers_selected = 100 # We will select 100 random tickers without replacement from the NYSE dataframe\n",
    "random_tickers_selected = np.random.choice(len(geoMA_5d_stocks_p1_T), n_tickers_selected)\n",
    "n_rows_sim_paths_matrix = n_tickers_selected * n_simpath_per_ticker\n",
    "sim_paths_matrix  = np.zeros((n_rows_sim_paths_matrix, len(geoMA_5d_stocks_p1_T.iloc[0])))\n",
    "for i in range(len(random_tickers_selected)):\n",
    "#for i in range(2):\n",
    "  random_index = random_tickers_selected[i]\n",
    "  #print(random_index)\n",
    "  rd_stock_logReturns = np.diff(np.log(geoMA_5d_stocks_p1_T.iloc[random_index]))\n",
    "  for j in range(n_simpath_per_ticker):\n",
    "    sim_path = np.zeros(len(geoMA_5d_stocks_p1_T.iloc[random_index]))\n",
    "    sim_path[0] = geoMA_5d_stocks_p1_T.iloc[random_index][0]\n",
    "    for k in range(1,len(sim_path)):\n",
    "      sim_path[k] = sim_path[0]*np.exp(rd_stock_logReturns[np.random.randint(0, len(rd_stock_logReturns))])\n",
    "    sim_paths_matrix[i*100+j] = sim_path"
   ]
  },
  {
   "cell_type": "markdown",
   "metadata": {},
   "source": [
    "Here is a sample of a simulated curve and a real curve:\n",
    "\n",
    "We have expanded a dataset to 100*100 = 10,000 new time series similar (but not equal) to the stock dataset. This will allow us to keep the actual stock dataset universe for predictions and not even have to use it for the validation.\n"
   ]
  },
  {
   "cell_type": "code",
   "execution_count": 14,
   "metadata": {
    "colab": {
     "base_uri": "https://localhost:8080/",
     "height": 362
    },
    "colab_type": "code",
    "executionInfo": {
     "elapsed": 1026,
     "status": "ok",
     "timestamp": 1554396847812,
     "user": {
      "displayName": "Marie Imokoyende",
      "photoUrl": "",
      "userId": "13592623342127678396"
     },
     "user_tz": 240
    },
    "id": "tHL6cLuLYKic",
    "outputId": "83755b7d-0248-4fcf-e183-1e5d35a38cec"
   },
   "outputs": [
    {
     "output_type": "display_data",
     "data": {
      "text/plain": "<Figure size 432x288 with 1 Axes>",
      "image/svg+xml": "<?xml version=\"1.0\" encoding=\"utf-8\" standalone=\"no\"?>\n<!DOCTYPE svg PUBLIC \"-//W3C//DTD SVG 1.1//EN\"\n  \"http://www.w3.org/Graphics/SVG/1.1/DTD/svg11.dtd\">\n<!-- Created with matplotlib (https://matplotlib.org/) -->\n<svg height=\"268.015016pt\" version=\"1.1\" viewBox=\"0 0 408.140316 268.015016\" width=\"408.140316pt\" xmlns=\"http://www.w3.org/2000/svg\" xmlns:xlink=\"http://www.w3.org/1999/xlink\">\n <defs>\n  <style type=\"text/css\">\n*{stroke-linecap:butt;stroke-linejoin:round;}\n  </style>\n </defs>\n <g id=\"figure_1\">\n  <g id=\"patch_1\">\n   <path d=\"M 0 268.015016 \nL 408.140316 268.015016 \nL 408.140316 0 \nL 0 0 \nz\n\" style=\"fill:none;\"/>\n  </g>\n  <g id=\"axes_1\">\n   <g id=\"patch_2\">\n    <path d=\"M 47.314891 240.249187 \nL 382.114891 240.249187 \nL 382.114891 22.809187 \nL 47.314891 22.809187 \nz\n\" style=\"fill:#ffffff;\"/>\n   </g>\n   <g id=\"matplotlib.axis_1\">\n    <g id=\"xtick_1\">\n     <g id=\"line2d_1\">\n      <path clip-path=\"url(#p1f5f97db70)\" d=\"M 55.427307 240.249187 \nL 55.427307 22.809187 \n\" style=\"fill:none;stroke:#dddddd;stroke-linecap:round;stroke-width:0.5;\"/>\n     </g>\n     <g id=\"text_1\">\n      <!-- 2018-11 -->\n      <defs>\n       <path d=\"M 50.34375 8.453125 \nL 50.34375 0 \nL 3.03125 0 \nQ 2.9375 3.171875 4.046875 6.109375 \nQ 5.859375 10.9375 9.828125 15.625 \nQ 13.8125 20.3125 21.34375 26.46875 \nQ 33.015625 36.03125 37.109375 41.625 \nQ 41.21875 47.21875 41.21875 52.203125 \nQ 41.21875 57.421875 37.46875 61 \nQ 33.734375 64.59375 27.734375 64.59375 \nQ 21.390625 64.59375 17.578125 60.78125 \nQ 13.765625 56.984375 13.71875 50.25 \nL 4.6875 51.171875 \nQ 5.609375 61.28125 11.65625 66.578125 \nQ 17.71875 71.875 27.9375 71.875 \nQ 38.234375 71.875 44.234375 66.15625 \nQ 50.25 60.453125 50.25 52 \nQ 50.25 47.703125 48.484375 43.546875 \nQ 46.734375 39.40625 42.65625 34.8125 \nQ 38.578125 30.21875 29.109375 22.21875 \nQ 21.1875 15.578125 18.9375 13.203125 \nQ 16.703125 10.84375 15.234375 8.453125 \nz\n\" id=\"ArialMT-50\"/>\n       <path d=\"M 4.15625 35.296875 \nQ 4.15625 48 6.765625 55.734375 \nQ 9.375 63.484375 14.515625 67.671875 \nQ 19.671875 71.875 27.484375 71.875 \nQ 33.25 71.875 37.59375 69.546875 \nQ 41.9375 67.234375 44.765625 62.859375 \nQ 47.609375 58.5 49.21875 52.21875 \nQ 50.828125 45.953125 50.828125 35.296875 \nQ 50.828125 22.703125 48.234375 14.96875 \nQ 45.65625 7.234375 40.5 3 \nQ 35.359375 -1.21875 27.484375 -1.21875 \nQ 17.140625 -1.21875 11.234375 6.203125 \nQ 4.15625 15.140625 4.15625 35.296875 \nz\nM 13.1875 35.296875 \nQ 13.1875 17.671875 17.3125 11.828125 \nQ 21.4375 6 27.484375 6 \nQ 33.546875 6 37.671875 11.859375 \nQ 41.796875 17.71875 41.796875 35.296875 \nQ 41.796875 52.984375 37.671875 58.78125 \nQ 33.546875 64.59375 27.390625 64.59375 \nQ 21.34375 64.59375 17.71875 59.46875 \nQ 13.1875 52.9375 13.1875 35.296875 \nz\n\" id=\"ArialMT-48\"/>\n       <path d=\"M 37.25 0 \nL 28.46875 0 \nL 28.46875 56 \nQ 25.296875 52.984375 20.140625 49.953125 \nQ 14.984375 46.921875 10.890625 45.40625 \nL 10.890625 53.90625 \nQ 18.265625 57.375 23.78125 62.296875 \nQ 29.296875 67.234375 31.59375 71.875 \nL 37.25 71.875 \nz\n\" id=\"ArialMT-49\"/>\n       <path d=\"M 17.671875 38.8125 \nQ 12.203125 40.828125 9.5625 44.53125 \nQ 6.9375 48.25 6.9375 53.421875 \nQ 6.9375 61.234375 12.546875 66.546875 \nQ 18.171875 71.875 27.484375 71.875 \nQ 36.859375 71.875 42.578125 66.421875 \nQ 48.296875 60.984375 48.296875 53.171875 \nQ 48.296875 48.1875 45.671875 44.5 \nQ 43.0625 40.828125 37.75 38.8125 \nQ 44.34375 36.671875 47.78125 31.875 \nQ 51.21875 27.09375 51.21875 20.453125 \nQ 51.21875 11.28125 44.71875 5.03125 \nQ 38.234375 -1.21875 27.640625 -1.21875 \nQ 17.046875 -1.21875 10.546875 5.046875 \nQ 4.046875 11.328125 4.046875 20.703125 \nQ 4.046875 27.6875 7.59375 32.390625 \nQ 11.140625 37.109375 17.671875 38.8125 \nz\nM 15.921875 53.71875 \nQ 15.921875 48.640625 19.1875 45.40625 \nQ 22.46875 42.1875 27.6875 42.1875 \nQ 32.765625 42.1875 36.015625 45.375 \nQ 39.265625 48.578125 39.265625 53.21875 \nQ 39.265625 58.0625 35.90625 61.359375 \nQ 32.5625 64.65625 27.59375 64.65625 \nQ 22.5625 64.65625 19.234375 61.421875 \nQ 15.921875 58.203125 15.921875 53.71875 \nz\nM 13.09375 20.65625 \nQ 13.09375 16.890625 14.875 13.375 \nQ 16.65625 9.859375 20.171875 7.921875 \nQ 23.6875 6 27.734375 6 \nQ 34.03125 6 38.125 10.046875 \nQ 42.234375 14.109375 42.234375 20.359375 \nQ 42.234375 26.703125 38.015625 30.859375 \nQ 33.796875 35.015625 27.4375 35.015625 \nQ 21.234375 35.015625 17.15625 30.90625 \nQ 13.09375 26.8125 13.09375 20.65625 \nz\n\" id=\"ArialMT-56\"/>\n       <path d=\"M 3.171875 21.484375 \nL 3.171875 30.328125 \nL 30.171875 30.328125 \nL 30.171875 21.484375 \nz\n\" id=\"ArialMT-45\"/>\n      </defs>\n      <g style=\"fill:#666666;\" transform=\"translate(33.23326 258.410141)scale(0.121 -0.121)\">\n       <use xlink:href=\"#ArialMT-50\"/>\n       <use x=\"55.615234\" xlink:href=\"#ArialMT-48\"/>\n       <use x=\"111.230469\" xlink:href=\"#ArialMT-49\"/>\n       <use x=\"166.845703\" xlink:href=\"#ArialMT-56\"/>\n       <use x=\"222.460938\" xlink:href=\"#ArialMT-45\"/>\n       <use x=\"255.761719\" xlink:href=\"#ArialMT-49\"/>\n       <use x=\"311.267578\" xlink:href=\"#ArialMT-49\"/>\n      </g>\n     </g>\n    </g>\n    <g id=\"xtick_2\">\n     <g id=\"line2d_2\">\n      <path clip-path=\"url(#p1f5f97db70)\" d=\"M 90.956136 240.249187 \nL 90.956136 22.809187 \n\" style=\"fill:none;stroke:#dddddd;stroke-linecap:round;stroke-width:0.5;\"/>\n     </g>\n     <g id=\"text_2\">\n      <!-- 2018-12 -->\n      <g style=\"fill:#666666;\" transform=\"translate(68.755472 258.410141)scale(0.121 -0.121)\">\n       <use xlink:href=\"#ArialMT-50\"/>\n       <use x=\"55.615234\" xlink:href=\"#ArialMT-48\"/>\n       <use x=\"111.230469\" xlink:href=\"#ArialMT-49\"/>\n       <use x=\"166.845703\" xlink:href=\"#ArialMT-56\"/>\n       <use x=\"222.460938\" xlink:href=\"#ArialMT-45\"/>\n       <use x=\"255.761719\" xlink:href=\"#ArialMT-49\"/>\n       <use x=\"311.376953\" xlink:href=\"#ArialMT-50\"/>\n      </g>\n     </g>\n    </g>\n    <g id=\"xtick_3\">\n     <g id=\"line2d_3\">\n      <path clip-path=\"url(#p1f5f97db70)\" d=\"M 127.669259 240.249187 \nL 127.669259 22.809187 \n\" style=\"fill:none;stroke:#dddddd;stroke-linecap:round;stroke-width:0.5;\"/>\n     </g>\n     <g id=\"text_3\">\n      <!-- 2019-01 -->\n      <defs>\n       <path d=\"M 5.46875 16.546875 \nL 13.921875 17.328125 \nQ 14.984375 11.375 18.015625 8.6875 \nQ 21.046875 6 25.78125 6 \nQ 29.828125 6 32.875 7.859375 \nQ 35.9375 9.71875 37.890625 12.8125 \nQ 39.84375 15.921875 41.15625 21.1875 \nQ 42.484375 26.46875 42.484375 31.9375 \nQ 42.484375 32.515625 42.4375 33.6875 \nQ 39.796875 29.5 35.234375 26.875 \nQ 30.671875 24.265625 25.34375 24.265625 \nQ 16.453125 24.265625 10.296875 30.703125 \nQ 4.15625 37.15625 4.15625 47.703125 \nQ 4.15625 58.59375 10.578125 65.234375 \nQ 17 71.875 26.65625 71.875 \nQ 33.640625 71.875 39.421875 68.109375 \nQ 45.21875 64.359375 48.21875 57.390625 \nQ 51.21875 50.4375 51.21875 37.25 \nQ 51.21875 23.53125 48.234375 15.40625 \nQ 45.265625 7.28125 39.375 3.03125 \nQ 33.5 -1.21875 25.59375 -1.21875 \nQ 17.1875 -1.21875 11.859375 3.4375 \nQ 6.546875 8.109375 5.46875 16.546875 \nz\nM 41.453125 48.140625 \nQ 41.453125 55.71875 37.421875 60.15625 \nQ 33.40625 64.59375 27.734375 64.59375 \nQ 21.875 64.59375 17.53125 59.8125 \nQ 13.1875 55.03125 13.1875 47.40625 \nQ 13.1875 40.578125 17.3125 36.296875 \nQ 21.4375 32.03125 27.484375 32.03125 \nQ 33.59375 32.03125 37.515625 36.296875 \nQ 41.453125 40.578125 41.453125 48.140625 \nz\n\" id=\"ArialMT-57\"/>\n      </defs>\n      <g style=\"fill:#666666;\" transform=\"translate(105.468595 258.410141)scale(0.121 -0.121)\">\n       <use xlink:href=\"#ArialMT-50\"/>\n       <use x=\"55.615234\" xlink:href=\"#ArialMT-48\"/>\n       <use x=\"111.230469\" xlink:href=\"#ArialMT-49\"/>\n       <use x=\"166.845703\" xlink:href=\"#ArialMT-57\"/>\n       <use x=\"222.460938\" xlink:href=\"#ArialMT-45\"/>\n       <use x=\"255.761719\" xlink:href=\"#ArialMT-48\"/>\n       <use x=\"311.376953\" xlink:href=\"#ArialMT-49\"/>\n      </g>\n     </g>\n    </g>\n    <g id=\"xtick_4\">\n     <g id=\"line2d_4\">\n      <path clip-path=\"url(#p1f5f97db70)\" d=\"M 164.382383 240.249187 \nL 164.382383 22.809187 \n\" style=\"fill:none;stroke:#dddddd;stroke-linecap:round;stroke-width:0.5;\"/>\n     </g>\n     <g id=\"text_4\">\n      <!-- 2019-02 -->\n      <g style=\"fill:#666666;\" transform=\"translate(142.181719 258.410141)scale(0.121 -0.121)\">\n       <use xlink:href=\"#ArialMT-50\"/>\n       <use x=\"55.615234\" xlink:href=\"#ArialMT-48\"/>\n       <use x=\"111.230469\" xlink:href=\"#ArialMT-49\"/>\n       <use x=\"166.845703\" xlink:href=\"#ArialMT-57\"/>\n       <use x=\"222.460938\" xlink:href=\"#ArialMT-45\"/>\n       <use x=\"255.761719\" xlink:href=\"#ArialMT-48\"/>\n       <use x=\"311.376953\" xlink:href=\"#ArialMT-50\"/>\n      </g>\n     </g>\n    </g>\n    <g id=\"xtick_5\">\n     <g id=\"line2d_5\">\n      <path clip-path=\"url(#p1f5f97db70)\" d=\"M 197.542623 240.249187 \nL 197.542623 22.809187 \n\" style=\"fill:none;stroke:#dddddd;stroke-linecap:round;stroke-width:0.5;\"/>\n     </g>\n     <g id=\"text_5\">\n      <!-- 2019-03 -->\n      <defs>\n       <path d=\"M 4.203125 18.890625 \nL 12.984375 20.0625 \nQ 14.5 12.59375 18.140625 9.296875 \nQ 21.78125 6 27 6 \nQ 33.203125 6 37.46875 10.296875 \nQ 41.75 14.59375 41.75 20.953125 \nQ 41.75 27 37.796875 30.921875 \nQ 33.84375 34.859375 27.734375 34.859375 \nQ 25.25 34.859375 21.53125 33.890625 \nL 22.515625 41.609375 \nQ 23.390625 41.5 23.921875 41.5 \nQ 29.546875 41.5 34.03125 44.421875 \nQ 38.53125 47.359375 38.53125 53.46875 \nQ 38.53125 58.296875 35.25 61.46875 \nQ 31.984375 64.65625 26.8125 64.65625 \nQ 21.6875 64.65625 18.265625 61.421875 \nQ 14.84375 58.203125 13.875 51.765625 \nL 5.078125 53.328125 \nQ 6.6875 62.15625 12.390625 67.015625 \nQ 18.109375 71.875 26.609375 71.875 \nQ 32.46875 71.875 37.390625 69.359375 \nQ 42.328125 66.84375 44.9375 62.5 \nQ 47.5625 58.15625 47.5625 53.265625 \nQ 47.5625 48.640625 45.0625 44.828125 \nQ 42.578125 41.015625 37.703125 38.765625 \nQ 44.046875 37.3125 47.5625 32.6875 \nQ 51.078125 28.078125 51.078125 21.140625 \nQ 51.078125 11.765625 44.234375 5.25 \nQ 37.40625 -1.265625 26.953125 -1.265625 \nQ 17.53125 -1.265625 11.296875 4.34375 \nQ 5.078125 9.96875 4.203125 18.890625 \nz\n\" id=\"ArialMT-51\"/>\n      </defs>\n      <g style=\"fill:#666666;\" transform=\"translate(175.341959 258.410141)scale(0.121 -0.121)\">\n       <use xlink:href=\"#ArialMT-50\"/>\n       <use x=\"55.615234\" xlink:href=\"#ArialMT-48\"/>\n       <use x=\"111.230469\" xlink:href=\"#ArialMT-49\"/>\n       <use x=\"166.845703\" xlink:href=\"#ArialMT-57\"/>\n       <use x=\"222.460938\" xlink:href=\"#ArialMT-45\"/>\n       <use x=\"255.761719\" xlink:href=\"#ArialMT-48\"/>\n       <use x=\"311.376953\" xlink:href=\"#ArialMT-51\"/>\n      </g>\n     </g>\n    </g>\n    <g id=\"xtick_6\">\n     <g id=\"line2d_6\">\n      <path clip-path=\"url(#p1f5f97db70)\" d=\"M 234.255747 240.249187 \nL 234.255747 22.809187 \n\" style=\"fill:none;stroke:#dddddd;stroke-linecap:round;stroke-width:0.5;\"/>\n     </g>\n     <g id=\"text_6\">\n      <!-- 2019-04 -->\n      <defs>\n       <path d=\"M 32.328125 0 \nL 32.328125 17.140625 \nL 1.265625 17.140625 \nL 1.265625 25.203125 \nL 33.9375 71.578125 \nL 41.109375 71.578125 \nL 41.109375 25.203125 \nL 50.78125 25.203125 \nL 50.78125 17.140625 \nL 41.109375 17.140625 \nL 41.109375 0 \nz\nM 32.328125 25.203125 \nL 32.328125 57.46875 \nL 9.90625 25.203125 \nz\n\" id=\"ArialMT-52\"/>\n      </defs>\n      <g style=\"fill:#666666;\" transform=\"translate(212.055083 258.410141)scale(0.121 -0.121)\">\n       <use xlink:href=\"#ArialMT-50\"/>\n       <use x=\"55.615234\" xlink:href=\"#ArialMT-48\"/>\n       <use x=\"111.230469\" xlink:href=\"#ArialMT-49\"/>\n       <use x=\"166.845703\" xlink:href=\"#ArialMT-57\"/>\n       <use x=\"222.460938\" xlink:href=\"#ArialMT-45\"/>\n       <use x=\"255.761719\" xlink:href=\"#ArialMT-48\"/>\n       <use x=\"311.376953\" xlink:href=\"#ArialMT-52\"/>\n      </g>\n     </g>\n    </g>\n    <g id=\"xtick_7\">\n     <g id=\"line2d_7\">\n      <path clip-path=\"url(#p1f5f97db70)\" d=\"M 269.784576 240.249187 \nL 269.784576 22.809187 \n\" style=\"fill:none;stroke:#dddddd;stroke-linecap:round;stroke-width:0.5;\"/>\n     </g>\n     <g id=\"text_7\">\n      <!-- 2019-05 -->\n      <defs>\n       <path d=\"M 4.15625 18.75 \nL 13.375 19.53125 \nQ 14.40625 12.796875 18.140625 9.390625 \nQ 21.875 6 27.15625 6 \nQ 33.5 6 37.890625 10.78125 \nQ 42.28125 15.578125 42.28125 23.484375 \nQ 42.28125 31 38.0625 35.34375 \nQ 33.84375 39.703125 27 39.703125 \nQ 22.75 39.703125 19.328125 37.765625 \nQ 15.921875 35.84375 13.96875 32.765625 \nL 5.71875 33.84375 \nL 12.640625 70.609375 \nL 48.25 70.609375 \nL 48.25 62.203125 \nL 19.671875 62.203125 \nL 15.828125 42.96875 \nQ 22.265625 47.46875 29.34375 47.46875 \nQ 38.71875 47.46875 45.15625 40.96875 \nQ 51.609375 34.46875 51.609375 24.265625 \nQ 51.609375 14.546875 45.953125 7.46875 \nQ 39.0625 -1.21875 27.15625 -1.21875 \nQ 17.390625 -1.21875 11.203125 4.25 \nQ 5.03125 9.71875 4.15625 18.75 \nz\n\" id=\"ArialMT-53\"/>\n      </defs>\n      <g style=\"fill:#666666;\" transform=\"translate(247.583912 258.410141)scale(0.121 -0.121)\">\n       <use xlink:href=\"#ArialMT-50\"/>\n       <use x=\"55.615234\" xlink:href=\"#ArialMT-48\"/>\n       <use x=\"111.230469\" xlink:href=\"#ArialMT-49\"/>\n       <use x=\"166.845703\" xlink:href=\"#ArialMT-57\"/>\n       <use x=\"222.460938\" xlink:href=\"#ArialMT-45\"/>\n       <use x=\"255.761719\" xlink:href=\"#ArialMT-48\"/>\n       <use x=\"311.376953\" xlink:href=\"#ArialMT-53\"/>\n      </g>\n     </g>\n    </g>\n    <g id=\"xtick_8\">\n     <g id=\"line2d_8\">\n      <path clip-path=\"url(#p1f5f97db70)\" d=\"M 306.497699 240.249187 \nL 306.497699 22.809187 \n\" style=\"fill:none;stroke:#dddddd;stroke-linecap:round;stroke-width:0.5;\"/>\n     </g>\n     <g id=\"text_8\">\n      <!-- 2019-06 -->\n      <defs>\n       <path d=\"M 49.75 54.046875 \nL 41.015625 53.375 \nQ 39.84375 58.546875 37.703125 60.890625 \nQ 34.125 64.65625 28.90625 64.65625 \nQ 24.703125 64.65625 21.53125 62.3125 \nQ 17.390625 59.28125 14.984375 53.46875 \nQ 12.59375 47.65625 12.5 36.921875 \nQ 15.671875 41.75 20.265625 44.09375 \nQ 24.859375 46.4375 29.890625 46.4375 \nQ 38.671875 46.4375 44.84375 39.96875 \nQ 51.03125 33.5 51.03125 23.25 \nQ 51.03125 16.5 48.125 10.71875 \nQ 45.21875 4.9375 40.140625 1.859375 \nQ 35.0625 -1.21875 28.609375 -1.21875 \nQ 17.625 -1.21875 10.6875 6.859375 \nQ 3.765625 14.9375 3.765625 33.5 \nQ 3.765625 54.25 11.421875 63.671875 \nQ 18.109375 71.875 29.4375 71.875 \nQ 37.890625 71.875 43.28125 67.140625 \nQ 48.6875 62.40625 49.75 54.046875 \nz\nM 13.875 23.1875 \nQ 13.875 18.65625 15.796875 14.5 \nQ 17.71875 10.359375 21.1875 8.171875 \nQ 24.65625 6 28.46875 6 \nQ 34.03125 6 38.03125 10.484375 \nQ 42.046875 14.984375 42.046875 22.703125 \nQ 42.046875 30.125 38.078125 34.390625 \nQ 34.125 38.671875 28.125 38.671875 \nQ 22.171875 38.671875 18.015625 34.390625 \nQ 13.875 30.125 13.875 23.1875 \nz\n\" id=\"ArialMT-54\"/>\n      </defs>\n      <g style=\"fill:#666666;\" transform=\"translate(284.297035 258.410141)scale(0.121 -0.121)\">\n       <use xlink:href=\"#ArialMT-50\"/>\n       <use x=\"55.615234\" xlink:href=\"#ArialMT-48\"/>\n       <use x=\"111.230469\" xlink:href=\"#ArialMT-49\"/>\n       <use x=\"166.845703\" xlink:href=\"#ArialMT-57\"/>\n       <use x=\"222.460938\" xlink:href=\"#ArialMT-45\"/>\n       <use x=\"255.761719\" xlink:href=\"#ArialMT-48\"/>\n       <use x=\"311.376953\" xlink:href=\"#ArialMT-54\"/>\n      </g>\n     </g>\n    </g>\n    <g id=\"xtick_9\">\n     <g id=\"line2d_9\">\n      <path clip-path=\"url(#p1f5f97db70)\" d=\"M 342.026528 240.249187 \nL 342.026528 22.809187 \n\" style=\"fill:none;stroke:#dddddd;stroke-linecap:round;stroke-width:0.5;\"/>\n     </g>\n     <g id=\"text_9\">\n      <!-- 2019-07 -->\n      <defs>\n       <path d=\"M 4.734375 62.203125 \nL 4.734375 70.65625 \nL 51.078125 70.65625 \nL 51.078125 63.8125 \nQ 44.234375 56.546875 37.515625 44.484375 \nQ 30.8125 32.421875 27.15625 19.671875 \nQ 24.515625 10.6875 23.78125 0 \nL 14.75 0 \nQ 14.890625 8.453125 18.0625 20.40625 \nQ 21.234375 32.375 27.171875 43.484375 \nQ 33.109375 54.59375 39.796875 62.203125 \nz\n\" id=\"ArialMT-55\"/>\n      </defs>\n      <g style=\"fill:#666666;\" transform=\"translate(319.825864 258.410141)scale(0.121 -0.121)\">\n       <use xlink:href=\"#ArialMT-50\"/>\n       <use x=\"55.615234\" xlink:href=\"#ArialMT-48\"/>\n       <use x=\"111.230469\" xlink:href=\"#ArialMT-49\"/>\n       <use x=\"166.845703\" xlink:href=\"#ArialMT-57\"/>\n       <use x=\"222.460938\" xlink:href=\"#ArialMT-45\"/>\n       <use x=\"255.761719\" xlink:href=\"#ArialMT-48\"/>\n       <use x=\"311.376953\" xlink:href=\"#ArialMT-55\"/>\n      </g>\n     </g>\n    </g>\n    <g id=\"xtick_10\">\n     <g id=\"line2d_10\">\n      <path clip-path=\"url(#p1f5f97db70)\" d=\"M 378.739652 240.249187 \nL 378.739652 22.809187 \n\" style=\"fill:none;stroke:#dddddd;stroke-linecap:round;stroke-width:0.5;\"/>\n     </g>\n     <g id=\"text_10\">\n      <!-- 2019-08 -->\n      <g style=\"fill:#666666;\" transform=\"translate(356.538988 258.410141)scale(0.121 -0.121)\">\n       <use xlink:href=\"#ArialMT-50\"/>\n       <use x=\"55.615234\" xlink:href=\"#ArialMT-48\"/>\n       <use x=\"111.230469\" xlink:href=\"#ArialMT-49\"/>\n       <use x=\"166.845703\" xlink:href=\"#ArialMT-57\"/>\n       <use x=\"222.460938\" xlink:href=\"#ArialMT-45\"/>\n       <use x=\"255.761719\" xlink:href=\"#ArialMT-48\"/>\n       <use x=\"311.376953\" xlink:href=\"#ArialMT-56\"/>\n      </g>\n     </g>\n    </g>\n   </g>\n   <g id=\"matplotlib.axis_2\">\n    <g id=\"ytick_1\">\n     <g id=\"line2d_11\">\n      <path clip-path=\"url(#p1f5f97db70)\" d=\"M 47.314891 238.330215 \nL 382.114891 238.330215 \n\" style=\"fill:none;stroke:#dddddd;stroke-linecap:round;stroke-width:0.5;\"/>\n     </g>\n     <g id=\"text_11\">\n      <!-- −0.02 -->\n      <defs>\n       <path d=\"M 52.828125 31.203125 \nL 5.5625 31.203125 \nL 5.5625 39.40625 \nL 52.828125 39.40625 \nz\n\" id=\"ArialMT-8722\"/>\n       <path d=\"M 9.078125 0 \nL 9.078125 10.015625 \nL 19.09375 10.015625 \nL 19.09375 0 \nz\n\" id=\"ArialMT-46\"/>\n      </defs>\n      <g style=\"fill:#666666;\" transform=\"translate(7.2 242.660692)scale(0.121 -0.121)\">\n       <use xlink:href=\"#ArialMT-8722\"/>\n       <use x=\"58.398438\" xlink:href=\"#ArialMT-48\"/>\n       <use x=\"114.013672\" xlink:href=\"#ArialMT-46\"/>\n       <use x=\"141.796875\" xlink:href=\"#ArialMT-48\"/>\n       <use x=\"197.412109\" xlink:href=\"#ArialMT-50\"/>\n      </g>\n     </g>\n    </g>\n    <g id=\"ytick_2\">\n     <g id=\"line2d_12\">\n      <path clip-path=\"url(#p1f5f97db70)\" d=\"M 47.314891 201.763775 \nL 382.114891 201.763775 \n\" style=\"fill:none;stroke:#dddddd;stroke-linecap:round;stroke-width:0.5;\"/>\n     </g>\n     <g id=\"text_12\">\n      <!-- 0.00 -->\n      <g style=\"fill:#666666;\" transform=\"translate(14.267156 206.094251)scale(0.121 -0.121)\">\n       <use xlink:href=\"#ArialMT-48\"/>\n       <use x=\"55.615234\" xlink:href=\"#ArialMT-46\"/>\n       <use x=\"83.398438\" xlink:href=\"#ArialMT-48\"/>\n       <use x=\"139.013672\" xlink:href=\"#ArialMT-48\"/>\n      </g>\n     </g>\n    </g>\n    <g id=\"ytick_3\">\n     <g id=\"line2d_13\">\n      <path clip-path=\"url(#p1f5f97db70)\" d=\"M 47.314891 165.197334 \nL 382.114891 165.197334 \n\" style=\"fill:none;stroke:#dddddd;stroke-linecap:round;stroke-width:0.5;\"/>\n     </g>\n     <g id=\"text_13\">\n      <!-- 0.02 -->\n      <g style=\"fill:#666666;\" transform=\"translate(14.267156 169.527811)scale(0.121 -0.121)\">\n       <use xlink:href=\"#ArialMT-48\"/>\n       <use x=\"55.615234\" xlink:href=\"#ArialMT-46\"/>\n       <use x=\"83.398438\" xlink:href=\"#ArialMT-48\"/>\n       <use x=\"139.013672\" xlink:href=\"#ArialMT-50\"/>\n      </g>\n     </g>\n    </g>\n    <g id=\"ytick_4\">\n     <g id=\"line2d_14\">\n      <path clip-path=\"url(#p1f5f97db70)\" d=\"M 47.314891 128.630894 \nL 382.114891 128.630894 \n\" style=\"fill:none;stroke:#dddddd;stroke-linecap:round;stroke-width:0.5;\"/>\n     </g>\n     <g id=\"text_14\">\n      <!-- 0.04 -->\n      <g style=\"fill:#666666;\" transform=\"translate(14.267156 132.96137)scale(0.121 -0.121)\">\n       <use xlink:href=\"#ArialMT-48\"/>\n       <use x=\"55.615234\" xlink:href=\"#ArialMT-46\"/>\n       <use x=\"83.398438\" xlink:href=\"#ArialMT-48\"/>\n       <use x=\"139.013672\" xlink:href=\"#ArialMT-52\"/>\n      </g>\n     </g>\n    </g>\n    <g id=\"ytick_5\">\n     <g id=\"line2d_15\">\n      <path clip-path=\"url(#p1f5f97db70)\" d=\"M 47.314891 92.064453 \nL 382.114891 92.064453 \n\" style=\"fill:none;stroke:#dddddd;stroke-linecap:round;stroke-width:0.5;\"/>\n     </g>\n     <g id=\"text_15\">\n      <!-- 0.06 -->\n      <g style=\"fill:#666666;\" transform=\"translate(14.267156 96.39493)scale(0.121 -0.121)\">\n       <use xlink:href=\"#ArialMT-48\"/>\n       <use x=\"55.615234\" xlink:href=\"#ArialMT-46\"/>\n       <use x=\"83.398438\" xlink:href=\"#ArialMT-48\"/>\n       <use x=\"139.013672\" xlink:href=\"#ArialMT-54\"/>\n      </g>\n     </g>\n    </g>\n    <g id=\"ytick_6\">\n     <g id=\"line2d_16\">\n      <path clip-path=\"url(#p1f5f97db70)\" d=\"M 47.314891 55.498013 \nL 382.114891 55.498013 \n\" style=\"fill:none;stroke:#dddddd;stroke-linecap:round;stroke-width:0.5;\"/>\n     </g>\n     <g id=\"text_16\">\n      <!-- 0.08 -->\n      <g style=\"fill:#666666;\" transform=\"translate(14.267156 59.828489)scale(0.121 -0.121)\">\n       <use xlink:href=\"#ArialMT-48\"/>\n       <use x=\"55.615234\" xlink:href=\"#ArialMT-46\"/>\n       <use x=\"83.398438\" xlink:href=\"#ArialMT-48\"/>\n       <use x=\"139.013672\" xlink:href=\"#ArialMT-56\"/>\n      </g>\n     </g>\n    </g>\n   </g>\n   <g id=\"line2d_17\">\n    <path clip-path=\"url(#p1f5f97db70)\" d=\"M 62.533072 177.774119 \nL 63.717367 177.454793 \nL 64.901661 197.957652 \nL 69.638838 179.94807 \nM 87.403253 152.729522 \nL 88.587547 177.443799 \nL 89.771841 179.663888 \nM 102.799079 176.176382 \nL 103.983373 190.512202 \nM 113.457728 191.943893 \nL 114.642022 147.060331 \nL 118.194905 189.880041 \nL 120.563493 186.195656 \nM 122.932082 189.880041 \nL 126.484965 177.443799 \nL 128.853554 195.633174 \nM 135.959319 190.512202 \nL 137.143614 163.217607 \nL 138.327908 186.978395 \nM 152.53944 186.988714 \nL 153.723734 178.293196 \nL 154.908028 186.988714 \nM 172.672443 142.777609 \nL 176.225326 182.102198 \nL 177.40962 176.176382 \nL 178.593914 190.476415 \nL 179.778209 151.592804 \nL 180.962503 152.729522 \nL 185.69968 181.67058 \nM 202.2798 178.293196 \nL 203.464095 182.102198 \nM 205.832683 186.978395 \nL 209.385566 186.978395 \nL 210.569861 168.556759 \nM 220.044215 162.093761 \nL 221.228509 147.060331 \nM 229.518569 186.978395 \nL 230.702864 168.556759 \nL 234.255747 173.630584 \nL 235.440041 190.512202 \nL 236.624335 190.163195 \nL 237.80863 61.066109 \nL 238.992924 32.692824 \nM 243.730101 148.523278 \nL 244.914395 175.991797 \nL 246.09869 174.068489 \nM 250.835867 166.650771 \nL 252.020161 188.903313 \nL 253.204456 152.729522 \nM 260.310221 191.046795 \nL 261.494516 191.689903 \nL 262.67881 184.414335 \nL 263.863104 61.066109 \nL 267.415987 142.777609 \nL 268.600281 141.042753 \nM 292.286168 180.753266 \nL 293.470462 175.681599 \nM 297.023345 195.633174 \nL 301.760522 175.991797 \nL 302.944816 142.097482 \nL 304.129111 166.650771 \nL 305.313405 198.002103 \nL 308.866288 189.392334 \nL 310.050582 188.073301 \nM 319.524937 55.93649 \nL 320.709231 188.903313 \nM 326.630702 189.880041 \nL 327.814997 198.002103 \nL 328.999291 200.829696 \nL 330.183585 61.066109 \nM 337.289351 163.69272 \nL 338.473645 188.073301 \nL 342.026528 189.392334 \nL 343.210823 55.93649 \nM 346.763706 142.319811 \nL 350.316589 186.195656 \nL 351.500883 186.978395 \nM 363.343826 181.67058 \nL 366.896709 169.963809 \nL 366.896709 169.963809 \n\" style=\"fill:none;stroke:#4c72b0;stroke-linecap:round;stroke-width:1.5;\"/>\n   </g>\n   <g id=\"line2d_18\">\n    <path clip-path=\"url(#p1f5f97db70)\" d=\"M 62.533072 177.774119 \nL 63.717367 177.443799 \nL 64.901661 173.24321 \nL 68.454544 194.809068 \nL 69.638838 204.091528 \nL 70.823133 211.054384 \nL 72.007427 207.660734 \nL 73.191721 207.743042 \nL 76.744604 203.596242 \nL 77.928898 213.084702 \nL 79.113193 206.940494 \nL 81.481781 214.940012 \nL 85.034664 208.118757 \nL 86.218959 202.867996 \nL 87.403253 184.250295 \nL 88.587547 193.113823 \nL 89.771841 180.495129 \nL 93.324724 184.753278 \nL 94.509019 197.416711 \nL 96.877607 199.433385 \nL 98.061902 208.851784 \nL 101.614785 211.645253 \nL 102.799079 215.381883 \nL 103.983373 203.459054 \nL 105.167667 211.553237 \nL 106.351962 200.10398 \nL 109.904845 217.411645 \nL 111.089139 214.980933 \nL 112.273433 216.475253 \nL 113.457728 226.103353 \nL 114.642022 230.365551 \nL 118.194905 229.860614 \nL 120.563493 219.17683 \nL 122.932082 202.279711 \nL 126.484965 193.345504 \nL 128.853554 176.851088 \nL 130.037848 197.004846 \nL 131.222142 190.912024 \nL 134.775025 185.880363 \nL 135.959319 182.783224 \nL 137.143614 185.087743 \nL 138.327908 174.205861 \nL 139.512202 189.109796 \nL 143.065085 194.959541 \nL 144.249379 196.064702 \nL 145.433674 199.007897 \nL 146.617968 200.606511 \nL 147.802262 194.786285 \nL 152.53944 195.418588 \nL 153.723734 170.628715 \nL 154.908028 171.302402 \nL 156.092323 169.039261 \nL 159.645205 173.103144 \nL 160.8295 168.991941 \nL 162.013794 197.705663 \nL 163.198088 196.60082 \nL 164.382383 201.411105 \nL 169.11956 198.469071 \nL 170.303854 196.535152 \nL 171.488148 200.934218 \nL 172.672443 198.637073 \nL 176.225326 200.823622 \nL 177.40962 196.249841 \nL 178.593914 194.400026 \nL 179.778209 192.896898 \nL 180.962503 190.197694 \nL 185.69968 189.188832 \nL 186.883974 196.616371 \nL 188.068269 200.956642 \nL 189.252563 194.453128 \nL 193.98974 199.107374 \nL 195.174035 198.697046 \nL 196.358329 201.028178 \nL 201.095506 204.502717 \nL 202.2798 206.637336 \nL 203.464095 207.59201 \nL 204.648389 209.209333 \nL 205.832683 212.733096 \nL 211.754155 197.662837 \nL 212.938449 192.662521 \nL 214.122743 190.239571 \nL 217.675626 195.187115 \nL 218.859921 195.968172 \nL 220.044215 199.045535 \nL 221.228509 194.883546 \nL 222.412804 201.793285 \nL 225.965687 204.534781 \nL 227.149981 202.553392 \nL 228.334275 202.795614 \nL 229.518569 205.771471 \nL 230.702864 197.494486 \nL 234.255747 191.145339 \nL 235.440041 194.641504 \nL 236.624335 190.44294 \nL 237.80863 194.417104 \nL 242.545807 201.547349 \nL 243.730101 204.072391 \nL 244.914395 203.35035 \nL 246.09869 199.239604 \nL 247.282984 199.071492 \nL 250.835867 200.49703 \nL 252.020161 194.063542 \nL 253.204456 212.231676 \nL 254.38875 210.992206 \nL 259.125927 216.193495 \nL 260.310221 211.047797 \nL 261.494516 215.424578 \nL 262.67881 203.101777 \nL 263.863104 204.155586 \nL 267.415987 201.391464 \nL 268.600281 202.246822 \nL 269.784576 200.211548 \nL 270.96887 199.269684 \nL 272.153164 199.673518 \nL 275.706047 198.307264 \nL 276.890342 208.757283 \nL 278.074636 208.558507 \nL 279.25893 208.826488 \nL 280.443225 210.593571 \nL 283.996107 221.697135 \nL 285.180402 209.326792 \nL 286.364696 207.322304 \nL 287.54899 200.537511 \nL 288.733285 204.728417 \nL 292.286168 191.685179 \nL 293.470462 193.313522 \nL 294.654756 196.559324 \nL 295.839051 211.463106 \nL 297.023345 207.536965 \nL 301.760522 214.765943 \nL 302.944816 220.451539 \nL 304.129111 220.521373 \nL 305.313405 217.044299 \nL 308.866288 213.119998 \nL 310.050582 195.861699 \nL 311.234876 197.031172 \nL 312.419171 194.666046 \nL 313.603465 184.176313 \nL 317.156348 183.942206 \nL 318.340642 192.935521 \nL 320.709231 192.144211 \nL 321.893525 196.802976 \nL 325.446408 201.232429 \nL 326.630702 200.652541 \nL 327.814997 195.847891 \nL 328.999291 193.574877 \nL 330.183585 190.991784 \nL 333.736468 190.050424 \nL 334.920763 196.53103 \nL 336.105057 197.979428 \nL 337.289351 202.644602 \nL 338.473645 205.205005 \nL 342.026528 200.425257 \nL 343.210823 196.916212 \nL 344.395117 193.918018 \nL 346.763706 194.333536 \nL 350.316589 194.798364 \nL 351.500883 203.24157 \nL 352.685177 201.161058 \nL 353.869471 202.577646 \nL 355.053766 198.318125 \nL 358.606649 194.720954 \nL 359.790943 190.913043 \nL 360.975237 195.076218 \nL 362.159532 180.927721 \nL 363.343826 184.686845 \nL 366.896709 186.032068 \nL 366.896709 186.032068 \n\" style=\"fill:none;stroke:#dd8452;stroke-linecap:round;stroke-width:1.5;\"/>\n   </g>\n   <g id=\"patch_3\">\n    <path d=\"M 47.314891 240.249188 \nL 47.314891 22.809188 \n\" style=\"fill:none;stroke:#ffffff;stroke-linecap:square;stroke-linejoin:miter;stroke-width:1.25;\"/>\n   </g>\n   <g id=\"patch_4\">\n    <path d=\"M 382.114891 240.249188 \nL 382.114891 22.809188 \n\" style=\"fill:none;stroke:#ffffff;stroke-linecap:square;stroke-linejoin:miter;stroke-width:1.25;\"/>\n   </g>\n   <g id=\"patch_5\">\n    <path d=\"M 47.314891 240.249187 \nL 382.114891 240.249187 \n\" style=\"fill:none;stroke:#ffffff;stroke-linecap:square;stroke-linejoin:miter;stroke-width:1.25;\"/>\n   </g>\n   <g id=\"patch_6\">\n    <path d=\"M 47.314891 22.809187 \nL 382.114891 22.809187 \n\" style=\"fill:none;stroke:#ffffff;stroke-linecap:square;stroke-linejoin:miter;stroke-width:1.25;\"/>\n   </g>\n   <g id=\"text_17\">\n    <!-- Simulated 5d geometric MA path vs Real data -->\n    <defs>\n     <path d=\"M 4.5 23 \nL 13.421875 23.78125 \nQ 14.0625 18.40625 16.375 14.96875 \nQ 18.703125 11.53125 23.578125 9.40625 \nQ 28.46875 7.28125 34.578125 7.28125 \nQ 39.984375 7.28125 44.140625 8.890625 \nQ 48.296875 10.5 50.3125 13.296875 \nQ 52.34375 16.109375 52.34375 19.4375 \nQ 52.34375 22.796875 50.390625 25.3125 \nQ 48.4375 27.828125 43.953125 29.546875 \nQ 41.0625 30.671875 31.203125 33.03125 \nQ 21.34375 35.40625 17.390625 37.5 \nQ 12.25 40.1875 9.734375 44.15625 \nQ 7.234375 48.140625 7.234375 53.078125 \nQ 7.234375 58.5 10.296875 63.203125 \nQ 13.375 67.921875 19.28125 70.359375 \nQ 25.203125 72.796875 32.421875 72.796875 \nQ 40.375 72.796875 46.453125 70.234375 \nQ 52.546875 67.671875 55.8125 62.6875 \nQ 59.078125 57.71875 59.328125 51.421875 \nL 50.25 50.734375 \nQ 49.515625 57.515625 45.28125 60.984375 \nQ 41.0625 64.453125 32.8125 64.453125 \nQ 24.21875 64.453125 20.28125 61.296875 \nQ 16.359375 58.15625 16.359375 53.71875 \nQ 16.359375 49.859375 19.140625 47.359375 \nQ 21.875 44.875 33.421875 42.265625 \nQ 44.96875 39.65625 49.265625 37.703125 \nQ 55.515625 34.8125 58.484375 30.390625 \nQ 61.46875 25.984375 61.46875 20.21875 \nQ 61.46875 14.5 58.203125 9.4375 \nQ 54.9375 4.390625 48.796875 1.578125 \nQ 42.671875 -1.21875 35.015625 -1.21875 \nQ 25.296875 -1.21875 18.71875 1.609375 \nQ 12.15625 4.4375 8.421875 10.125 \nQ 4.6875 15.828125 4.5 23 \nz\n\" id=\"ArialMT-83\"/>\n     <path d=\"M 6.640625 61.46875 \nL 6.640625 71.578125 \nL 15.4375 71.578125 \nL 15.4375 61.46875 \nz\nM 6.640625 0 \nL 6.640625 51.859375 \nL 15.4375 51.859375 \nL 15.4375 0 \nz\n\" id=\"ArialMT-105\"/>\n     <path d=\"M 6.59375 0 \nL 6.59375 51.859375 \nL 14.453125 51.859375 \nL 14.453125 44.578125 \nQ 16.890625 48.390625 20.9375 50.703125 \nQ 25 53.03125 30.171875 53.03125 \nQ 35.9375 53.03125 39.625 50.640625 \nQ 43.3125 48.25 44.828125 43.953125 \nQ 50.984375 53.03125 60.84375 53.03125 \nQ 68.5625 53.03125 72.703125 48.75 \nQ 76.859375 44.484375 76.859375 35.59375 \nL 76.859375 0 \nL 68.109375 0 \nL 68.109375 32.671875 \nQ 68.109375 37.9375 67.25 40.25 \nQ 66.40625 42.578125 64.15625 43.984375 \nQ 61.921875 45.40625 58.890625 45.40625 \nQ 53.421875 45.40625 49.796875 41.765625 \nQ 46.1875 38.140625 46.1875 30.125 \nL 46.1875 0 \nL 37.40625 0 \nL 37.40625 33.6875 \nQ 37.40625 39.546875 35.25 42.46875 \nQ 33.109375 45.40625 28.21875 45.40625 \nQ 24.515625 45.40625 21.359375 43.453125 \nQ 18.21875 41.5 16.796875 37.734375 \nQ 15.375 33.984375 15.375 26.90625 \nL 15.375 0 \nz\n\" id=\"ArialMT-109\"/>\n     <path d=\"M 40.578125 0 \nL 40.578125 7.625 \nQ 34.515625 -1.171875 24.125 -1.171875 \nQ 19.53125 -1.171875 15.546875 0.578125 \nQ 11.578125 2.34375 9.640625 5 \nQ 7.71875 7.671875 6.9375 11.53125 \nQ 6.390625 14.109375 6.390625 19.734375 \nL 6.390625 51.859375 \nL 15.1875 51.859375 \nL 15.1875 23.09375 \nQ 15.1875 16.21875 15.71875 13.8125 \nQ 16.546875 10.359375 19.234375 8.375 \nQ 21.921875 6.390625 25.875 6.390625 \nQ 29.828125 6.390625 33.296875 8.421875 \nQ 36.765625 10.453125 38.203125 13.9375 \nQ 39.65625 17.4375 39.65625 24.078125 \nL 39.65625 51.859375 \nL 48.4375 51.859375 \nL 48.4375 0 \nz\n\" id=\"ArialMT-117\"/>\n     <path d=\"M 6.390625 0 \nL 6.390625 71.578125 \nL 15.1875 71.578125 \nL 15.1875 0 \nz\n\" id=\"ArialMT-108\"/>\n     <path d=\"M 40.4375 6.390625 \nQ 35.546875 2.25 31.03125 0.53125 \nQ 26.515625 -1.171875 21.34375 -1.171875 \nQ 12.796875 -1.171875 8.203125 3 \nQ 3.609375 7.171875 3.609375 13.671875 \nQ 3.609375 17.484375 5.34375 20.625 \nQ 7.078125 23.78125 9.890625 25.6875 \nQ 12.703125 27.59375 16.21875 28.5625 \nQ 18.796875 29.25 24.03125 29.890625 \nQ 34.671875 31.15625 39.703125 32.90625 \nQ 39.75 34.71875 39.75 35.203125 \nQ 39.75 40.578125 37.25 42.78125 \nQ 33.890625 45.75 27.25 45.75 \nQ 21.046875 45.75 18.09375 43.578125 \nQ 15.140625 41.40625 13.71875 35.890625 \nL 5.125 37.0625 \nQ 6.296875 42.578125 8.984375 45.96875 \nQ 11.671875 49.359375 16.75 51.1875 \nQ 21.828125 53.03125 28.515625 53.03125 \nQ 35.15625 53.03125 39.296875 51.46875 \nQ 43.453125 49.90625 45.40625 47.53125 \nQ 47.359375 45.171875 48.140625 41.546875 \nQ 48.578125 39.3125 48.578125 33.453125 \nL 48.578125 21.734375 \nQ 48.578125 9.46875 49.140625 6.21875 \nQ 49.703125 2.984375 51.375 0 \nL 42.1875 0 \nQ 40.828125 2.734375 40.4375 6.390625 \nz\nM 39.703125 26.03125 \nQ 34.90625 24.078125 25.34375 22.703125 \nQ 19.921875 21.921875 17.671875 20.9375 \nQ 15.4375 19.96875 14.203125 18.09375 \nQ 12.984375 16.21875 12.984375 13.921875 \nQ 12.984375 10.40625 15.640625 8.0625 \nQ 18.3125 5.71875 23.4375 5.71875 \nQ 28.515625 5.71875 32.46875 7.9375 \nQ 36.421875 10.15625 38.28125 14.015625 \nQ 39.703125 17 39.703125 22.796875 \nz\n\" id=\"ArialMT-97\"/>\n     <path d=\"M 25.78125 7.859375 \nL 27.046875 0.09375 \nQ 23.34375 -0.6875 20.40625 -0.6875 \nQ 15.625 -0.6875 12.984375 0.828125 \nQ 10.359375 2.34375 9.28125 4.8125 \nQ 8.203125 7.28125 8.203125 15.1875 \nL 8.203125 45.015625 \nL 1.765625 45.015625 \nL 1.765625 51.859375 \nL 8.203125 51.859375 \nL 8.203125 64.703125 \nL 16.9375 69.96875 \nL 16.9375 51.859375 \nL 25.78125 51.859375 \nL 25.78125 45.015625 \nL 16.9375 45.015625 \nL 16.9375 14.703125 \nQ 16.9375 10.9375 17.40625 9.859375 \nQ 17.875 8.796875 18.921875 8.15625 \nQ 19.96875 7.515625 21.921875 7.515625 \nQ 23.390625 7.515625 25.78125 7.859375 \nz\n\" id=\"ArialMT-116\"/>\n     <path d=\"M 42.09375 16.703125 \nL 51.171875 15.578125 \nQ 49.03125 7.625 43.21875 3.21875 \nQ 37.40625 -1.171875 28.375 -1.171875 \nQ 17 -1.171875 10.328125 5.828125 \nQ 3.65625 12.84375 3.65625 25.484375 \nQ 3.65625 38.578125 10.390625 45.796875 \nQ 17.140625 53.03125 27.875 53.03125 \nQ 38.28125 53.03125 44.875 45.953125 \nQ 51.46875 38.875 51.46875 26.03125 \nQ 51.46875 25.25 51.421875 23.6875 \nL 12.75 23.6875 \nQ 13.234375 15.140625 17.578125 10.59375 \nQ 21.921875 6.0625 28.421875 6.0625 \nQ 33.25 6.0625 36.671875 8.59375 \nQ 40.09375 11.140625 42.09375 16.703125 \nz\nM 13.234375 30.90625 \nL 42.1875 30.90625 \nQ 41.609375 37.453125 38.875 40.71875 \nQ 34.671875 45.796875 27.984375 45.796875 \nQ 21.921875 45.796875 17.796875 41.75 \nQ 13.671875 37.703125 13.234375 30.90625 \nz\n\" id=\"ArialMT-101\"/>\n     <path d=\"M 40.234375 0 \nL 40.234375 6.546875 \nQ 35.296875 -1.171875 25.734375 -1.171875 \nQ 19.53125 -1.171875 14.328125 2.25 \nQ 9.125 5.671875 6.265625 11.796875 \nQ 3.421875 17.921875 3.421875 25.875 \nQ 3.421875 33.640625 6 39.96875 \nQ 8.59375 46.296875 13.765625 49.65625 \nQ 18.953125 53.03125 25.34375 53.03125 \nQ 30.03125 53.03125 33.6875 51.046875 \nQ 37.359375 49.078125 39.65625 45.90625 \nL 39.65625 71.578125 \nL 48.390625 71.578125 \nL 48.390625 0 \nz\nM 12.453125 25.875 \nQ 12.453125 15.921875 16.640625 10.984375 \nQ 20.84375 6.0625 26.5625 6.0625 \nQ 32.328125 6.0625 36.34375 10.765625 \nQ 40.375 15.484375 40.375 25.140625 \nQ 40.375 35.796875 36.265625 40.765625 \nQ 32.171875 45.75 26.171875 45.75 \nQ 20.3125 45.75 16.375 40.96875 \nQ 12.453125 36.1875 12.453125 25.875 \nz\n\" id=\"ArialMT-100\"/>\n     <path id=\"ArialMT-32\"/>\n     <path d=\"M 4.984375 -4.296875 \nL 13.53125 -5.5625 \nQ 14.0625 -9.515625 16.5 -11.328125 \nQ 19.78125 -13.765625 25.4375 -13.765625 \nQ 31.546875 -13.765625 34.859375 -11.328125 \nQ 38.1875 -8.890625 39.359375 -4.5 \nQ 40.046875 -1.8125 39.984375 6.78125 \nQ 34.234375 0 25.640625 0 \nQ 14.9375 0 9.078125 7.71875 \nQ 3.21875 15.4375 3.21875 26.21875 \nQ 3.21875 33.640625 5.90625 39.90625 \nQ 8.59375 46.1875 13.6875 49.609375 \nQ 18.796875 53.03125 25.6875 53.03125 \nQ 34.859375 53.03125 40.828125 45.609375 \nL 40.828125 51.859375 \nL 48.921875 51.859375 \nL 48.921875 7.03125 \nQ 48.921875 -5.078125 46.453125 -10.125 \nQ 44 -15.1875 38.640625 -18.109375 \nQ 33.296875 -21.046875 25.484375 -21.046875 \nQ 16.21875 -21.046875 10.5 -16.875 \nQ 4.78125 -12.703125 4.984375 -4.296875 \nz\nM 12.25 26.859375 \nQ 12.25 16.65625 16.296875 11.96875 \nQ 20.359375 7.28125 26.46875 7.28125 \nQ 32.515625 7.28125 36.609375 11.9375 \nQ 40.71875 16.609375 40.71875 26.5625 \nQ 40.71875 36.078125 36.5 40.90625 \nQ 32.28125 45.75 26.3125 45.75 \nQ 20.453125 45.75 16.34375 40.984375 \nQ 12.25 36.234375 12.25 26.859375 \nz\n\" id=\"ArialMT-103\"/>\n     <path d=\"M 3.328125 25.921875 \nQ 3.328125 40.328125 11.328125 47.265625 \nQ 18.015625 53.03125 27.640625 53.03125 \nQ 38.328125 53.03125 45.109375 46.015625 \nQ 51.90625 39.015625 51.90625 26.65625 \nQ 51.90625 16.65625 48.90625 10.90625 \nQ 45.90625 5.171875 40.15625 2 \nQ 34.421875 -1.171875 27.640625 -1.171875 \nQ 16.75 -1.171875 10.03125 5.8125 \nQ 3.328125 12.796875 3.328125 25.921875 \nz\nM 12.359375 25.921875 \nQ 12.359375 15.96875 16.703125 11.015625 \nQ 21.046875 6.0625 27.640625 6.0625 \nQ 34.1875 6.0625 38.53125 11.03125 \nQ 42.875 16.015625 42.875 26.21875 \nQ 42.875 35.84375 38.5 40.796875 \nQ 34.125 45.75 27.640625 45.75 \nQ 21.046875 45.75 16.703125 40.8125 \nQ 12.359375 35.890625 12.359375 25.921875 \nz\n\" id=\"ArialMT-111\"/>\n     <path d=\"M 6.5 0 \nL 6.5 51.859375 \nL 14.40625 51.859375 \nL 14.40625 44 \nQ 17.4375 49.515625 20 51.265625 \nQ 22.5625 53.03125 25.640625 53.03125 \nQ 30.078125 53.03125 34.671875 50.203125 \nL 31.640625 42.046875 \nQ 28.421875 43.953125 25.203125 43.953125 \nQ 22.3125 43.953125 20.015625 42.21875 \nQ 17.71875 40.484375 16.75 37.40625 \nQ 15.28125 32.71875 15.28125 27.15625 \nL 15.28125 0 \nz\n\" id=\"ArialMT-114\"/>\n     <path d=\"M 40.4375 19 \nL 49.078125 17.875 \nQ 47.65625 8.9375 41.8125 3.875 \nQ 35.984375 -1.171875 27.484375 -1.171875 \nQ 16.84375 -1.171875 10.375 5.78125 \nQ 3.90625 12.75 3.90625 25.734375 \nQ 3.90625 34.125 6.6875 40.421875 \nQ 9.46875 46.734375 15.15625 49.875 \nQ 20.84375 53.03125 27.546875 53.03125 \nQ 35.984375 53.03125 41.359375 48.75 \nQ 46.734375 44.484375 48.25 36.625 \nL 39.703125 35.296875 \nQ 38.484375 40.53125 35.375 43.15625 \nQ 32.28125 45.796875 27.875 45.796875 \nQ 21.234375 45.796875 17.078125 41.03125 \nQ 12.9375 36.28125 12.9375 25.984375 \nQ 12.9375 15.53125 16.9375 10.796875 \nQ 20.953125 6.0625 27.390625 6.0625 \nQ 32.5625 6.0625 36.03125 9.234375 \nQ 39.5 12.40625 40.4375 19 \nz\n\" id=\"ArialMT-99\"/>\n     <path d=\"M 7.421875 0 \nL 7.421875 71.578125 \nL 21.6875 71.578125 \nL 38.625 20.90625 \nQ 40.96875 13.8125 42.046875 10.296875 \nQ 43.265625 14.203125 45.84375 21.78125 \nL 62.984375 71.578125 \nL 75.734375 71.578125 \nL 75.734375 0 \nL 66.609375 0 \nL 66.609375 59.90625 \nL 45.796875 0 \nL 37.25 0 \nL 16.546875 60.9375 \nL 16.546875 0 \nz\n\" id=\"ArialMT-77\"/>\n     <path d=\"M -0.140625 0 \nL 27.34375 71.578125 \nL 37.546875 71.578125 \nL 66.84375 0 \nL 56.0625 0 \nL 47.703125 21.6875 \nL 17.78125 21.6875 \nL 9.90625 0 \nz\nM 20.515625 29.390625 \nL 44.78125 29.390625 \nL 37.3125 49.21875 \nQ 33.890625 58.25 32.234375 64.0625 \nQ 30.859375 57.171875 28.375 50.390625 \nz\n\" id=\"ArialMT-65\"/>\n     <path d=\"M 6.59375 -19.875 \nL 6.59375 51.859375 \nL 14.59375 51.859375 \nL 14.59375 45.125 \nQ 17.4375 49.078125 21 51.046875 \nQ 24.5625 53.03125 29.640625 53.03125 \nQ 36.28125 53.03125 41.359375 49.609375 \nQ 46.4375 46.1875 49.015625 39.953125 \nQ 51.609375 33.734375 51.609375 26.3125 \nQ 51.609375 18.359375 48.75 11.984375 \nQ 45.90625 5.609375 40.453125 2.21875 \nQ 35.015625 -1.171875 29 -1.171875 \nQ 24.609375 -1.171875 21.109375 0.6875 \nQ 17.625 2.546875 15.375 5.375 \nL 15.375 -19.875 \nz\nM 14.546875 25.640625 \nQ 14.546875 15.625 18.59375 10.84375 \nQ 22.65625 6.0625 28.421875 6.0625 \nQ 34.28125 6.0625 38.453125 11.015625 \nQ 42.625 15.96875 42.625 26.375 \nQ 42.625 36.28125 38.546875 41.203125 \nQ 34.46875 46.140625 28.8125 46.140625 \nQ 23.1875 46.140625 18.859375 40.890625 \nQ 14.546875 35.640625 14.546875 25.640625 \nz\n\" id=\"ArialMT-112\"/>\n     <path d=\"M 6.59375 0 \nL 6.59375 71.578125 \nL 15.375 71.578125 \nL 15.375 45.90625 \nQ 21.53125 53.03125 30.90625 53.03125 \nQ 36.671875 53.03125 40.921875 50.75 \nQ 45.171875 48.484375 47 44.484375 \nQ 48.828125 40.484375 48.828125 32.859375 \nL 48.828125 0 \nL 40.046875 0 \nL 40.046875 32.859375 \nQ 40.046875 39.453125 37.1875 42.453125 \nQ 34.328125 45.453125 29.109375 45.453125 \nQ 25.203125 45.453125 21.75 43.421875 \nQ 18.3125 41.40625 16.84375 37.9375 \nQ 15.375 34.46875 15.375 28.375 \nL 15.375 0 \nz\n\" id=\"ArialMT-104\"/>\n     <path d=\"M 21 0 \nL 1.265625 51.859375 \nL 10.546875 51.859375 \nL 21.6875 20.796875 \nQ 23.484375 15.765625 25 10.359375 \nQ 26.171875 14.453125 28.265625 20.21875 \nL 39.796875 51.859375 \nL 48.828125 51.859375 \nL 29.203125 0 \nz\n\" id=\"ArialMT-118\"/>\n     <path d=\"M 3.078125 15.484375 \nL 11.765625 16.84375 \nQ 12.5 11.625 15.84375 8.84375 \nQ 19.1875 6.0625 25.203125 6.0625 \nQ 31.25 6.0625 34.171875 8.515625 \nQ 37.109375 10.984375 37.109375 14.3125 \nQ 37.109375 17.28125 34.515625 19 \nQ 32.71875 20.171875 25.53125 21.96875 \nQ 15.875 24.421875 12.140625 26.203125 \nQ 8.40625 27.984375 6.46875 31.125 \nQ 4.546875 34.28125 4.546875 38.09375 \nQ 4.546875 41.546875 6.125 44.5 \nQ 7.71875 47.46875 10.453125 49.421875 \nQ 12.5 50.921875 16.03125 51.96875 \nQ 19.578125 53.03125 23.640625 53.03125 \nQ 29.734375 53.03125 34.34375 51.265625 \nQ 38.96875 49.515625 41.15625 46.5 \nQ 43.359375 43.5 44.1875 38.484375 \nL 35.59375 37.3125 \nQ 35.015625 41.3125 32.203125 43.546875 \nQ 29.390625 45.796875 24.265625 45.796875 \nQ 18.21875 45.796875 15.625 43.796875 \nQ 13.03125 41.796875 13.03125 39.109375 \nQ 13.03125 37.40625 14.109375 36.03125 \nQ 15.1875 34.625 17.484375 33.6875 \nQ 18.796875 33.203125 25.25 31.453125 \nQ 34.578125 28.953125 38.25 27.359375 \nQ 41.9375 25.78125 44.03125 22.75 \nQ 46.140625 19.734375 46.140625 15.234375 \nQ 46.140625 10.84375 43.578125 6.953125 \nQ 41.015625 3.078125 36.171875 0.953125 \nQ 31.34375 -1.171875 25.25 -1.171875 \nQ 15.140625 -1.171875 9.84375 3.03125 \nQ 4.546875 7.234375 3.078125 15.484375 \nz\n\" id=\"ArialMT-115\"/>\n     <path d=\"M 7.859375 0 \nL 7.859375 71.578125 \nL 39.59375 71.578125 \nQ 49.171875 71.578125 54.140625 69.640625 \nQ 59.125 67.71875 62.109375 62.828125 \nQ 65.09375 57.953125 65.09375 52.046875 \nQ 65.09375 44.4375 60.15625 39.203125 \nQ 55.21875 33.984375 44.921875 32.5625 \nQ 48.6875 30.765625 50.640625 29 \nQ 54.78125 25.203125 58.5 19.484375 \nL 70.953125 0 \nL 59.03125 0 \nL 49.5625 14.890625 \nQ 45.40625 21.34375 42.71875 24.75 \nQ 40.046875 28.171875 37.921875 29.53125 \nQ 35.796875 30.90625 33.59375 31.453125 \nQ 31.984375 31.78125 28.328125 31.78125 \nL 17.328125 31.78125 \nL 17.328125 0 \nz\nM 17.328125 39.984375 \nL 37.703125 39.984375 \nQ 44.1875 39.984375 47.84375 41.328125 \nQ 51.515625 42.671875 53.421875 45.625 \nQ 55.328125 48.578125 55.328125 52.046875 \nQ 55.328125 57.125 51.640625 60.390625 \nQ 47.953125 63.671875 39.984375 63.671875 \nL 17.328125 63.671875 \nz\n\" id=\"ArialMT-82\"/>\n    </defs>\n    <g style=\"fill:#333333;\" transform=\"translate(80.459547 16.809188)scale(0.132 -0.132)\">\n     <use xlink:href=\"#ArialMT-83\"/>\n     <use x=\"66.699219\" xlink:href=\"#ArialMT-105\"/>\n     <use x=\"88.916016\" xlink:href=\"#ArialMT-109\"/>\n     <use x=\"172.216797\" xlink:href=\"#ArialMT-117\"/>\n     <use x=\"227.832031\" xlink:href=\"#ArialMT-108\"/>\n     <use x=\"250.048828\" xlink:href=\"#ArialMT-97\"/>\n     <use x=\"305.664062\" xlink:href=\"#ArialMT-116\"/>\n     <use x=\"333.447266\" xlink:href=\"#ArialMT-101\"/>\n     <use x=\"389.0625\" xlink:href=\"#ArialMT-100\"/>\n     <use x=\"444.677734\" xlink:href=\"#ArialMT-32\"/>\n     <use x=\"472.460938\" xlink:href=\"#ArialMT-53\"/>\n     <use x=\"528.076172\" xlink:href=\"#ArialMT-100\"/>\n     <use x=\"583.691406\" xlink:href=\"#ArialMT-32\"/>\n     <use x=\"611.474609\" xlink:href=\"#ArialMT-103\"/>\n     <use x=\"667.089844\" xlink:href=\"#ArialMT-101\"/>\n     <use x=\"722.705078\" xlink:href=\"#ArialMT-111\"/>\n     <use x=\"778.320312\" xlink:href=\"#ArialMT-109\"/>\n     <use x=\"861.621094\" xlink:href=\"#ArialMT-101\"/>\n     <use x=\"917.236328\" xlink:href=\"#ArialMT-116\"/>\n     <use x=\"945.019531\" xlink:href=\"#ArialMT-114\"/>\n     <use x=\"978.320312\" xlink:href=\"#ArialMT-105\"/>\n     <use x=\"1000.537109\" xlink:href=\"#ArialMT-99\"/>\n     <use x=\"1050.537109\" xlink:href=\"#ArialMT-32\"/>\n     <use x=\"1078.320312\" xlink:href=\"#ArialMT-77\"/>\n     <use x=\"1161.621094\" xlink:href=\"#ArialMT-65\"/>\n     <use x=\"1228.242188\" xlink:href=\"#ArialMT-32\"/>\n     <use x=\"1256.025391\" xlink:href=\"#ArialMT-112\"/>\n     <use x=\"1311.640625\" xlink:href=\"#ArialMT-97\"/>\n     <use x=\"1367.255859\" xlink:href=\"#ArialMT-116\"/>\n     <use x=\"1395.039062\" xlink:href=\"#ArialMT-104\"/>\n     <use x=\"1450.654297\" xlink:href=\"#ArialMT-32\"/>\n     <use x=\"1478.4375\" xlink:href=\"#ArialMT-118\"/>\n     <use x=\"1528.4375\" xlink:href=\"#ArialMT-115\"/>\n     <use x=\"1578.4375\" xlink:href=\"#ArialMT-32\"/>\n     <use x=\"1606.220703\" xlink:href=\"#ArialMT-82\"/>\n     <use x=\"1678.4375\" xlink:href=\"#ArialMT-101\"/>\n     <use x=\"1734.052734\" xlink:href=\"#ArialMT-97\"/>\n     <use x=\"1789.667969\" xlink:href=\"#ArialMT-108\"/>\n     <use x=\"1811.884766\" xlink:href=\"#ArialMT-32\"/>\n     <use x=\"1839.667969\" xlink:href=\"#ArialMT-100\"/>\n     <use x=\"1895.283203\" xlink:href=\"#ArialMT-97\"/>\n     <use x=\"1950.898438\" xlink:href=\"#ArialMT-116\"/>\n     <use x=\"1978.681641\" xlink:href=\"#ArialMT-97\"/>\n    </g>\n   </g>\n   <g id=\"legend_1\">\n    <g id=\"patch_7\">\n     <path d=\"M 281.121484 234.199187 \nL 373.644891 234.199187 \nQ 376.064891 234.199187 376.064891 231.779187 \nL 376.064891 198.757531 \nQ 376.064891 196.337531 373.644891 196.337531 \nL 281.121484 196.337531 \nQ 278.701484 196.337531 278.701484 198.757531 \nL 278.701484 231.779187 \nQ 278.701484 234.199187 281.121484 234.199187 \nz\n\" style=\"fill:#ffffff;opacity:0.8;stroke:#cccccc;stroke-linejoin:miter;\"/>\n    </g>\n    <g id=\"line2d_19\">\n     <path d=\"M 283.541484 205.603484 \nL 307.741484 205.603484 \n\" style=\"fill:none;stroke:#4c72b0;stroke-linecap:round;stroke-width:1.5;\"/>\n    </g>\n    <g id=\"line2d_20\"/>\n    <g id=\"text_18\">\n     <!-- Simulated -->\n     <g style=\"fill:#333333;\" transform=\"translate(317.421484 209.838484)scale(0.121 -0.121)\">\n      <use xlink:href=\"#ArialMT-83\"/>\n      <use x=\"66.699219\" xlink:href=\"#ArialMT-105\"/>\n      <use x=\"88.916016\" xlink:href=\"#ArialMT-109\"/>\n      <use x=\"172.216797\" xlink:href=\"#ArialMT-117\"/>\n      <use x=\"227.832031\" xlink:href=\"#ArialMT-108\"/>\n      <use x=\"250.048828\" xlink:href=\"#ArialMT-97\"/>\n      <use x=\"305.664062\" xlink:href=\"#ArialMT-116\"/>\n      <use x=\"333.447266\" xlink:href=\"#ArialMT-101\"/>\n      <use x=\"389.0625\" xlink:href=\"#ArialMT-100\"/>\n     </g>\n    </g>\n    <g id=\"line2d_21\">\n     <path d=\"M 283.541484 222.719312 \nL 307.741484 222.719312 \n\" style=\"fill:none;stroke:#dd8452;stroke-linecap:round;stroke-width:1.5;\"/>\n    </g>\n    <g id=\"line2d_22\"/>\n    <g id=\"text_19\">\n     <!-- Real -->\n     <g style=\"fill:#333333;\" transform=\"translate(317.421484 226.954312)scale(0.121 -0.121)\">\n      <use xlink:href=\"#ArialMT-82\"/>\n      <use x=\"72.216797\" xlink:href=\"#ArialMT-101\"/>\n      <use x=\"127.832031\" xlink:href=\"#ArialMT-97\"/>\n      <use x=\"183.447266\" xlink:href=\"#ArialMT-108\"/>\n     </g>\n    </g>\n   </g>\n  </g>\n </g>\n <defs>\n  <clipPath id=\"p1f5f97db70\">\n   <rect height=\"217.44\" width=\"334.8\" x=\"47.314891\" y=\"22.809187\"/>\n  </clipPath>\n </defs>\n</svg>\n",
      "image/png": "[encoded data removed]"
     },
     "metadata": {
      "needs_background": "light"
     }
    }
   ],
   "source": [
    "# Let's plot a generated sample against a real geometric time series curve\n",
    "fig, ax = plt.subplots()\n",
    "ax.plot(geoMA_5d_stocks_p1_T.columns, sim_paths_matrix[0], label = 'Simulated')\n",
    "ax.plot(geoMA_5d_stocks_p1_T.columns, geoMA_5d_stocks_p1_T.iloc[random_tickers_selected[0]], label = 'Real')\n",
    "ax.set_title('Simulated 5d geometric MA path vs Real data')\n",
    "Legend = ax.legend(loc='lower right')"
   ]
  },
  {
   "cell_type": "markdown",
   "metadata": {
    "colab_type": "text",
    "id": "wbd_THMHa10a"
   },
   "source": [
    "## Create a training and test dataset\n",
    "Before building the VAE model, create the training and test sets (using a 80%-20% ratio):"
   ]
  },
  {
   "cell_type": "code",
   "execution_count": 15,
   "metadata": {
    "colab": {},
    "colab_type": "code",
    "id": "N17bcgFChnaO"
   },
   "outputs": [],
   "source": [
    "# We shuffle the generated curves\n",
    "shuffled_array = np.random.permutation(sim_paths_matrix)"
   ]
  },
  {
   "cell_type": "markdown",
   "metadata": {
    "colab_type": "text",
    "id": "kAiA4NYtbuuV"
   },
   "source": [
    "The training set will be 80% of the simulated paths."
   ]
  },
  {
   "cell_type": "code",
   "execution_count": 34,
   "metadata": {
    "colab": {},
    "colab_type": "code",
    "id": "EuUE5Amehpdd"
   },
   "outputs": [],
   "source": [
    "# We split the simulated time series into a training and test set\n",
    "x_train = shuffled_array[0:8000]\n",
    "x_test = shuffled_array[8000:]\n",
    "# We split the simulated time series into a training and test set\n",
    "x_train = shuffled_array[0:400]\n",
    "x_test = shuffled_array[-400:]"
   ]
  },
  {
   "cell_type": "code",
   "execution_count": 35,
   "metadata": {
    "colab": {
     "base_uri": "https://localhost:8080/",
     "height": 51
    },
    "colab_type": "code",
    "executionInfo": {
     "elapsed": 482,
     "status": "ok",
     "timestamp": 1554397028353,
     "user": {
      "displayName": "Marie Imokoyende",
      "photoUrl": "",
      "userId": "13592623342127678396"
     },
     "user_tz": 240
    },
    "id": "v3MA74p0hrij",
    "outputId": "2f3127c3-c886-48c1-d46b-6c5059b86df0"
   },
   "outputs": [
    {
     "output_type": "stream",
     "name": "stdout",
     "text": "(400, 175)\n(400, 175)\n"
    }
   ],
   "source": [
    "print(x_train.shape)\n",
    "print(x_test.shape)"
   ]
  },
  {
   "cell_type": "markdown",
   "metadata": {
    "colab_type": "text",
    "id": "6jF1OrpQiE6M"
   },
   "source": [
    "# Variational Autoencoder Model\n",
    "\n",
    "We will use a variational autoencoder to reduce the dimensions of a time series vector with 388 items to a two-dimensional point.\n",
    "Autoencoders are unsupervised algorithms used to compress data. They are built with an encoder, a decoder and a loss function to measure the information loss between the compressed and decompressed data representations.\n",
    "\n",
    "The encoder model has:\n",
    "* One input vector of the dataset length\n",
    "* One intermediate layer of length 300 with a rectified linear unit (ReLu) activation function\n",
    "* One encoder with two dimensions."
   ]
  },
  {
   "cell_type": "code",
   "execution_count": 36,
   "metadata": {
    "colab": {},
    "colab_type": "code",
    "id": "ugQSMbp9iHKJ"
   },
   "outputs": [],
   "source": [
    "# network parameters\n",
    "original_dim = x_train.shape[1]\n",
    "input_shape = (original_dim, )\n",
    "intermediate_dim = 300\n",
    "batch_size = 128\n",
    "latent_dim = 2\n",
    "epochs = 10"
   ]
  },
  {
   "cell_type": "markdown",
   "metadata": {
    "colab_type": "text",
    "id": "-tV5GK_ZAIyz"
   },
   "source": [
    "Then we map inputs to the latent distribution parameters:"
   ]
  },
  {
   "cell_type": "code",
   "execution_count": 37,
   "metadata": {
    "colab": {
     "base_uri": "https://localhost:8080/",
     "height": 88
    },
    "colab_type": "code",
    "executionInfo": {
     "elapsed": 258,
     "status": "ok",
     "timestamp": 1554397040193,
     "user": {
      "displayName": "Marie Imokoyende",
      "photoUrl": "",
      "userId": "13592623342127678396"
     },
     "user_tz": 240
    },
    "id": "YswLh98viJAC",
    "outputId": "7a0b400c-9f5e-4eb9-fd81-053f3425d614"
   },
   "outputs": [],
   "source": [
    "# VAE model = encoder + decoder\n",
    "# build encoder model\n",
    "inputs = Input(shape=input_shape, name='encoder_input')\n",
    "x = Dense(intermediate_dim, activation='relu')(inputs)\n",
    "z_mean = Dense(latent_dim, name='z_mean')(x)\n",
    "z_log_var = Dense(latent_dim, name='z_log_var')(x)"
   ]
  },
  {
   "cell_type": "markdown",
   "metadata": {
    "colab_type": "text",
    "id": "dgWsrBHFAfbj"
   },
   "source": [
    "We then use those parameters to sample new points from the latent space:"
   ]
  },
  {
   "cell_type": "code",
   "execution_count": 38,
   "metadata": {
    "colab": {},
    "colab_type": "code",
    "id": "L7D3gdP2gSmX"
   },
   "outputs": [],
   "source": [
    "# reparameterization trick\n",
    "# instead of sampling from Q(z|X), sample epsilon = N(0,I)\n",
    "# z = z_mean + sqrt(var) * epsilon\n",
    "def sampling(args):\n",
    "    \"\"\"Reparameterization trick by sampling from an isotropic unit Gaussian.\n",
    "    # Arguments\n",
    "        args (tensor): mean and log of variance of Q(z|X)\n",
    "    # Returns\n",
    "        z (tensor): sampled latent vector\n",
    "    \"\"\"\n",
    "\n",
    "    z_mean, z_log_var = args\n",
    "    batch = K.shape(z_mean)[0]\n",
    "    dim = K.int_shape(z_mean)[1]\n",
    "    # by default, random_normal has mean = 0 and std = 1.0\n",
    "    epsilon = K.random_normal(shape=(batch, dim))\n",
    "    return z_mean + K.exp(0.5 * z_log_var) * epsilon"
   ]
  },
  {
   "cell_type": "code",
   "execution_count": 39,
   "metadata": {
    "colab": {},
    "colab_type": "code",
    "id": "kHtlanwIiKwL"
   },
   "outputs": [],
   "source": [
    "# use reparameterization trick to push the sampling out as input\n",
    "# note that \"output_shape\" isn't necessary with the TensorFlow backend\n",
    "z = Lambda(sampling, output_shape=(latent_dim,), name='z')([z_mean, z_log_var])"
   ]
  },
  {
   "cell_type": "markdown",
   "metadata": {
    "colab_type": "text",
    "id": "msEbPTNYBO56"
   },
   "source": [
    "We instantiate the encoder model:"
   ]
  },
  {
   "cell_type": "code",
   "execution_count": 40,
   "metadata": {
    "colab": {
     "base_uri": "https://localhost:8080/",
     "height": 238
    },
    "colab_type": "code",
    "executionInfo": {
     "elapsed": 508,
     "status": "ok",
     "timestamp": 1554397046629,
     "user": {
      "displayName": "Marie Imokoyende",
      "photoUrl": "",
      "userId": "13592623342127678396"
     },
     "user_tz": 240
    },
    "id": "3Y6_DslDiMqN",
    "outputId": "7d38480d-1f47-496a-e788-d8f7c72de7e0"
   },
   "outputs": [
    {
     "output_type": "stream",
     "name": "stdout",
     "text": "Model: \"model_2\"\n_________________________________________________________________\nLayer (type)                 Output Shape              Param #   \n=================================================================\nencoder_input (InputLayer)   (None, 175)               0         \n_________________________________________________________________\ndense_4 (Dense)              (None, 300)               52800     \n_________________________________________________________________\nz_mean (Dense)               (None, 2)                 602       \n=================================================================\nTotal params: 53,402\nTrainable params: 53,402\nNon-trainable params: 0\n_________________________________________________________________\n"
    }
   ],
   "source": [
    "encoder = Model(inputs, z_mean)\n",
    "encoder.summary()"
   ]
  },
  {
   "cell_type": "markdown",
   "metadata": {
    "colab_type": "text",
    "id": "t3JO3QgzB8Yb"
   },
   "source": [
    "The decoded model has:\n",
    "* One input vector of two dimensions (sampled from the latent variables)\n",
    "* One intermediate layer of length 300 with a rectified linear unit (ReLu) activation function\n",
    "* The decoded vector of the dataset length with a sigmoid activation function."
   ]
  },
  {
   "cell_type": "code",
   "execution_count": 41,
   "metadata": {
    "colab": {},
    "colab_type": "code",
    "id": "qan_zkUMiOTd"
   },
   "outputs": [],
   "source": [
    "\n",
    "latent_inputs = Input(shape=(latent_dim,), name='z_sampling')\n",
    "x = Dense(intermediate_dim, activation='relu')(latent_inputs)\n",
    "outputs = Dense(original_dim, activation='sigmoid')(x)"
   ]
  },
  {
   "cell_type": "markdown",
   "metadata": {
    "colab_type": "text",
    "id": "c_vFaff1CAvH"
   },
   "source": [
    "We instantiate the decoder model:"
   ]
  },
  {
   "cell_type": "code",
   "execution_count": 42,
   "metadata": {
    "colab": {
     "base_uri": "https://localhost:8080/",
     "height": 238
    },
    "colab_type": "code",
    "executionInfo": {
     "elapsed": 703,
     "status": "ok",
     "timestamp": 1554397053776,
     "user": {
      "displayName": "Marie Imokoyende",
      "photoUrl": "",
      "userId": "13592623342127678396"
     },
     "user_tz": 240
    },
    "id": "sJXNIYI9iQpX",
    "outputId": "06f97893-260c-413f-c425-606592fb8000"
   },
   "outputs": [
    {
     "output_type": "stream",
     "name": "stdout",
     "text": "Model: \"decoder\"\n_________________________________________________________________\nLayer (type)                 Output Shape              Param #   \n=================================================================\nz_sampling (InputLayer)      (None, 2)                 0         \n_________________________________________________________________\ndense_5 (Dense)              (None, 300)               900       \n_________________________________________________________________\ndense_6 (Dense)              (None, 175)               52675     \n=================================================================\nTotal params: 53,575\nTrainable params: 53,575\nNon-trainable params: 0\n_________________________________________________________________\n"
    }
   ],
   "source": [
    "decoder = Model(latent_inputs, outputs, name='decoder')\n",
    "decoder.summary()"
   ]
  },
  {
   "cell_type": "markdown",
   "metadata": {
    "colab_type": "text",
    "id": "SaGxWK2TCD68"
   },
   "source": [
    "We instantiate the VAE model:"
   ]
  },
  {
   "cell_type": "code",
   "execution_count": 43,
   "metadata": {
    "colab": {},
    "colab_type": "code",
    "id": "bs0I2LRUiR_G"
   },
   "outputs": [],
   "source": [
    "outputs = decoder(encoder(inputs))\n",
    "vae = Model(inputs, outputs, name='vae_mlp')"
   ]
  },
  {
   "cell_type": "markdown",
   "metadata": {
    "colab_type": "text",
    "id": "NTB1GZZxCMYM"
   },
   "source": [
    "As in the Keras tutorial, we define a custom loss function:"
   ]
  },
  {
   "cell_type": "code",
   "execution_count": 44,
   "metadata": {
    "colab": {},
    "colab_type": "code",
    "id": "UkHHIrFgiUXU"
   },
   "outputs": [],
   "source": [
    "def vae_loss(x, x_decoded_mean):\n",
    "    xent_loss = losses.binary_crossentropy(x, x_decoded_mean)\n",
    "    kl_loss = - 0.5 * K.mean(1 + z_log_var - K.square(z_mean) - K.exp(z_log_var), axis=-1)\n",
    "    return xent_loss + kl_loss"
   ]
  },
  {
   "cell_type": "markdown",
   "metadata": {
    "colab_type": "text",
    "id": "AG9Jwh3HCQ-S"
   },
   "source": [
    "We compile the model:"
   ]
  },
  {
   "cell_type": "code",
   "execution_count": 45,
   "metadata": {
    "colab": {},
    "colab_type": "code",
    "id": "OrM_TQWbCR4u"
   },
   "outputs": [],
   "source": [
    "vae.compile(optimizer='rmsprop', loss=vae_loss)"
   ]
  },
  {
   "cell_type": "markdown",
   "metadata": {
    "colab_type": "text",
    "id": "RSI5HrIVf8pr"
   },
   "source": [
    "## Train the model"
   ]
  },
  {
   "cell_type": "code",
   "execution_count": 46,
   "metadata": {
    "colab": {
     "base_uri": "https://localhost:8080/",
     "height": 445
    },
    "colab_type": "code",
    "executionInfo": {
     "elapsed": 7617,
     "status": "ok",
     "timestamp": 1554397072860,
     "user": {
      "displayName": "Marie Imokoyende",
      "photoUrl": "",
      "userId": "13592623342127678396"
     },
     "user_tz": 240
    },
    "id": "plt0SHlpwZG4",
    "outputId": "82092833-f825-4031-de71-2001e4da9c6c"
   },
   "outputs": [
    {
     "output_type": "stream",
     "name": "stdout",
     "text": "Train on 400 samples, validate on 400 samples\nEpoch 1/10\n400/400 [==============================] - 0s 499us/step - loss: nan - val_loss: nan\nEpoch 2/10\n400/400 [==============================] - 0s 42us/step - loss: nan - val_loss: nan\nEpoch 3/10\n400/400 [==============================] - 0s 44us/step - loss: nan - val_loss: nan\nEpoch 4/10\n400/400 [==============================] - 0s 44us/step - loss: nan - val_loss: nan\nEpoch 5/10\n400/400 [==============================] - 0s 44us/step - loss: nan - val_loss: nan\nEpoch 6/10\n400/400 [==============================] - 0s 43us/step - loss: nan - val_loss: nan\nEpoch 7/10\n400/400 [==============================] - 0s 43us/step - loss: nan - val_loss: nan\nEpoch 8/10\n400/400 [==============================] - 0s 49us/step - loss: nan - val_loss: nan\nEpoch 9/10\n400/400 [==============================] - 0s 44us/step - loss: nan - val_loss: nan\nEpoch 10/10\n400/400 [==============================] - 0s 44us/step - loss: nan - val_loss: nan\n"
    }
   ],
   "source": [
    "results = vae.fit(x_train, x_train,\n",
    "        shuffle=True,\n",
    "        epochs=epochs,\n",
    "        batch_size=batch_size,\n",
    "        validation_data=(x_test, x_test))"
   ]
  },
  {
   "cell_type": "code",
   "execution_count": 47,
   "metadata": {},
   "outputs": [
    {
     "output_type": "display_data",
     "data": {
      "text/plain": "<Figure size 432x288 with 1 Axes>",
      "image/svg+xml": "<?xml version=\"1.0\" encoding=\"utf-8\" standalone=\"no\"?>\n<!DOCTYPE svg PUBLIC \"-//W3C//DTD SVG 1.1//EN\"\n  \"http://www.w3.org/Graphics/SVG/1.1/DTD/svg11.dtd\">\n<!-- Created with matplotlib (https://matplotlib.org/) -->\n<svg height=\"283.925953pt\" version=\"1.1\" viewBox=\"0 0 391.590812 283.925953\" width=\"391.590812pt\" xmlns=\"http://www.w3.org/2000/svg\" xmlns:xlink=\"http://www.w3.org/1999/xlink\">\n <defs>\n  <style type=\"text/css\">\n*{stroke-linecap:butt;stroke-linejoin:round;}\n  </style>\n </defs>\n <g id=\"figure_1\">\n  <g id=\"patch_1\">\n   <path d=\"M 0 283.925953 \nL 391.590812 283.925953 \nL 391.590812 0 \nL 0 0 \nz\n\" style=\"fill:none;\"/>\n  </g>\n  <g id=\"axes_1\">\n   <g id=\"patch_2\">\n    <path d=\"M 49.590813 240.088312 \nL 384.390813 240.088312 \nL 384.390813 22.648312 \nL 49.590813 22.648312 \nz\n\" style=\"fill:#ffffff;\"/>\n   </g>\n   <g id=\"matplotlib.axis_1\">\n    <g id=\"xtick_1\">\n     <g id=\"line2d_1\">\n      <path clip-path=\"url(#pd90f5749be)\" d=\"M 78.643705 240.088312 \nL 78.643705 22.648312 \n\" style=\"fill:none;stroke:#dddddd;stroke-linecap:round;stroke-width:0.5;\"/>\n     </g>\n     <g id=\"text_1\">\n      <!-- 0.0 -->\n      <defs>\n       <path d=\"M 4.15625 35.296875 \nQ 4.15625 48 6.765625 55.734375 \nQ 9.375 63.484375 14.515625 67.671875 \nQ 19.671875 71.875 27.484375 71.875 \nQ 33.25 71.875 37.59375 69.546875 \nQ 41.9375 67.234375 44.765625 62.859375 \nQ 47.609375 58.5 49.21875 52.21875 \nQ 50.828125 45.953125 50.828125 35.296875 \nQ 50.828125 22.703125 48.234375 14.96875 \nQ 45.65625 7.234375 40.5 3 \nQ 35.359375 -1.21875 27.484375 -1.21875 \nQ 17.140625 -1.21875 11.234375 6.203125 \nQ 4.15625 15.140625 4.15625 35.296875 \nz\nM 13.1875 35.296875 \nQ 13.1875 17.671875 17.3125 11.828125 \nQ 21.4375 6 27.484375 6 \nQ 33.546875 6 37.671875 11.859375 \nQ 41.796875 17.71875 41.796875 35.296875 \nQ 41.796875 52.984375 37.671875 58.78125 \nQ 33.546875 64.59375 27.390625 64.59375 \nQ 21.34375 64.59375 17.71875 59.46875 \nQ 13.1875 52.9375 13.1875 35.296875 \nz\n\" id=\"ArialMT-48\"/>\n       <path d=\"M 9.078125 0 \nL 9.078125 10.015625 \nL 19.09375 10.015625 \nL 19.09375 0 \nz\n\" id=\"ArialMT-46\"/>\n      </defs>\n      <g style=\"fill:#666666;\" transform=\"translate(70.234205 258.249266)scale(0.121 -0.121)\">\n       <use xlink:href=\"#ArialMT-48\"/>\n       <use x=\"55.615234\" xlink:href=\"#ArialMT-46\"/>\n       <use x=\"83.398438\" xlink:href=\"#ArialMT-48\"/>\n      </g>\n     </g>\n    </g>\n    <g id=\"xtick_2\">\n     <g id=\"line2d_2\">\n      <path clip-path=\"url(#pd90f5749be)\" d=\"M 133.982548 240.088312 \nL 133.982548 22.648312 \n\" style=\"fill:none;stroke:#dddddd;stroke-linecap:round;stroke-width:0.5;\"/>\n     </g>\n     <g id=\"text_2\">\n      <!-- 0.2 -->\n      <defs>\n       <path d=\"M 50.34375 8.453125 \nL 50.34375 0 \nL 3.03125 0 \nQ 2.9375 3.171875 4.046875 6.109375 \nQ 5.859375 10.9375 9.828125 15.625 \nQ 13.8125 20.3125 21.34375 26.46875 \nQ 33.015625 36.03125 37.109375 41.625 \nQ 41.21875 47.21875 41.21875 52.203125 \nQ 41.21875 57.421875 37.46875 61 \nQ 33.734375 64.59375 27.734375 64.59375 \nQ 21.390625 64.59375 17.578125 60.78125 \nQ 13.765625 56.984375 13.71875 50.25 \nL 4.6875 51.171875 \nQ 5.609375 61.28125 11.65625 66.578125 \nQ 17.71875 71.875 27.9375 71.875 \nQ 38.234375 71.875 44.234375 66.15625 \nQ 50.25 60.453125 50.25 52 \nQ 50.25 47.703125 48.484375 43.546875 \nQ 46.734375 39.40625 42.65625 34.8125 \nQ 38.578125 30.21875 29.109375 22.21875 \nQ 21.1875 15.578125 18.9375 13.203125 \nQ 16.703125 10.84375 15.234375 8.453125 \nz\n\" id=\"ArialMT-50\"/>\n      </defs>\n      <g style=\"fill:#666666;\" transform=\"translate(125.573048 258.249266)scale(0.121 -0.121)\">\n       <use xlink:href=\"#ArialMT-48\"/>\n       <use x=\"55.615234\" xlink:href=\"#ArialMT-46\"/>\n       <use x=\"83.398438\" xlink:href=\"#ArialMT-50\"/>\n      </g>\n     </g>\n    </g>\n    <g id=\"xtick_3\">\n     <g id=\"line2d_3\">\n      <path clip-path=\"url(#pd90f5749be)\" d=\"M 189.321391 240.088312 \nL 189.321391 22.648312 \n\" style=\"fill:none;stroke:#dddddd;stroke-linecap:round;stroke-width:0.5;\"/>\n     </g>\n     <g id=\"text_3\">\n      <!-- 0.4 -->\n      <defs>\n       <path d=\"M 32.328125 0 \nL 32.328125 17.140625 \nL 1.265625 17.140625 \nL 1.265625 25.203125 \nL 33.9375 71.578125 \nL 41.109375 71.578125 \nL 41.109375 25.203125 \nL 50.78125 25.203125 \nL 50.78125 17.140625 \nL 41.109375 17.140625 \nL 41.109375 0 \nz\nM 32.328125 25.203125 \nL 32.328125 57.46875 \nL 9.90625 25.203125 \nz\n\" id=\"ArialMT-52\"/>\n      </defs>\n      <g style=\"fill:#666666;\" transform=\"translate(180.911891 258.249266)scale(0.121 -0.121)\">\n       <use xlink:href=\"#ArialMT-48\"/>\n       <use x=\"55.615234\" xlink:href=\"#ArialMT-46\"/>\n       <use x=\"83.398438\" xlink:href=\"#ArialMT-52\"/>\n      </g>\n     </g>\n    </g>\n    <g id=\"xtick_4\">\n     <g id=\"line2d_4\">\n      <path clip-path=\"url(#pd90f5749be)\" d=\"M 244.660234 240.088312 \nL 244.660234 22.648312 \n\" style=\"fill:none;stroke:#dddddd;stroke-linecap:round;stroke-width:0.5;\"/>\n     </g>\n     <g id=\"text_4\">\n      <!-- 0.6 -->\n      <defs>\n       <path d=\"M 49.75 54.046875 \nL 41.015625 53.375 \nQ 39.84375 58.546875 37.703125 60.890625 \nQ 34.125 64.65625 28.90625 64.65625 \nQ 24.703125 64.65625 21.53125 62.3125 \nQ 17.390625 59.28125 14.984375 53.46875 \nQ 12.59375 47.65625 12.5 36.921875 \nQ 15.671875 41.75 20.265625 44.09375 \nQ 24.859375 46.4375 29.890625 46.4375 \nQ 38.671875 46.4375 44.84375 39.96875 \nQ 51.03125 33.5 51.03125 23.25 \nQ 51.03125 16.5 48.125 10.71875 \nQ 45.21875 4.9375 40.140625 1.859375 \nQ 35.0625 -1.21875 28.609375 -1.21875 \nQ 17.625 -1.21875 10.6875 6.859375 \nQ 3.765625 14.9375 3.765625 33.5 \nQ 3.765625 54.25 11.421875 63.671875 \nQ 18.109375 71.875 29.4375 71.875 \nQ 37.890625 71.875 43.28125 67.140625 \nQ 48.6875 62.40625 49.75 54.046875 \nz\nM 13.875 23.1875 \nQ 13.875 18.65625 15.796875 14.5 \nQ 17.71875 10.359375 21.1875 8.171875 \nQ 24.65625 6 28.46875 6 \nQ 34.03125 6 38.03125 10.484375 \nQ 42.046875 14.984375 42.046875 22.703125 \nQ 42.046875 30.125 38.078125 34.390625 \nQ 34.125 38.671875 28.125 38.671875 \nQ 22.171875 38.671875 18.015625 34.390625 \nQ 13.875 30.125 13.875 23.1875 \nz\n\" id=\"ArialMT-54\"/>\n      </defs>\n      <g style=\"fill:#666666;\" transform=\"translate(236.250734 258.249266)scale(0.121 -0.121)\">\n       <use xlink:href=\"#ArialMT-48\"/>\n       <use x=\"55.615234\" xlink:href=\"#ArialMT-46\"/>\n       <use x=\"83.398438\" xlink:href=\"#ArialMT-54\"/>\n      </g>\n     </g>\n    </g>\n    <g id=\"xtick_5\">\n     <g id=\"line2d_5\">\n      <path clip-path=\"url(#pd90f5749be)\" d=\"M 299.999077 240.088312 \nL 299.999077 22.648312 \n\" style=\"fill:none;stroke:#dddddd;stroke-linecap:round;stroke-width:0.5;\"/>\n     </g>\n     <g id=\"text_5\">\n      <!-- 0.8 -->\n      <defs>\n       <path d=\"M 17.671875 38.8125 \nQ 12.203125 40.828125 9.5625 44.53125 \nQ 6.9375 48.25 6.9375 53.421875 \nQ 6.9375 61.234375 12.546875 66.546875 \nQ 18.171875 71.875 27.484375 71.875 \nQ 36.859375 71.875 42.578125 66.421875 \nQ 48.296875 60.984375 48.296875 53.171875 \nQ 48.296875 48.1875 45.671875 44.5 \nQ 43.0625 40.828125 37.75 38.8125 \nQ 44.34375 36.671875 47.78125 31.875 \nQ 51.21875 27.09375 51.21875 20.453125 \nQ 51.21875 11.28125 44.71875 5.03125 \nQ 38.234375 -1.21875 27.640625 -1.21875 \nQ 17.046875 -1.21875 10.546875 5.046875 \nQ 4.046875 11.328125 4.046875 20.703125 \nQ 4.046875 27.6875 7.59375 32.390625 \nQ 11.140625 37.109375 17.671875 38.8125 \nz\nM 15.921875 53.71875 \nQ 15.921875 48.640625 19.1875 45.40625 \nQ 22.46875 42.1875 27.6875 42.1875 \nQ 32.765625 42.1875 36.015625 45.375 \nQ 39.265625 48.578125 39.265625 53.21875 \nQ 39.265625 58.0625 35.90625 61.359375 \nQ 32.5625 64.65625 27.59375 64.65625 \nQ 22.5625 64.65625 19.234375 61.421875 \nQ 15.921875 58.203125 15.921875 53.71875 \nz\nM 13.09375 20.65625 \nQ 13.09375 16.890625 14.875 13.375 \nQ 16.65625 9.859375 20.171875 7.921875 \nQ 23.6875 6 27.734375 6 \nQ 34.03125 6 38.125 10.046875 \nQ 42.234375 14.109375 42.234375 20.359375 \nQ 42.234375 26.703125 38.015625 30.859375 \nQ 33.796875 35.015625 27.4375 35.015625 \nQ 21.234375 35.015625 17.15625 30.90625 \nQ 13.09375 26.8125 13.09375 20.65625 \nz\n\" id=\"ArialMT-56\"/>\n      </defs>\n      <g style=\"fill:#666666;\" transform=\"translate(291.589577 258.249266)scale(0.121 -0.121)\">\n       <use xlink:href=\"#ArialMT-48\"/>\n       <use x=\"55.615234\" xlink:href=\"#ArialMT-46\"/>\n       <use x=\"83.398438\" xlink:href=\"#ArialMT-56\"/>\n      </g>\n     </g>\n    </g>\n    <g id=\"xtick_6\">\n     <g id=\"line2d_6\">\n      <path clip-path=\"url(#pd90f5749be)\" d=\"M 355.33792 240.088312 \nL 355.33792 22.648312 \n\" style=\"fill:none;stroke:#dddddd;stroke-linecap:round;stroke-width:0.5;\"/>\n     </g>\n     <g id=\"text_6\">\n      <!-- 1.0 -->\n      <defs>\n       <path d=\"M 37.25 0 \nL 28.46875 0 \nL 28.46875 56 \nQ 25.296875 52.984375 20.140625 49.953125 \nQ 14.984375 46.921875 10.890625 45.40625 \nL 10.890625 53.90625 \nQ 18.265625 57.375 23.78125 62.296875 \nQ 29.296875 67.234375 31.59375 71.875 \nL 37.25 71.875 \nz\n\" id=\"ArialMT-49\"/>\n      </defs>\n      <g style=\"fill:#666666;\" transform=\"translate(346.92842 258.249266)scale(0.121 -0.121)\">\n       <use xlink:href=\"#ArialMT-49\"/>\n       <use x=\"55.615234\" xlink:href=\"#ArialMT-46\"/>\n       <use x=\"83.398438\" xlink:href=\"#ArialMT-48\"/>\n      </g>\n     </g>\n    </g>\n    <g id=\"text_7\">\n     <!-- Epoch -->\n     <defs>\n      <path d=\"M 7.90625 0 \nL 7.90625 71.578125 \nL 59.671875 71.578125 \nL 59.671875 63.140625 \nL 17.390625 63.140625 \nL 17.390625 41.21875 \nL 56.984375 41.21875 \nL 56.984375 32.8125 \nL 17.390625 32.8125 \nL 17.390625 8.453125 \nL 61.328125 8.453125 \nL 61.328125 0 \nz\n\" id=\"ArialMT-69\"/>\n      <path d=\"M 6.59375 -19.875 \nL 6.59375 51.859375 \nL 14.59375 51.859375 \nL 14.59375 45.125 \nQ 17.4375 49.078125 21 51.046875 \nQ 24.5625 53.03125 29.640625 53.03125 \nQ 36.28125 53.03125 41.359375 49.609375 \nQ 46.4375 46.1875 49.015625 39.953125 \nQ 51.609375 33.734375 51.609375 26.3125 \nQ 51.609375 18.359375 48.75 11.984375 \nQ 45.90625 5.609375 40.453125 2.21875 \nQ 35.015625 -1.171875 29 -1.171875 \nQ 24.609375 -1.171875 21.109375 0.6875 \nQ 17.625 2.546875 15.375 5.375 \nL 15.375 -19.875 \nz\nM 14.546875 25.640625 \nQ 14.546875 15.625 18.59375 10.84375 \nQ 22.65625 6.0625 28.421875 6.0625 \nQ 34.28125 6.0625 38.453125 11.015625 \nQ 42.625 15.96875 42.625 26.375 \nQ 42.625 36.28125 38.546875 41.203125 \nQ 34.46875 46.140625 28.8125 46.140625 \nQ 23.1875 46.140625 18.859375 40.890625 \nQ 14.546875 35.640625 14.546875 25.640625 \nz\n\" id=\"ArialMT-112\"/>\n      <path d=\"M 3.328125 25.921875 \nQ 3.328125 40.328125 11.328125 47.265625 \nQ 18.015625 53.03125 27.640625 53.03125 \nQ 38.328125 53.03125 45.109375 46.015625 \nQ 51.90625 39.015625 51.90625 26.65625 \nQ 51.90625 16.65625 48.90625 10.90625 \nQ 45.90625 5.171875 40.15625 2 \nQ 34.421875 -1.171875 27.640625 -1.171875 \nQ 16.75 -1.171875 10.03125 5.8125 \nQ 3.328125 12.796875 3.328125 25.921875 \nz\nM 12.359375 25.921875 \nQ 12.359375 15.96875 16.703125 11.015625 \nQ 21.046875 6.0625 27.640625 6.0625 \nQ 34.1875 6.0625 38.53125 11.03125 \nQ 42.875 16.015625 42.875 26.21875 \nQ 42.875 35.84375 38.5 40.796875 \nQ 34.125 45.75 27.640625 45.75 \nQ 21.046875 45.75 16.703125 40.8125 \nQ 12.359375 35.890625 12.359375 25.921875 \nz\n\" id=\"ArialMT-111\"/>\n      <path d=\"M 40.4375 19 \nL 49.078125 17.875 \nQ 47.65625 8.9375 41.8125 3.875 \nQ 35.984375 -1.171875 27.484375 -1.171875 \nQ 16.84375 -1.171875 10.375 5.78125 \nQ 3.90625 12.75 3.90625 25.734375 \nQ 3.90625 34.125 6.6875 40.421875 \nQ 9.46875 46.734375 15.15625 49.875 \nQ 20.84375 53.03125 27.546875 53.03125 \nQ 35.984375 53.03125 41.359375 48.75 \nQ 46.734375 44.484375 48.25 36.625 \nL 39.703125 35.296875 \nQ 38.484375 40.53125 35.375 43.15625 \nQ 32.28125 45.796875 27.875 45.796875 \nQ 21.234375 45.796875 17.078125 41.03125 \nQ 12.9375 36.28125 12.9375 25.984375 \nQ 12.9375 15.53125 16.9375 10.796875 \nQ 20.953125 6.0625 27.390625 6.0625 \nQ 32.5625 6.0625 36.03125 9.234375 \nQ 39.5 12.40625 40.4375 19 \nz\n\" id=\"ArialMT-99\"/>\n      <path d=\"M 6.59375 0 \nL 6.59375 71.578125 \nL 15.375 71.578125 \nL 15.375 45.90625 \nQ 21.53125 53.03125 30.90625 53.03125 \nQ 36.671875 53.03125 40.921875 50.75 \nQ 45.171875 48.484375 47 44.484375 \nQ 48.828125 40.484375 48.828125 32.859375 \nL 48.828125 0 \nL 40.046875 0 \nL 40.046875 32.859375 \nQ 40.046875 39.453125 37.1875 42.453125 \nQ 34.328125 45.453125 29.109375 45.453125 \nQ 25.203125 45.453125 21.75 43.421875 \nQ 18.3125 41.40625 16.84375 37.9375 \nQ 15.375 34.46875 15.375 28.375 \nL 15.375 0 \nz\n\" id=\"ArialMT-104\"/>\n     </defs>\n     <g style=\"fill:#262626;\" transform=\"translate(198.27775 274.102453)scale(0.132 -0.132)\">\n      <use xlink:href=\"#ArialMT-69\"/>\n      <use x=\"66.699219\" xlink:href=\"#ArialMT-112\"/>\n      <use x=\"122.314453\" xlink:href=\"#ArialMT-111\"/>\n      <use x=\"177.929688\" xlink:href=\"#ArialMT-99\"/>\n      <use x=\"227.929688\" xlink:href=\"#ArialMT-104\"/>\n     </g>\n    </g>\n   </g>\n   <g id=\"matplotlib.axis_2\">\n    <g id=\"ytick_1\">\n     <g id=\"line2d_7\">\n      <path clip-path=\"url(#pd90f5749be)\" d=\"M 49.590813 221.219552 \nL 384.390813 221.219552 \n\" style=\"fill:none;stroke:#dddddd;stroke-linecap:round;stroke-width:0.5;\"/>\n     </g>\n     <g id=\"text_8\">\n      <!-- 0.0 -->\n      <g style=\"fill:#666666;\" transform=\"translate(23.271813 225.550029)scale(0.121 -0.121)\">\n       <use xlink:href=\"#ArialMT-48\"/>\n       <use x=\"55.615234\" xlink:href=\"#ArialMT-46\"/>\n       <use x=\"83.398438\" xlink:href=\"#ArialMT-48\"/>\n      </g>\n     </g>\n    </g>\n    <g id=\"ytick_2\">\n     <g id=\"line2d_8\">\n      <path clip-path=\"url(#pd90f5749be)\" d=\"M 49.590813 185.279056 \nL 384.390813 185.279056 \n\" style=\"fill:none;stroke:#dddddd;stroke-linecap:round;stroke-width:0.5;\"/>\n     </g>\n     <g id=\"text_9\">\n      <!-- 0.2 -->\n      <g style=\"fill:#666666;\" transform=\"translate(23.271813 189.609533)scale(0.121 -0.121)\">\n       <use xlink:href=\"#ArialMT-48\"/>\n       <use x=\"55.615234\" xlink:href=\"#ArialMT-46\"/>\n       <use x=\"83.398438\" xlink:href=\"#ArialMT-50\"/>\n      </g>\n     </g>\n    </g>\n    <g id=\"ytick_3\">\n     <g id=\"line2d_9\">\n      <path clip-path=\"url(#pd90f5749be)\" d=\"M 49.590813 149.33856 \nL 384.390813 149.33856 \n\" style=\"fill:none;stroke:#dddddd;stroke-linecap:round;stroke-width:0.5;\"/>\n     </g>\n     <g id=\"text_10\">\n      <!-- 0.4 -->\n      <g style=\"fill:#666666;\" transform=\"translate(23.271813 153.669037)scale(0.121 -0.121)\">\n       <use xlink:href=\"#ArialMT-48\"/>\n       <use x=\"55.615234\" xlink:href=\"#ArialMT-46\"/>\n       <use x=\"83.398438\" xlink:href=\"#ArialMT-52\"/>\n      </g>\n     </g>\n    </g>\n    <g id=\"ytick_4\">\n     <g id=\"line2d_10\">\n      <path clip-path=\"url(#pd90f5749be)\" d=\"M 49.590813 113.398065 \nL 384.390813 113.398065 \n\" style=\"fill:none;stroke:#dddddd;stroke-linecap:round;stroke-width:0.5;\"/>\n     </g>\n     <g id=\"text_11\">\n      <!-- 0.6 -->\n      <g style=\"fill:#666666;\" transform=\"translate(23.271813 117.728541)scale(0.121 -0.121)\">\n       <use xlink:href=\"#ArialMT-48\"/>\n       <use x=\"55.615234\" xlink:href=\"#ArialMT-46\"/>\n       <use x=\"83.398438\" xlink:href=\"#ArialMT-54\"/>\n      </g>\n     </g>\n    </g>\n    <g id=\"ytick_5\">\n     <g id=\"line2d_11\">\n      <path clip-path=\"url(#pd90f5749be)\" d=\"M 49.590813 77.457569 \nL 384.390813 77.457569 \n\" style=\"fill:none;stroke:#dddddd;stroke-linecap:round;stroke-width:0.5;\"/>\n     </g>\n     <g id=\"text_12\">\n      <!-- 0.8 -->\n      <g style=\"fill:#666666;\" transform=\"translate(23.271813 81.788045)scale(0.121 -0.121)\">\n       <use xlink:href=\"#ArialMT-48\"/>\n       <use x=\"55.615234\" xlink:href=\"#ArialMT-46\"/>\n       <use x=\"83.398438\" xlink:href=\"#ArialMT-56\"/>\n      </g>\n     </g>\n    </g>\n    <g id=\"ytick_6\">\n     <g id=\"line2d_12\">\n      <path clip-path=\"url(#pd90f5749be)\" d=\"M 49.590813 41.517073 \nL 384.390813 41.517073 \n\" style=\"fill:none;stroke:#dddddd;stroke-linecap:round;stroke-width:0.5;\"/>\n     </g>\n     <g id=\"text_13\">\n      <!-- 1.0 -->\n      <g style=\"fill:#666666;\" transform=\"translate(23.271813 45.847549)scale(0.121 -0.121)\">\n       <use xlink:href=\"#ArialMT-49\"/>\n       <use x=\"55.615234\" xlink:href=\"#ArialMT-46\"/>\n       <use x=\"83.398438\" xlink:href=\"#ArialMT-48\"/>\n      </g>\n     </g>\n    </g>\n    <g id=\"text_14\">\n     <!-- Loss -->\n     <defs>\n      <path d=\"M 7.328125 0 \nL 7.328125 71.578125 \nL 16.796875 71.578125 \nL 16.796875 8.453125 \nL 52.046875 8.453125 \nL 52.046875 0 \nz\n\" id=\"ArialMT-76\"/>\n      <path d=\"M 3.078125 15.484375 \nL 11.765625 16.84375 \nQ 12.5 11.625 15.84375 8.84375 \nQ 19.1875 6.0625 25.203125 6.0625 \nQ 31.25 6.0625 34.171875 8.515625 \nQ 37.109375 10.984375 37.109375 14.3125 \nQ 37.109375 17.28125 34.515625 19 \nQ 32.71875 20.171875 25.53125 21.96875 \nQ 15.875 24.421875 12.140625 26.203125 \nQ 8.40625 27.984375 6.46875 31.125 \nQ 4.546875 34.28125 4.546875 38.09375 \nQ 4.546875 41.546875 6.125 44.5 \nQ 7.71875 47.46875 10.453125 49.421875 \nQ 12.5 50.921875 16.03125 51.96875 \nQ 19.578125 53.03125 23.640625 53.03125 \nQ 29.734375 53.03125 34.34375 51.265625 \nQ 38.96875 49.515625 41.15625 46.5 \nQ 43.359375 43.5 44.1875 38.484375 \nL 35.59375 37.3125 \nQ 35.015625 41.3125 32.203125 43.546875 \nQ 29.390625 45.796875 24.265625 45.796875 \nQ 18.21875 45.796875 15.625 43.796875 \nQ 13.03125 41.796875 13.03125 39.109375 \nQ 13.03125 37.40625 14.109375 36.03125 \nQ 15.1875 34.625 17.484375 33.6875 \nQ 18.796875 33.203125 25.25 31.453125 \nQ 34.578125 28.953125 38.25 27.359375 \nQ 41.9375 25.78125 44.03125 22.75 \nQ 46.140625 19.734375 46.140625 15.234375 \nQ 46.140625 10.84375 43.578125 6.953125 \nQ 41.015625 3.078125 36.171875 0.953125 \nQ 31.34375 -1.171875 25.25 -1.171875 \nQ 15.140625 -1.171875 9.84375 3.03125 \nQ 4.546875 7.234375 3.078125 15.484375 \nz\n\" id=\"ArialMT-115\"/>\n     </defs>\n     <g style=\"fill:#262626;\" transform=\"translate(16.648313 145.30875)rotate(-90)scale(0.132 -0.132)\">\n      <use xlink:href=\"#ArialMT-76\"/>\n      <use x=\"55.615234\" xlink:href=\"#ArialMT-111\"/>\n      <use x=\"111.230469\" xlink:href=\"#ArialMT-115\"/>\n      <use x=\"161.230469\" xlink:href=\"#ArialMT-115\"/>\n     </g>\n    </g>\n   </g>\n   <g id=\"line2d_13\">\n    <path clip-path=\"url(#pd90f5749be)\" d=\"M 0 0 \n\" style=\"fill:none;stroke:#4c72b0;stroke-linecap:round;stroke-width:1.5;\"/>\n   </g>\n   <g id=\"line2d_14\">\n    <path clip-path=\"url(#pd90f5749be)\" d=\"M 0 0 \n\" style=\"fill:none;stroke:#dd8452;stroke-linecap:round;stroke-width:1.5;\"/>\n   </g>\n   <g id=\"patch_3\">\n    <path d=\"M 49.590813 240.088312 \nL 49.590813 22.648312 \n\" style=\"fill:none;stroke:#ffffff;stroke-linecap:square;stroke-linejoin:miter;stroke-width:1.25;\"/>\n   </g>\n   <g id=\"patch_4\">\n    <path d=\"M 384.390813 240.088312 \nL 384.390813 22.648312 \n\" style=\"fill:none;stroke:#ffffff;stroke-linecap:square;stroke-linejoin:miter;stroke-width:1.25;\"/>\n   </g>\n   <g id=\"patch_5\">\n    <path d=\"M 49.590813 240.088312 \nL 384.390813 240.088312 \n\" style=\"fill:none;stroke:#ffffff;stroke-linecap:square;stroke-linejoin:miter;stroke-width:1.25;\"/>\n   </g>\n   <g id=\"patch_6\">\n    <path d=\"M 49.590813 22.648312 \nL 384.390813 22.648312 \n\" style=\"fill:none;stroke:#ffffff;stroke-linecap:square;stroke-linejoin:miter;stroke-width:1.25;\"/>\n   </g>\n   <g id=\"text_15\">\n    <!-- Model loss -->\n    <defs>\n     <path d=\"M 7.421875 0 \nL 7.421875 71.578125 \nL 21.6875 71.578125 \nL 38.625 20.90625 \nQ 40.96875 13.8125 42.046875 10.296875 \nQ 43.265625 14.203125 45.84375 21.78125 \nL 62.984375 71.578125 \nL 75.734375 71.578125 \nL 75.734375 0 \nL 66.609375 0 \nL 66.609375 59.90625 \nL 45.796875 0 \nL 37.25 0 \nL 16.546875 60.9375 \nL 16.546875 0 \nz\n\" id=\"ArialMT-77\"/>\n     <path d=\"M 40.234375 0 \nL 40.234375 6.546875 \nQ 35.296875 -1.171875 25.734375 -1.171875 \nQ 19.53125 -1.171875 14.328125 2.25 \nQ 9.125 5.671875 6.265625 11.796875 \nQ 3.421875 17.921875 3.421875 25.875 \nQ 3.421875 33.640625 6 39.96875 \nQ 8.59375 46.296875 13.765625 49.65625 \nQ 18.953125 53.03125 25.34375 53.03125 \nQ 30.03125 53.03125 33.6875 51.046875 \nQ 37.359375 49.078125 39.65625 45.90625 \nL 39.65625 71.578125 \nL 48.390625 71.578125 \nL 48.390625 0 \nz\nM 12.453125 25.875 \nQ 12.453125 15.921875 16.640625 10.984375 \nQ 20.84375 6.0625 26.5625 6.0625 \nQ 32.328125 6.0625 36.34375 10.765625 \nQ 40.375 15.484375 40.375 25.140625 \nQ 40.375 35.796875 36.265625 40.765625 \nQ 32.171875 45.75 26.171875 45.75 \nQ 20.3125 45.75 16.375 40.96875 \nQ 12.453125 36.1875 12.453125 25.875 \nz\n\" id=\"ArialMT-100\"/>\n     <path d=\"M 42.09375 16.703125 \nL 51.171875 15.578125 \nQ 49.03125 7.625 43.21875 3.21875 \nQ 37.40625 -1.171875 28.375 -1.171875 \nQ 17 -1.171875 10.328125 5.828125 \nQ 3.65625 12.84375 3.65625 25.484375 \nQ 3.65625 38.578125 10.390625 45.796875 \nQ 17.140625 53.03125 27.875 53.03125 \nQ 38.28125 53.03125 44.875 45.953125 \nQ 51.46875 38.875 51.46875 26.03125 \nQ 51.46875 25.25 51.421875 23.6875 \nL 12.75 23.6875 \nQ 13.234375 15.140625 17.578125 10.59375 \nQ 21.921875 6.0625 28.421875 6.0625 \nQ 33.25 6.0625 36.671875 8.59375 \nQ 40.09375 11.140625 42.09375 16.703125 \nz\nM 13.234375 30.90625 \nL 42.1875 30.90625 \nQ 41.609375 37.453125 38.875 40.71875 \nQ 34.671875 45.796875 27.984375 45.796875 \nQ 21.921875 45.796875 17.796875 41.75 \nQ 13.671875 37.703125 13.234375 30.90625 \nz\n\" id=\"ArialMT-101\"/>\n     <path d=\"M 6.390625 0 \nL 6.390625 71.578125 \nL 15.1875 71.578125 \nL 15.1875 0 \nz\n\" id=\"ArialMT-108\"/>\n     <path id=\"ArialMT-32\"/>\n    </defs>\n    <g style=\"fill:#333333;\" transform=\"translate(185.445906 16.648312)scale(0.132 -0.132)\">\n     <use xlink:href=\"#ArialMT-77\"/>\n     <use x=\"83.300781\" xlink:href=\"#ArialMT-111\"/>\n     <use x=\"138.916016\" xlink:href=\"#ArialMT-100\"/>\n     <use x=\"194.53125\" xlink:href=\"#ArialMT-101\"/>\n     <use x=\"250.146484\" xlink:href=\"#ArialMT-108\"/>\n     <use x=\"272.363281\" xlink:href=\"#ArialMT-32\"/>\n     <use x=\"300.146484\" xlink:href=\"#ArialMT-108\"/>\n     <use x=\"322.363281\" xlink:href=\"#ArialMT-111\"/>\n     <use x=\"377.978516\" xlink:href=\"#ArialMT-115\"/>\n     <use x=\"427.978516\" xlink:href=\"#ArialMT-115\"/>\n    </g>\n   </g>\n   <g id=\"legend_1\">\n    <g id=\"patch_7\">\n     <path d=\"M 284.072359 66.559969 \nL 375.920813 66.559969 \nQ 378.340813 66.559969 378.340813 64.139969 \nL 378.340813 31.118312 \nQ 378.340813 28.698312 375.920813 28.698312 \nL 284.072359 28.698312 \nQ 281.652359 28.698312 281.652359 31.118312 \nL 281.652359 64.139969 \nQ 281.652359 66.559969 284.072359 66.559969 \nz\n\" style=\"fill:#ffffff;opacity:0.8;stroke:#cccccc;stroke-linejoin:miter;\"/>\n    </g>\n    <g id=\"line2d_15\">\n     <path d=\"M 286.492359 37.964266 \nL 310.692359 37.964266 \n\" style=\"fill:none;stroke:#4c72b0;stroke-linecap:round;stroke-width:1.5;\"/>\n    </g>\n    <g id=\"line2d_16\"/>\n    <g id=\"text_16\">\n     <!-- Train -->\n     <defs>\n      <path d=\"M 25.921875 0 \nL 25.921875 63.140625 \nL 2.34375 63.140625 \nL 2.34375 71.578125 \nL 59.078125 71.578125 \nL 59.078125 63.140625 \nL 35.40625 63.140625 \nL 35.40625 0 \nz\n\" id=\"ArialMT-84\"/>\n      <path d=\"M 6.5 0 \nL 6.5 51.859375 \nL 14.40625 51.859375 \nL 14.40625 44 \nQ 17.4375 49.515625 20 51.265625 \nQ 22.5625 53.03125 25.640625 53.03125 \nQ 30.078125 53.03125 34.671875 50.203125 \nL 31.640625 42.046875 \nQ 28.421875 43.953125 25.203125 43.953125 \nQ 22.3125 43.953125 20.015625 42.21875 \nQ 17.71875 40.484375 16.75 37.40625 \nQ 15.28125 32.71875 15.28125 27.15625 \nL 15.28125 0 \nz\n\" id=\"ArialMT-114\"/>\n      <path d=\"M 40.4375 6.390625 \nQ 35.546875 2.25 31.03125 0.53125 \nQ 26.515625 -1.171875 21.34375 -1.171875 \nQ 12.796875 -1.171875 8.203125 3 \nQ 3.609375 7.171875 3.609375 13.671875 \nQ 3.609375 17.484375 5.34375 20.625 \nQ 7.078125 23.78125 9.890625 25.6875 \nQ 12.703125 27.59375 16.21875 28.5625 \nQ 18.796875 29.25 24.03125 29.890625 \nQ 34.671875 31.15625 39.703125 32.90625 \nQ 39.75 34.71875 39.75 35.203125 \nQ 39.75 40.578125 37.25 42.78125 \nQ 33.890625 45.75 27.25 45.75 \nQ 21.046875 45.75 18.09375 43.578125 \nQ 15.140625 41.40625 13.71875 35.890625 \nL 5.125 37.0625 \nQ 6.296875 42.578125 8.984375 45.96875 \nQ 11.671875 49.359375 16.75 51.1875 \nQ 21.828125 53.03125 28.515625 53.03125 \nQ 35.15625 53.03125 39.296875 51.46875 \nQ 43.453125 49.90625 45.40625 47.53125 \nQ 47.359375 45.171875 48.140625 41.546875 \nQ 48.578125 39.3125 48.578125 33.453125 \nL 48.578125 21.734375 \nQ 48.578125 9.46875 49.140625 6.21875 \nQ 49.703125 2.984375 51.375 0 \nL 42.1875 0 \nQ 40.828125 2.734375 40.4375 6.390625 \nz\nM 39.703125 26.03125 \nQ 34.90625 24.078125 25.34375 22.703125 \nQ 19.921875 21.921875 17.671875 20.9375 \nQ 15.4375 19.96875 14.203125 18.09375 \nQ 12.984375 16.21875 12.984375 13.921875 \nQ 12.984375 10.40625 15.640625 8.0625 \nQ 18.3125 5.71875 23.4375 5.71875 \nQ 28.515625 5.71875 32.46875 7.9375 \nQ 36.421875 10.15625 38.28125 14.015625 \nQ 39.703125 17 39.703125 22.796875 \nz\n\" id=\"ArialMT-97\"/>\n      <path d=\"M 6.640625 61.46875 \nL 6.640625 71.578125 \nL 15.4375 71.578125 \nL 15.4375 61.46875 \nz\nM 6.640625 0 \nL 6.640625 51.859375 \nL 15.4375 51.859375 \nL 15.4375 0 \nz\n\" id=\"ArialMT-105\"/>\n      <path d=\"M 6.59375 0 \nL 6.59375 51.859375 \nL 14.5 51.859375 \nL 14.5 44.484375 \nQ 20.21875 53.03125 31 53.03125 \nQ 35.6875 53.03125 39.625 51.34375 \nQ 43.5625 49.65625 45.515625 46.921875 \nQ 47.46875 44.1875 48.25 40.4375 \nQ 48.734375 37.984375 48.734375 31.890625 \nL 48.734375 0 \nL 39.9375 0 \nL 39.9375 31.546875 \nQ 39.9375 36.921875 38.90625 39.578125 \nQ 37.890625 42.234375 35.28125 43.8125 \nQ 32.671875 45.40625 29.15625 45.40625 \nQ 23.53125 45.40625 19.453125 41.84375 \nQ 15.375 38.28125 15.375 28.328125 \nL 15.375 0 \nz\n\" id=\"ArialMT-110\"/>\n     </defs>\n     <g style=\"fill:#333333;\" transform=\"translate(320.372359 42.199266)scale(0.121 -0.121)\">\n      <use xlink:href=\"#ArialMT-84\"/>\n      <use x=\"61.037109\" xlink:href=\"#ArialMT-114\"/>\n      <use x=\"94.337891\" xlink:href=\"#ArialMT-97\"/>\n      <use x=\"149.953125\" xlink:href=\"#ArialMT-105\"/>\n      <use x=\"172.169922\" xlink:href=\"#ArialMT-110\"/>\n     </g>\n    </g>\n    <g id=\"line2d_17\">\n     <path d=\"M 286.492359 55.080094 \nL 310.692359 55.080094 \n\" style=\"fill:none;stroke:#dd8452;stroke-linecap:round;stroke-width:1.5;\"/>\n    </g>\n    <g id=\"line2d_18\"/>\n    <g id=\"text_17\">\n     <!-- Validation -->\n     <defs>\n      <path d=\"M 28.171875 0 \nL 0.4375 71.578125 \nL 10.6875 71.578125 \nL 29.296875 19.578125 \nQ 31.546875 13.328125 33.0625 7.859375 \nQ 34.71875 13.71875 36.921875 19.578125 \nL 56.25 71.578125 \nL 65.921875 71.578125 \nL 37.890625 0 \nz\n\" id=\"ArialMT-86\"/>\n      <path d=\"M 25.78125 7.859375 \nL 27.046875 0.09375 \nQ 23.34375 -0.6875 20.40625 -0.6875 \nQ 15.625 -0.6875 12.984375 0.828125 \nQ 10.359375 2.34375 9.28125 4.8125 \nQ 8.203125 7.28125 8.203125 15.1875 \nL 8.203125 45.015625 \nL 1.765625 45.015625 \nL 1.765625 51.859375 \nL 8.203125 51.859375 \nL 8.203125 64.703125 \nL 16.9375 69.96875 \nL 16.9375 51.859375 \nL 25.78125 51.859375 \nL 25.78125 45.015625 \nL 16.9375 45.015625 \nL 16.9375 14.703125 \nQ 16.9375 10.9375 17.40625 9.859375 \nQ 17.875 8.796875 18.921875 8.15625 \nQ 19.96875 7.515625 21.921875 7.515625 \nQ 23.390625 7.515625 25.78125 7.859375 \nz\n\" id=\"ArialMT-116\"/>\n     </defs>\n     <g style=\"fill:#333333;\" transform=\"translate(320.372359 59.315094)scale(0.121 -0.121)\">\n      <use xlink:href=\"#ArialMT-86\"/>\n      <use x=\"66.589844\" xlink:href=\"#ArialMT-97\"/>\n      <use x=\"122.205078\" xlink:href=\"#ArialMT-108\"/>\n      <use x=\"144.421875\" xlink:href=\"#ArialMT-105\"/>\n      <use x=\"166.638672\" xlink:href=\"#ArialMT-100\"/>\n      <use x=\"222.253906\" xlink:href=\"#ArialMT-97\"/>\n      <use x=\"277.869141\" xlink:href=\"#ArialMT-116\"/>\n      <use x=\"305.652344\" xlink:href=\"#ArialMT-105\"/>\n      <use x=\"327.869141\" xlink:href=\"#ArialMT-111\"/>\n      <use x=\"383.484375\" xlink:href=\"#ArialMT-110\"/>\n     </g>\n    </g>\n   </g>\n  </g>\n </g>\n <defs>\n  <clipPath id=\"pd90f5749be\">\n   <rect height=\"217.44\" width=\"334.8\" x=\"49.590813\" y=\"22.648312\"/>\n  </clipPath>\n </defs>\n</svg>\n",
      "image/png": "[encoded data removed]"
     },
     "metadata": {
      "needs_background": "light"
     }
    }
   ],
   "source": [
    "import ron.ai.keras as rk\n",
    "rk.plot_training_results(results)"
   ]
  },
  {
   "cell_type": "markdown",
   "metadata": {
    "colab_type": "text",
    "id": "ItE6aCu4w3qS"
   },
   "source": [
    "## Get predictions\n",
    "We will only use the encoder to obtain the predictions. We will use a matrix of real values including both the stock dataset and one or multiple time series of interest."
   ]
  },
  {
   "cell_type": "markdown",
   "metadata": {
    "colab_type": "text",
    "id": "S7gN3mN0xLZg"
   },
   "source": [
    "#### Then divide the target dataset into two periods as well"
   ]
  },
  {
   "cell_type": "code",
   "execution_count": 40,
   "metadata": {
    "colab": {
     "base_uri": "https://localhost:8080/",
     "height": 51
    },
    "colab_type": "code",
    "executionInfo": {
     "elapsed": 907,
     "status": "ok",
     "timestamp": 1554397395367,
     "user": {
      "displayName": "Marie Imokoyende",
      "photoUrl": "",
      "userId": "13592623342127678396"
     },
     "user_tz": 240
    },
    "id": "6i6OF0GnxD5d",
    "outputId": "6eea6c43-ce6c-4c34-b9b5-0084f54286ef"
   },
   "outputs": [
    {
     "output_type": "stream",
     "name": "stdout",
     "text": "len(geoMA_5d_target_p1) = 1086\nlen(geoMA_5d_target_p2) = 1086\n"
    }
   ],
   "source": [
    "geoMA_5d_target_p1 = target_gmean_5d.head(int(len(target_gmean_5d)/2))\n",
    "geoMA_5d_target_p2 = target_gmean_5d.tail(int(len(target_gmean_5d)/2))\n",
    "print('len(geoMA_5d_target_p1) =', len(geoMA_5d_target_p1))\n",
    "print('len(geoMA_5d_target_p2) =', len(geoMA_5d_target_p1))"
   ]
  },
  {
   "cell_type": "markdown",
   "metadata": {
    "colab_type": "text",
    "id": "iL4sNQ_lx3WA"
   },
   "source": [
    "### Create the matrices to test (for period 1)"
   ]
  },
  {
   "cell_type": "code",
   "execution_count": 41,
   "metadata": {
    "colab": {},
    "colab_type": "code",
    "id": "5SIulv72xrGo"
   },
   "outputs": [],
   "source": [
    "dataframe_to_test_p1 = geoMA_5d_stocks_p1.join(geoMA_5d_target_p1)"
   ]
  },
  {
   "cell_type": "code",
   "execution_count": 42,
   "metadata": {
    "colab": {
     "base_uri": "https://localhost:8080/",
     "height": 338
    },
    "colab_type": "code",
    "executionInfo": {
     "elapsed": 522,
     "status": "ok",
     "timestamp": 1554397406334,
     "user": {
      "displayName": "Marie Imokoyende",
      "photoUrl": "",
      "userId": "13592623342127678396"
     },
     "user_tz": 240
    },
    "id": "gzeULPMjyCbU",
    "outputId": "89bd794d-a1aa-4871-e4d7-a0b93890449e"
   },
   "outputs": [
    {
     "output_type": "execute_result",
     "data": {
      "text/plain": "                AAPL       NKE      CSCO       IBM       JNJ      INTC  \\\nDate                                                                     \n2019-02-13 -0.003901  0.006373  0.000028  0.004028  0.002138  0.002179   \n2019-02-14  0.000678  0.005444  0.007113  0.004850  0.003371  0.006256   \n2019-02-15 -0.000002  0.007168  0.009221  0.006326  0.005890  0.011187   \n2019-02-19  0.001753  0.002074  0.008461  0.006878  0.005477  0.010454   \n2019-02-20  0.001322  0.000276  0.007075  0.002815  0.003215  0.005416   \n\n                 JPM       UNH        PG       DIS  ...       WBA       MMM  \\\nDate                                                ...                       \n2019-02-13 -0.001317 -0.004432  0.002658 -0.002230  ...  0.002607  0.006841   \n2019-02-14  0.000031 -0.002912  0.002680 -0.000572  ...  0.003701  0.006300   \n2019-02-15  0.008007  0.006808  0.001552  0.001854  ...  0.010424  0.010115   \n2019-02-19  0.008257  0.010004  0.003437  0.007283  ...  0.012137  0.008584   \n2019-02-20  0.005853  0.004469  0.000006  0.008027  ...  0.001692  0.003186   \n\n                  GS       UTX       CVX       PFE        BA       WMT  \\\nDate                                                                     \n2019-02-13 -0.002037  0.004957  0.001122 -0.003054  0.000707  0.004716   \n2019-02-14 -0.000605  0.006744  0.001850  0.001251  0.002257  0.003636   \n2019-02-15  0.006896  0.009560  0.004960  0.000768  0.006302  0.009016   \n2019-02-19  0.007426  0.010564  0.005976  0.004356  0.005954  0.012084   \n2019-02-20  0.004087  0.008182  0.004600  0.001544  0.005162  0.005795   \n\n                  VZ  DJI  \nDate                       \n2019-02-13  0.002541  NaN  \n2019-02-14  0.001694  NaN  \n2019-02-15  0.004391  NaN  \n2019-02-19  0.005034  NaN  \n2019-02-20  0.004821  NaN  \n\n[5 rows x 30 columns]",
      "text/html": "<div>\n<style scoped>\n    .dataframe tbody tr th:only-of-type {\n        vertical-align: middle;\n    }\n\n    .dataframe tbody tr th {\n        vertical-align: top;\n    }\n\n    .dataframe thead th {\n        text-align: right;\n    }\n</style>\n<table border=\"1\" class=\"dataframe\">\n  <thead>\n    <tr style=\"text-align: right;\">\n      <th></th>\n      <th>AAPL</th>\n      <th>NKE</th>\n      <th>CSCO</th>\n      <th>IBM</th>\n      <th>JNJ</th>\n      <th>INTC</th>\n      <th>JPM</th>\n      <th>UNH</th>\n      <th>PG</th>\n      <th>DIS</th>\n      <th>...</th>\n      <th>WBA</th>\n      <th>MMM</th>\n      <th>GS</th>\n      <th>UTX</th>\n      <th>CVX</th>\n      <th>PFE</th>\n      <th>BA</th>\n      <th>WMT</th>\n      <th>VZ</th>\n      <th>DJI</th>\n    </tr>\n    <tr>\n      <th>Date</th>\n      <th></th>\n      <th></th>\n      <th></th>\n      <th></th>\n      <th></th>\n      <th></th>\n      <th></th>\n      <th></th>\n      <th></th>\n      <th></th>\n      <th></th>\n      <th></th>\n      <th></th>\n      <th></th>\n      <th></th>\n      <th></th>\n      <th></th>\n      <th></th>\n      <th></th>\n      <th></th>\n      <th></th>\n    </tr>\n  </thead>\n  <tbody>\n    <tr>\n      <th>2019-02-13</th>\n      <td>-0.003901</td>\n      <td>0.006373</td>\n      <td>0.000028</td>\n      <td>0.004028</td>\n      <td>0.002138</td>\n      <td>0.002179</td>\n      <td>-0.001317</td>\n      <td>-0.004432</td>\n      <td>0.002658</td>\n      <td>-0.002230</td>\n      <td>...</td>\n      <td>0.002607</td>\n      <td>0.006841</td>\n      <td>-0.002037</td>\n      <td>0.004957</td>\n      <td>0.001122</td>\n      <td>-0.003054</td>\n      <td>0.000707</td>\n      <td>0.004716</td>\n      <td>0.002541</td>\n      <td>NaN</td>\n    </tr>\n    <tr>\n      <th>2019-02-14</th>\n      <td>0.000678</td>\n      <td>0.005444</td>\n      <td>0.007113</td>\n      <td>0.004850</td>\n      <td>0.003371</td>\n      <td>0.006256</td>\n      <td>0.000031</td>\n      <td>-0.002912</td>\n      <td>0.002680</td>\n      <td>-0.000572</td>\n      <td>...</td>\n      <td>0.003701</td>\n      <td>0.006300</td>\n      <td>-0.000605</td>\n      <td>0.006744</td>\n      <td>0.001850</td>\n      <td>0.001251</td>\n      <td>0.002257</td>\n      <td>0.003636</td>\n      <td>0.001694</td>\n      <td>NaN</td>\n    </tr>\n    <tr>\n      <th>2019-02-15</th>\n      <td>-0.000002</td>\n      <td>0.007168</td>\n      <td>0.009221</td>\n      <td>0.006326</td>\n      <td>0.005890</td>\n      <td>0.011187</td>\n      <td>0.008007</td>\n      <td>0.006808</td>\n      <td>0.001552</td>\n      <td>0.001854</td>\n      <td>...</td>\n      <td>0.010424</td>\n      <td>0.010115</td>\n      <td>0.006896</td>\n      <td>0.009560</td>\n      <td>0.004960</td>\n      <td>0.000768</td>\n      <td>0.006302</td>\n      <td>0.009016</td>\n      <td>0.004391</td>\n      <td>NaN</td>\n    </tr>\n    <tr>\n      <th>2019-02-19</th>\n      <td>0.001753</td>\n      <td>0.002074</td>\n      <td>0.008461</td>\n      <td>0.006878</td>\n      <td>0.005477</td>\n      <td>0.010454</td>\n      <td>0.008257</td>\n      <td>0.010004</td>\n      <td>0.003437</td>\n      <td>0.007283</td>\n      <td>...</td>\n      <td>0.012137</td>\n      <td>0.008584</td>\n      <td>0.007426</td>\n      <td>0.010564</td>\n      <td>0.005976</td>\n      <td>0.004356</td>\n      <td>0.005954</td>\n      <td>0.012084</td>\n      <td>0.005034</td>\n      <td>NaN</td>\n    </tr>\n    <tr>\n      <th>2019-02-20</th>\n      <td>0.001322</td>\n      <td>0.000276</td>\n      <td>0.007075</td>\n      <td>0.002815</td>\n      <td>0.003215</td>\n      <td>0.005416</td>\n      <td>0.005853</td>\n      <td>0.004469</td>\n      <td>0.000006</td>\n      <td>0.008027</td>\n      <td>...</td>\n      <td>0.001692</td>\n      <td>0.003186</td>\n      <td>0.004087</td>\n      <td>0.008182</td>\n      <td>0.004600</td>\n      <td>0.001544</td>\n      <td>0.005162</td>\n      <td>0.005795</td>\n      <td>0.004821</td>\n      <td>NaN</td>\n    </tr>\n  </tbody>\n</table>\n<p>5 rows × 30 columns</p>\n</div>"
     },
     "metadata": {},
     "execution_count": 42
    }
   ],
   "source": [
    "dataframe_to_test_p1.tail()"
   ]
  },
  {
   "cell_type": "code",
   "execution_count": 43,
   "metadata": {
    "colab": {},
    "colab_type": "code",
    "id": "YtZ4nNdDyEnu"
   },
   "outputs": [],
   "source": [
    "matrix_to_test_p1 = dataframe_to_test_p1.T.values"
   ]
  },
  {
   "cell_type": "markdown",
   "metadata": {
    "colab_type": "text",
    "id": "ZwDq6wOuz19l"
   },
   "source": [
    "### Obtain the predictions (for period 1)"
   ]
  },
  {
   "cell_type": "code",
   "execution_count": 44,
   "metadata": {
    "colab": {},
    "colab_type": "code",
    "id": "Rb96TNt3zwdr"
   },
   "outputs": [],
   "source": [
    "encoded_p1 = encoder.predict(matrix_to_test_p1, batch_size=batch_size)\n",
    "\n",
    "# Convert the predictions into a dataframe\n",
    "encoded_p1_df = pd.DataFrame(data = encoded_p1, columns = ['x','y'], index = dataframe_to_test_p1.T.index)"
   ]
  },
  {
   "cell_type": "code",
   "execution_count": 45,
   "metadata": {
    "colab": {
     "base_uri": "https://localhost:8080/",
     "height": 204
    },
    "colab_type": "code",
    "executionInfo": {
     "elapsed": 707,
     "status": "ok",
     "timestamp": 1554397415471,
     "user": {
      "displayName": "Marie Imokoyende",
      "photoUrl": "",
      "userId": "13592623342127678396"
     },
     "user_tz": 240
    },
    "id": "2IYZ1bYUz-28",
    "outputId": "1d4c6c4b-cb4e-459b-b5ec-699613cb2ae3"
   },
   "outputs": [
    {
     "output_type": "execute_result",
     "data": {
      "text/plain": "      x   y\nPFE NaN NaN\nBA  NaN NaN\nWMT NaN NaN\nVZ  NaN NaN\nDJI NaN NaN",
      "text/html": "<div>\n<style scoped>\n    .dataframe tbody tr th:only-of-type {\n        vertical-align: middle;\n    }\n\n    .dataframe tbody tr th {\n        vertical-align: top;\n    }\n\n    .dataframe thead th {\n        text-align: right;\n    }\n</style>\n<table border=\"1\" class=\"dataframe\">\n  <thead>\n    <tr style=\"text-align: right;\">\n      <th></th>\n      <th>x</th>\n      <th>y</th>\n    </tr>\n  </thead>\n  <tbody>\n    <tr>\n      <th>PFE</th>\n      <td>NaN</td>\n      <td>NaN</td>\n    </tr>\n    <tr>\n      <th>BA</th>\n      <td>NaN</td>\n      <td>NaN</td>\n    </tr>\n    <tr>\n      <th>WMT</th>\n      <td>NaN</td>\n      <td>NaN</td>\n    </tr>\n    <tr>\n      <th>VZ</th>\n      <td>NaN</td>\n      <td>NaN</td>\n    </tr>\n    <tr>\n      <th>DJI</th>\n      <td>NaN</td>\n      <td>NaN</td>\n    </tr>\n  </tbody>\n</table>\n</div>"
     },
     "metadata": {},
     "execution_count": 45
    }
   ],
   "source": [
    "encoded_p1_df.tail()"
   ]
  },
  {
   "cell_type": "markdown",
   "metadata": {
    "colab_type": "text",
    "id": "E2VWe5lwgk5c"
   },
   "source": [
    "#### Calculate the distances between the futures contract point and all other points in the stocks dataset"
   ]
  },
  {
   "cell_type": "code",
   "execution_count": 46,
   "metadata": {
    "colab": {},
    "colab_type": "code",
    "id": "ikoIZrPF0AiI"
   },
   "outputs": [
    {
     "output_type": "error",
     "ename": "KeyError",
     "evalue": "'Futures'",
     "traceback": [
      "\u001b[0;31m---------------------------------------------------------------------------\u001b[0m",
      "\u001b[0;31mKeyError\u001b[0m                                  Traceback (most recent call last)",
      "\u001b[0;32m~/miniconda3/lib/python3.7/site-packages/pandas/core/indexes/base.py\u001b[0m in \u001b[0;36mget_loc\u001b[0;34m(self, key, method, tolerance)\u001b[0m\n\u001b[1;32m   2645\u001b[0m             \u001b[0;32mtry\u001b[0m\u001b[0;34m:\u001b[0m\u001b[0;34m\u001b[0m\u001b[0;34m\u001b[0m\u001b[0m\n\u001b[0;32m-> 2646\u001b[0;31m                 \u001b[0;32mreturn\u001b[0m \u001b[0mself\u001b[0m\u001b[0;34m.\u001b[0m\u001b[0m_engine\u001b[0m\u001b[0;34m.\u001b[0m\u001b[0mget_loc\u001b[0m\u001b[0;34m(\u001b[0m\u001b[0mkey\u001b[0m\u001b[0;34m)\u001b[0m\u001b[0;34m\u001b[0m\u001b[0;34m\u001b[0m\u001b[0m\n\u001b[0m\u001b[1;32m   2647\u001b[0m             \u001b[0;32mexcept\u001b[0m \u001b[0mKeyError\u001b[0m\u001b[0;34m:\u001b[0m\u001b[0;34m\u001b[0m\u001b[0;34m\u001b[0m\u001b[0m\n",
      "\u001b[0;32mpandas/_libs/index.pyx\u001b[0m in \u001b[0;36mpandas._libs.index.IndexEngine.get_loc\u001b[0;34m()\u001b[0m\n",
      "\u001b[0;32mpandas/_libs/index.pyx\u001b[0m in \u001b[0;36mpandas._libs.index.IndexEngine.get_loc\u001b[0;34m()\u001b[0m\n",
      "\u001b[0;32mpandas/_libs/hashtable_class_helper.pxi\u001b[0m in \u001b[0;36mpandas._libs.hashtable.PyObjectHashTable.get_item\u001b[0;34m()\u001b[0m\n",
      "\u001b[0;32mpandas/_libs/hashtable_class_helper.pxi\u001b[0m in \u001b[0;36mpandas._libs.hashtable.PyObjectHashTable.get_item\u001b[0;34m()\u001b[0m\n",
      "\u001b[0;31mKeyError\u001b[0m: 'Futures'",
      "\nDuring handling of the above exception, another exception occurred:\n",
      "\u001b[0;31mKeyError\u001b[0m                                  Traceback (most recent call last)",
      "\u001b[0;32m<ipython-input-46-5e5ec5dc6bb2>\u001b[0m in \u001b[0;36m<module>\u001b[0;34m\u001b[0m\n\u001b[0;32m----> 1\u001b[0;31m \u001b[0mref_point\u001b[0m \u001b[0;34m=\u001b[0m \u001b[0mencoded_p1_df\u001b[0m\u001b[0;34m.\u001b[0m\u001b[0mloc\u001b[0m\u001b[0;34m[\u001b[0m\u001b[0;34m'Futures'\u001b[0m\u001b[0;34m]\u001b[0m\u001b[0;34m.\u001b[0m\u001b[0mvalues\u001b[0m\u001b[0;34m\u001b[0m\u001b[0;34m\u001b[0m\u001b[0m\n\u001b[0m\u001b[1;32m      2\u001b[0m \u001b[0mencoded_p1_df\u001b[0m\u001b[0;34m[\u001b[0m\u001b[0;34m'Distance'\u001b[0m\u001b[0;34m]\u001b[0m \u001b[0;34m=\u001b[0m \u001b[0mscipy\u001b[0m\u001b[0;34m.\u001b[0m\u001b[0mspatial\u001b[0m\u001b[0;34m.\u001b[0m\u001b[0mdistance\u001b[0m\u001b[0;34m.\u001b[0m\u001b[0mcdist\u001b[0m\u001b[0;34m(\u001b[0m\u001b[0;34m[\u001b[0m\u001b[0mref_point\u001b[0m\u001b[0;34m]\u001b[0m\u001b[0;34m,\u001b[0m \u001b[0mencoded_p1_df\u001b[0m\u001b[0;34m,\u001b[0m \u001b[0mmetric\u001b[0m\u001b[0;34m=\u001b[0m\u001b[0;34m'euclidean'\u001b[0m\u001b[0;34m)\u001b[0m\u001b[0;34m[\u001b[0m\u001b[0;36m0\u001b[0m\u001b[0;34m]\u001b[0m\u001b[0;34m\u001b[0m\u001b[0;34m\u001b[0m\u001b[0m\n",
      "\u001b[0;32m~/miniconda3/lib/python3.7/site-packages/pandas/core/indexing.py\u001b[0m in \u001b[0;36m__getitem__\u001b[0;34m(self, key)\u001b[0m\n\u001b[1;32m   1766\u001b[0m \u001b[0;34m\u001b[0m\u001b[0m\n\u001b[1;32m   1767\u001b[0m             \u001b[0mmaybe_callable\u001b[0m \u001b[0;34m=\u001b[0m \u001b[0mcom\u001b[0m\u001b[0;34m.\u001b[0m\u001b[0mapply_if_callable\u001b[0m\u001b[0;34m(\u001b[0m\u001b[0mkey\u001b[0m\u001b[0;34m,\u001b[0m \u001b[0mself\u001b[0m\u001b[0;34m.\u001b[0m\u001b[0mobj\u001b[0m\u001b[0;34m)\u001b[0m\u001b[0;34m\u001b[0m\u001b[0;34m\u001b[0m\u001b[0m\n\u001b[0;32m-> 1768\u001b[0;31m             \u001b[0;32mreturn\u001b[0m \u001b[0mself\u001b[0m\u001b[0;34m.\u001b[0m\u001b[0m_getitem_axis\u001b[0m\u001b[0;34m(\u001b[0m\u001b[0mmaybe_callable\u001b[0m\u001b[0;34m,\u001b[0m \u001b[0maxis\u001b[0m\u001b[0;34m=\u001b[0m\u001b[0maxis\u001b[0m\u001b[0;34m)\u001b[0m\u001b[0;34m\u001b[0m\u001b[0;34m\u001b[0m\u001b[0m\n\u001b[0m\u001b[1;32m   1769\u001b[0m \u001b[0;34m\u001b[0m\u001b[0m\n\u001b[1;32m   1770\u001b[0m     \u001b[0;32mdef\u001b[0m \u001b[0m_is_scalar_access\u001b[0m\u001b[0;34m(\u001b[0m\u001b[0mself\u001b[0m\u001b[0;34m,\u001b[0m \u001b[0mkey\u001b[0m\u001b[0;34m:\u001b[0m \u001b[0mTuple\u001b[0m\u001b[0;34m)\u001b[0m\u001b[0;34m:\u001b[0m\u001b[0;34m\u001b[0m\u001b[0;34m\u001b[0m\u001b[0m\n",
      "\u001b[0;32m~/miniconda3/lib/python3.7/site-packages/pandas/core/indexing.py\u001b[0m in \u001b[0;36m_getitem_axis\u001b[0;34m(self, key, axis)\u001b[0m\n\u001b[1;32m   1963\u001b[0m         \u001b[0;31m# fall thru to straight lookup\u001b[0m\u001b[0;34m\u001b[0m\u001b[0;34m\u001b[0m\u001b[0;34m\u001b[0m\u001b[0m\n\u001b[1;32m   1964\u001b[0m         \u001b[0mself\u001b[0m\u001b[0;34m.\u001b[0m\u001b[0m_validate_key\u001b[0m\u001b[0;34m(\u001b[0m\u001b[0mkey\u001b[0m\u001b[0;34m,\u001b[0m \u001b[0maxis\u001b[0m\u001b[0;34m)\u001b[0m\u001b[0;34m\u001b[0m\u001b[0;34m\u001b[0m\u001b[0m\n\u001b[0;32m-> 1965\u001b[0;31m         \u001b[0;32mreturn\u001b[0m \u001b[0mself\u001b[0m\u001b[0;34m.\u001b[0m\u001b[0m_get_label\u001b[0m\u001b[0;34m(\u001b[0m\u001b[0mkey\u001b[0m\u001b[0;34m,\u001b[0m \u001b[0maxis\u001b[0m\u001b[0;34m=\u001b[0m\u001b[0maxis\u001b[0m\u001b[0;34m)\u001b[0m\u001b[0;34m\u001b[0m\u001b[0;34m\u001b[0m\u001b[0m\n\u001b[0m\u001b[1;32m   1966\u001b[0m \u001b[0;34m\u001b[0m\u001b[0m\n\u001b[1;32m   1967\u001b[0m \u001b[0;34m\u001b[0m\u001b[0m\n",
      "\u001b[0;32m~/miniconda3/lib/python3.7/site-packages/pandas/core/indexing.py\u001b[0m in \u001b[0;36m_get_label\u001b[0;34m(self, label, axis)\u001b[0m\n\u001b[1;32m    623\u001b[0m             \u001b[0;32mraise\u001b[0m \u001b[0mIndexingError\u001b[0m\u001b[0;34m(\u001b[0m\u001b[0;34m\"no slices here, handle elsewhere\"\u001b[0m\u001b[0;34m)\u001b[0m\u001b[0;34m\u001b[0m\u001b[0;34m\u001b[0m\u001b[0m\n\u001b[1;32m    624\u001b[0m \u001b[0;34m\u001b[0m\u001b[0m\n\u001b[0;32m--> 625\u001b[0;31m         \u001b[0;32mreturn\u001b[0m \u001b[0mself\u001b[0m\u001b[0;34m.\u001b[0m\u001b[0mobj\u001b[0m\u001b[0;34m.\u001b[0m\u001b[0m_xs\u001b[0m\u001b[0;34m(\u001b[0m\u001b[0mlabel\u001b[0m\u001b[0;34m,\u001b[0m \u001b[0maxis\u001b[0m\u001b[0;34m=\u001b[0m\u001b[0maxis\u001b[0m\u001b[0;34m)\u001b[0m\u001b[0;34m\u001b[0m\u001b[0;34m\u001b[0m\u001b[0m\n\u001b[0m\u001b[1;32m    626\u001b[0m \u001b[0;34m\u001b[0m\u001b[0m\n\u001b[1;32m    627\u001b[0m     \u001b[0;32mdef\u001b[0m \u001b[0m_get_loc\u001b[0m\u001b[0;34m(\u001b[0m\u001b[0mself\u001b[0m\u001b[0;34m,\u001b[0m \u001b[0mkey\u001b[0m\u001b[0;34m:\u001b[0m \u001b[0mint\u001b[0m\u001b[0;34m,\u001b[0m \u001b[0maxis\u001b[0m\u001b[0;34m:\u001b[0m \u001b[0mint\u001b[0m\u001b[0;34m)\u001b[0m\u001b[0;34m:\u001b[0m\u001b[0;34m\u001b[0m\u001b[0;34m\u001b[0m\u001b[0m\n",
      "\u001b[0;32m~/miniconda3/lib/python3.7/site-packages/pandas/core/generic.py\u001b[0m in \u001b[0;36mxs\u001b[0;34m(self, key, axis, level, drop_level)\u001b[0m\n\u001b[1;32m   3535\u001b[0m             \u001b[0mloc\u001b[0m\u001b[0;34m,\u001b[0m \u001b[0mnew_index\u001b[0m \u001b[0;34m=\u001b[0m \u001b[0mself\u001b[0m\u001b[0;34m.\u001b[0m\u001b[0mindex\u001b[0m\u001b[0;34m.\u001b[0m\u001b[0mget_loc_level\u001b[0m\u001b[0;34m(\u001b[0m\u001b[0mkey\u001b[0m\u001b[0;34m,\u001b[0m \u001b[0mdrop_level\u001b[0m\u001b[0;34m=\u001b[0m\u001b[0mdrop_level\u001b[0m\u001b[0;34m)\u001b[0m\u001b[0;34m\u001b[0m\u001b[0;34m\u001b[0m\u001b[0m\n\u001b[1;32m   3536\u001b[0m         \u001b[0;32melse\u001b[0m\u001b[0;34m:\u001b[0m\u001b[0;34m\u001b[0m\u001b[0;34m\u001b[0m\u001b[0m\n\u001b[0;32m-> 3537\u001b[0;31m             \u001b[0mloc\u001b[0m \u001b[0;34m=\u001b[0m \u001b[0mself\u001b[0m\u001b[0;34m.\u001b[0m\u001b[0mindex\u001b[0m\u001b[0;34m.\u001b[0m\u001b[0mget_loc\u001b[0m\u001b[0;34m(\u001b[0m\u001b[0mkey\u001b[0m\u001b[0;34m)\u001b[0m\u001b[0;34m\u001b[0m\u001b[0;34m\u001b[0m\u001b[0m\n\u001b[0m\u001b[1;32m   3538\u001b[0m \u001b[0;34m\u001b[0m\u001b[0m\n\u001b[1;32m   3539\u001b[0m             \u001b[0;32mif\u001b[0m \u001b[0misinstance\u001b[0m\u001b[0;34m(\u001b[0m\u001b[0mloc\u001b[0m\u001b[0;34m,\u001b[0m \u001b[0mnp\u001b[0m\u001b[0;34m.\u001b[0m\u001b[0mndarray\u001b[0m\u001b[0;34m)\u001b[0m\u001b[0;34m:\u001b[0m\u001b[0;34m\u001b[0m\u001b[0;34m\u001b[0m\u001b[0m\n",
      "\u001b[0;32m~/miniconda3/lib/python3.7/site-packages/pandas/core/indexes/base.py\u001b[0m in \u001b[0;36mget_loc\u001b[0;34m(self, key, method, tolerance)\u001b[0m\n\u001b[1;32m   2646\u001b[0m                 \u001b[0;32mreturn\u001b[0m \u001b[0mself\u001b[0m\u001b[0;34m.\u001b[0m\u001b[0m_engine\u001b[0m\u001b[0;34m.\u001b[0m\u001b[0mget_loc\u001b[0m\u001b[0;34m(\u001b[0m\u001b[0mkey\u001b[0m\u001b[0;34m)\u001b[0m\u001b[0;34m\u001b[0m\u001b[0;34m\u001b[0m\u001b[0m\n\u001b[1;32m   2647\u001b[0m             \u001b[0;32mexcept\u001b[0m \u001b[0mKeyError\u001b[0m\u001b[0;34m:\u001b[0m\u001b[0;34m\u001b[0m\u001b[0;34m\u001b[0m\u001b[0m\n\u001b[0;32m-> 2648\u001b[0;31m                 \u001b[0;32mreturn\u001b[0m \u001b[0mself\u001b[0m\u001b[0;34m.\u001b[0m\u001b[0m_engine\u001b[0m\u001b[0;34m.\u001b[0m\u001b[0mget_loc\u001b[0m\u001b[0;34m(\u001b[0m\u001b[0mself\u001b[0m\u001b[0;34m.\u001b[0m\u001b[0m_maybe_cast_indexer\u001b[0m\u001b[0;34m(\u001b[0m\u001b[0mkey\u001b[0m\u001b[0;34m)\u001b[0m\u001b[0;34m)\u001b[0m\u001b[0;34m\u001b[0m\u001b[0;34m\u001b[0m\u001b[0m\n\u001b[0m\u001b[1;32m   2649\u001b[0m         \u001b[0mindexer\u001b[0m \u001b[0;34m=\u001b[0m \u001b[0mself\u001b[0m\u001b[0;34m.\u001b[0m\u001b[0mget_indexer\u001b[0m\u001b[0;34m(\u001b[0m\u001b[0;34m[\u001b[0m\u001b[0mkey\u001b[0m\u001b[0;34m]\u001b[0m\u001b[0;34m,\u001b[0m \u001b[0mmethod\u001b[0m\u001b[0;34m=\u001b[0m\u001b[0mmethod\u001b[0m\u001b[0;34m,\u001b[0m \u001b[0mtolerance\u001b[0m\u001b[0;34m=\u001b[0m\u001b[0mtolerance\u001b[0m\u001b[0;34m)\u001b[0m\u001b[0;34m\u001b[0m\u001b[0;34m\u001b[0m\u001b[0m\n\u001b[1;32m   2650\u001b[0m         \u001b[0;32mif\u001b[0m \u001b[0mindexer\u001b[0m\u001b[0;34m.\u001b[0m\u001b[0mndim\u001b[0m \u001b[0;34m>\u001b[0m \u001b[0;36m1\u001b[0m \u001b[0;32mor\u001b[0m \u001b[0mindexer\u001b[0m\u001b[0;34m.\u001b[0m\u001b[0msize\u001b[0m \u001b[0;34m>\u001b[0m \u001b[0;36m1\u001b[0m\u001b[0;34m:\u001b[0m\u001b[0;34m\u001b[0m\u001b[0;34m\u001b[0m\u001b[0m\n",
      "\u001b[0;32mpandas/_libs/index.pyx\u001b[0m in \u001b[0;36mpandas._libs.index.IndexEngine.get_loc\u001b[0;34m()\u001b[0m\n",
      "\u001b[0;32mpandas/_libs/index.pyx\u001b[0m in \u001b[0;36mpandas._libs.index.IndexEngine.get_loc\u001b[0;34m()\u001b[0m\n",
      "\u001b[0;32mpandas/_libs/hashtable_class_helper.pxi\u001b[0m in \u001b[0;36mpandas._libs.hashtable.PyObjectHashTable.get_item\u001b[0;34m()\u001b[0m\n",
      "\u001b[0;32mpandas/_libs/hashtable_class_helper.pxi\u001b[0m in \u001b[0;36mpandas._libs.hashtable.PyObjectHashTable.get_item\u001b[0;34m()\u001b[0m\n",
      "\u001b[0;31mKeyError\u001b[0m: 'Futures'"
     ]
    }
   ],
   "source": [
    "ref_point = encoded_p1_df.loc['Futures'].values\n",
    "encoded_p1_df['Distance'] = scipy.spatial.distance.cdist([ref_point], encoded_p1_df, metric='euclidean')[0]"
   ]
  },
  {
   "cell_type": "markdown",
   "metadata": {
    "colab_type": "text",
    "id": "C94tdi2hhE2v"
   },
   "source": [
    "#### Get the 50 closest points to the Futures point"
   ]
  },
  {
   "cell_type": "code",
   "execution_count": 98,
   "metadata": {
    "colab": {},
    "colab_type": "code",
    "id": "_DMeh23Tg_tn"
   },
   "outputs": [],
   "source": [
    "closest_points = encoded_p1_df.sort_values('Distance', ascending = True)\n",
    "closest_points_top50 = closest_points.head(51)[1:] #We take head(51), because the Futures reference point is the first entry\n",
    "closest_points_top50['Ticker'] = closest_points_top50.index"
   ]
  },
  {
   "cell_type": "code",
   "execution_count": 99,
   "metadata": {
    "colab": {
     "base_uri": "https://localhost:8080/",
     "height": 204
    },
    "colab_type": "code",
    "executionInfo": {
     "elapsed": 282,
     "status": "ok",
     "timestamp": 1554397427616,
     "user": {
      "displayName": "Marie Imokoyende",
      "photoUrl": "",
      "userId": "13592623342127678396"
     },
     "user_tz": 240
    },
    "id": "WZIGpSbg0OJx",
    "outputId": "b6811a45-a6c8-4cdb-a9d8-82b0ccd54237"
   },
   "outputs": [
    {
     "data": {
      "text/html": [
       "<div>\n",
       "<style scoped>\n",
       "    .dataframe tbody tr th:only-of-type {\n",
       "        vertical-align: middle;\n",
       "    }\n",
       "\n",
       "    .dataframe tbody tr th {\n",
       "        vertical-align: top;\n",
       "    }\n",
       "\n",
       "    .dataframe thead th {\n",
       "        text-align: right;\n",
       "    }\n",
       "</style>\n",
       "<table border=\"1\" class=\"dataframe\">\n",
       "  <thead>\n",
       "    <tr style=\"text-align: right;\">\n",
       "      <th></th>\n",
       "      <th>x</th>\n",
       "      <th>y</th>\n",
       "      <th>Distance</th>\n",
       "      <th>Ticker</th>\n",
       "    </tr>\n",
       "  </thead>\n",
       "  <tbody>\n",
       "    <tr>\n",
       "      <th>CAEF</th>\n",
       "      <td>0.057430</td>\n",
       "      <td>-0.047858</td>\n",
       "      <td>0.000116</td>\n",
       "      <td>CAEF</td>\n",
       "    </tr>\n",
       "    <tr>\n",
       "      <th>FGDG</th>\n",
       "      <td>0.057383</td>\n",
       "      <td>-0.047626</td>\n",
       "      <td>0.000120</td>\n",
       "      <td>FGDG</td>\n",
       "    </tr>\n",
       "    <tr>\n",
       "      <th>EHDF</th>\n",
       "      <td>0.057339</td>\n",
       "      <td>-0.047642</td>\n",
       "      <td>0.000126</td>\n",
       "      <td>EHDF</td>\n",
       "    </tr>\n",
       "    <tr>\n",
       "      <th>HAAB</th>\n",
       "      <td>0.057502</td>\n",
       "      <td>-0.047864</td>\n",
       "      <td>0.000150</td>\n",
       "      <td>HAAB</td>\n",
       "    </tr>\n",
       "    <tr>\n",
       "      <th>GHFD</th>\n",
       "      <td>0.057549</td>\n",
       "      <td>-0.047922</td>\n",
       "      <td>0.000224</td>\n",
       "      <td>GHFD</td>\n",
       "    </tr>\n",
       "  </tbody>\n",
       "</table>\n",
       "</div>"
      ],
      "text/plain": [
       "             x         y  Distance Ticker\n",
       "CAEF  0.057430 -0.047858  0.000116   CAEF\n",
       "FGDG  0.057383 -0.047626  0.000120   FGDG\n",
       "EHDF  0.057339 -0.047642  0.000126   EHDF\n",
       "HAAB  0.057502 -0.047864  0.000150   HAAB\n",
       "GHFD  0.057549 -0.047922  0.000224   GHFD"
      ]
     },
     "execution_count": 99,
     "metadata": {},
     "output_type": "execute_result"
    }
   ],
   "source": [
    "closest_points_top50.head()"
   ]
  },
  {
   "cell_type": "markdown",
   "metadata": {
    "colab_type": "text",
    "id": "KOWVyyWQmJqY"
   },
   "source": [
    "#### Plot the results"
   ]
  },
  {
   "cell_type": "code",
   "execution_count": 100,
   "metadata": {
    "colab": {
     "base_uri": "https://localhost:8080/",
     "height": 642
    },
    "colab_type": "code",
    "executionInfo": {
     "elapsed": 1497,
     "status": "ok",
     "timestamp": 1554397435735,
     "user": {
      "displayName": "Marie Imokoyende",
      "photoUrl": "",
      "userId": "13592623342127678396"
     },
     "user_tz": 240
    },
    "id": "ZMfoOyAM0WCZ",
    "outputId": "b1fe9c68-40a3-4f31-f7da-596c42374540"
   },
   "outputs": [
    {
     "data": {
      "image/png": "[encoded data removed]",
      "text/plain": [
       "<Figure size 1440x720 with 2 Axes>"
      ]
     },
     "metadata": {
      "needs_background": "light"
     },
     "output_type": "display_data"
    }
   ],
   "source": [
    "x_i = closest_points_top50['x']*1000\n",
    "y_i = closest_points_top50['y']*100\n",
    "d_i = closest_points_top50['Distance']\n",
    "ticker_i = closest_points_top50['Ticker']\n",
    "fig, ax = plt.subplots(figsize=(20, 10))\n",
    "im = ax.scatter(x_i, y_i, c = d_i, cmap = 'viridis')\n",
    "plt.plot(ref_point[0]*1000, ref_point[1]*100,'r*', markersize = 15)\n",
    "ax.annotate('Futures',(ref_point[0]*1000, ref_point[1]*100))\n",
    "plt.colorbar(im, ax=ax)\n",
    "plt.axis('off')\n",
    "ax.set_title('Period 1: Futures vs Stocks Dataset\\n', fontsize = 24, fontweight='bold')\n",
    "for i, txt in enumerate(ticker_i):\n",
    "    ax.annotate(txt, (x_i[i], y_i[i]))"
   ]
  },
  {
   "cell_type": "markdown",
   "metadata": {
    "colab_type": "text",
    "id": "g3N59MUFfOuu"
   },
   "source": [
    "# Application: Index construction"
   ]
  },
  {
   "cell_type": "markdown",
   "metadata": {
    "colab_type": "text",
    "id": "Wjw4TiKunMwQ"
   },
   "source": [
    "We will use the process described above to create an index.\n",
    "Due to the randomness of the VAE model, we will not obtain the same exact list of top 50 stocks on each run.\n",
    "\n",
    "To make sure that we get a fair representation of the closest 50 points, we will run the VAE model 10 times (re-initializing and retraining it on each run). Then we will take the 50 closest points found on each run to create a dataframe ***closest_points_df*** dataframe of length 500. "
   ]
  },
  {
   "cell_type": "code",
   "execution_count": 101,
   "metadata": {
    "colab": {},
    "colab_type": "code",
    "id": "LuOx8ZGW8Kr-"
   },
   "outputs": [],
   "source": [
    "from datetime import date"
   ]
  },
  {
   "cell_type": "markdown",
   "metadata": {
    "colab_type": "text",
    "id": "wp3fYYVKpCar"
   },
   "source": [
    "## Build the *closest_points_df* dataframe"
   ]
  },
  {
   "cell_type": "code",
   "execution_count": 102,
   "metadata": {
    "colab": {
     "base_uri": "https://localhost:8080/",
     "height": 3587
    },
    "colab_type": "code",
    "executionInfo": {
     "elapsed": 268189,
     "status": "ok",
     "timestamp": 1554397781983,
     "user": {
      "displayName": "Marie Imokoyende",
      "photoUrl": "",
      "userId": "13592623342127678396"
     },
     "user_tz": 240
    },
    "id": "lklmNYer07-v",
    "outputId": "827a5849-0ba1-4b6d-aeb0-54aa3eaf418e"
   },
   "outputs": [
    {
     "name": "stdout",
     "output_type": "stream",
     "text": [
      "Train on 8000 samples, validate on 2000 samples\n",
      "Epoch 1/10\n",
      "8000/8000 [==============================] - 1s 154us/step - loss: 1.1214 - val_loss: 0.4907\n",
      "Epoch 2/10\n",
      "8000/8000 [==============================] - 1s 89us/step - loss: 0.3271 - val_loss: 0.2636\n",
      "Epoch 3/10\n",
      "8000/8000 [==============================] - 1s 130us/step - loss: 0.1512 - val_loss: 0.0936\n",
      "Epoch 4/10\n",
      "8000/8000 [==============================] - 1s 130us/step - loss: 0.1096 - val_loss: 0.1553\n",
      "Epoch 5/10\n",
      "8000/8000 [==============================] - 1s 133us/step - loss: 0.0862 - val_loss: 0.0518\n",
      "Epoch 6/10\n",
      "8000/8000 [==============================] - 1s 125us/step - loss: 0.0692 - val_loss: 0.0552\n",
      "Epoch 7/10\n",
      "8000/8000 [==============================] - 1s 131us/step - loss: 0.0587 - val_loss: 0.0402\n",
      "Epoch 8/10\n",
      "8000/8000 [==============================] - 1s 124us/step - loss: 0.0515 - val_loss: 0.0444\n",
      "Epoch 9/10\n",
      "8000/8000 [==============================] - 1s 130us/step - loss: 0.0456 - val_loss: 0.0510\n",
      "Epoch 10/10\n",
      "8000/8000 [==============================] - 1s 131us/step - loss: 0.0431 - val_loss: 0.0587\n",
      "Train on 8000 samples, validate on 2000 samples\n",
      "Epoch 1/10\n",
      "8000/8000 [==============================] - 1s 148us/step - loss: 0.9805 - val_loss: 0.4049\n",
      "Epoch 2/10\n",
      "8000/8000 [==============================] - 1s 91us/step - loss: 0.3682 - val_loss: 0.2151\n",
      "Epoch 3/10\n",
      "8000/8000 [==============================] - 1s 120us/step - loss: 0.1772 - val_loss: 0.1035\n",
      "Epoch 4/10\n",
      "8000/8000 [==============================] - 1s 132us/step - loss: 0.1116 - val_loss: 0.0546\n",
      "Epoch 5/10\n",
      "8000/8000 [==============================] - 1s 130us/step - loss: 0.0808 - val_loss: 0.0583\n",
      "Epoch 6/10\n",
      "8000/8000 [==============================] - 1s 131us/step - loss: 0.0597 - val_loss: 0.0432\n",
      "Epoch 7/10\n",
      "8000/8000 [==============================] - 1s 124us/step - loss: 0.0495 - val_loss: 0.0445\n",
      "Epoch 8/10\n",
      "8000/8000 [==============================] - 1s 128us/step - loss: 0.0456 - val_loss: 0.0432\n",
      "Epoch 9/10\n",
      "8000/8000 [==============================] - 1s 137us/step - loss: 0.0420 - val_loss: 0.0389\n",
      "Epoch 10/10\n",
      "8000/8000 [==============================] - 1s 138us/step - loss: 0.0410 - val_loss: 0.0394\n",
      "Train on 8000 samples, validate on 2000 samples\n",
      "Epoch 1/10\n",
      "8000/8000 [==============================] - 1s 179us/step - loss: 0.9662 - val_loss: 0.4438\n",
      "Epoch 2/10\n",
      "8000/8000 [==============================] - 1s 137us/step - loss: 0.3223 - val_loss: 0.3269\n",
      "Epoch 3/10\n",
      "8000/8000 [==============================] - 1s 128us/step - loss: 0.1574 - val_loss: 0.1038\n",
      "Epoch 4/10\n",
      "8000/8000 [==============================] - 1s 136us/step - loss: 0.1073 - val_loss: 0.1603\n",
      "Epoch 5/10\n",
      "8000/8000 [==============================] - 1s 132us/step - loss: 0.0811 - val_loss: 0.0869\n",
      "Epoch 6/10\n",
      "8000/8000 [==============================] - 1s 127us/step - loss: 0.0586 - val_loss: 0.0515\n",
      "Epoch 7/10\n",
      "8000/8000 [==============================] - 1s 127us/step - loss: 0.0484 - val_loss: 0.0481\n",
      "Epoch 8/10\n",
      "8000/8000 [==============================] - 1s 129us/step - loss: 0.0432 - val_loss: 0.0422\n",
      "Epoch 9/10\n",
      "8000/8000 [==============================] - 1s 127us/step - loss: 0.0407 - val_loss: 0.0409\n",
      "Epoch 10/10\n",
      "8000/8000 [==============================] - 1s 134us/step - loss: 0.0391 - val_loss: 0.0440\n",
      "Train on 8000 samples, validate on 2000 samples\n",
      "Epoch 1/10\n",
      "8000/8000 [==============================] - 1s 166us/step - loss: 1.1482 - val_loss: 1.5114\n",
      "Epoch 2/10\n",
      "8000/8000 [==============================] - 1s 118us/step - loss: 0.4254 - val_loss: 0.2126\n",
      "Epoch 3/10\n",
      "8000/8000 [==============================] - 1s 134us/step - loss: 0.2451 - val_loss: 0.0506\n",
      "Epoch 4/10\n",
      "8000/8000 [==============================] - 1s 137us/step - loss: 0.1470 - val_loss: 0.1323\n",
      "Epoch 5/10\n",
      "8000/8000 [==============================] - 1s 134us/step - loss: 0.0951 - val_loss: 0.0739\n",
      "Epoch 6/10\n",
      "8000/8000 [==============================] - 1s 135us/step - loss: 0.0779 - val_loss: 0.0570\n",
      "Epoch 7/10\n",
      "8000/8000 [==============================] - 1s 131us/step - loss: 0.0649 - val_loss: 0.0863\n",
      "Epoch 8/10\n",
      "8000/8000 [==============================] - 1s 130us/step - loss: 0.0608 - val_loss: 0.0628\n",
      "Epoch 9/10\n",
      "8000/8000 [==============================] - 1s 137us/step - loss: 0.0582 - val_loss: 0.0491\n",
      "Epoch 10/10\n",
      "8000/8000 [==============================] - 1s 152us/step - loss: 0.0574 - val_loss: 0.0613\n",
      "Train on 8000 samples, validate on 2000 samples\n",
      "Epoch 1/10\n",
      "8000/8000 [==============================] - 2s 196us/step - loss: 1.0468 - val_loss: 0.5751\n",
      "Epoch 2/10\n",
      "8000/8000 [==============================] - 1s 130us/step - loss: 0.4064 - val_loss: 0.1268\n",
      "Epoch 3/10\n",
      "8000/8000 [==============================] - 1s 138us/step - loss: 0.2002 - val_loss: 0.2260\n",
      "Epoch 4/10\n",
      "8000/8000 [==============================] - 1s 125us/step - loss: 0.1513 - val_loss: 0.1169\n",
      "Epoch 5/10\n",
      "8000/8000 [==============================] - 1s 125us/step - loss: 0.1158 - val_loss: 0.0765\n",
      "Epoch 6/10\n",
      "8000/8000 [==============================] - 1s 131us/step - loss: 0.0870 - val_loss: 0.0765\n",
      "Epoch 7/10\n",
      "8000/8000 [==============================] - 1s 130us/step - loss: 0.0668 - val_loss: 0.0666\n",
      "Epoch 8/10\n",
      "8000/8000 [==============================] - 1s 128us/step - loss: 0.0537 - val_loss: 0.0534\n",
      "Epoch 9/10\n",
      "8000/8000 [==============================] - 1s 135us/step - loss: 0.0466 - val_loss: 0.0593\n",
      "Epoch 10/10\n",
      "8000/8000 [==============================] - 1s 129us/step - loss: 0.0428 - val_loss: 0.0429\n",
      "Train on 8000 samples, validate on 2000 samples\n",
      "Epoch 1/10\n",
      "8000/8000 [==============================] - 1s 183us/step - loss: 2.3954 - val_loss: 0.4348\n",
      "Epoch 2/10\n",
      "8000/8000 [==============================] - 1s 131us/step - loss: 0.4000 - val_loss: 0.4999\n",
      "Epoch 3/10\n",
      "8000/8000 [==============================] - 1s 143us/step - loss: 0.2215 - val_loss: 0.0962\n",
      "Epoch 4/10\n",
      "8000/8000 [==============================] - 1s 142us/step - loss: 0.1579 - val_loss: 0.1510\n",
      "Epoch 5/10\n",
      "8000/8000 [==============================] - 1s 130us/step - loss: 0.1332 - val_loss: 0.0784\n",
      "Epoch 6/10\n",
      "8000/8000 [==============================] - 1s 134us/step - loss: 0.1079 - val_loss: 0.0599\n",
      "Epoch 7/10\n",
      "8000/8000 [==============================] - 1s 129us/step - loss: 0.0862 - val_loss: 0.1041\n",
      "Epoch 8/10\n",
      "8000/8000 [==============================] - 1s 144us/step - loss: 0.0717 - val_loss: 0.0813\n",
      "Epoch 9/10\n",
      "8000/8000 [==============================] - 1s 138us/step - loss: 0.0680 - val_loss: 0.0753\n",
      "Epoch 10/10\n",
      "8000/8000 [==============================] - 1s 141us/step - loss: 0.0615 - val_loss: 0.0789\n",
      "Train on 8000 samples, validate on 2000 samples\n",
      "Epoch 1/10\n",
      "8000/8000 [==============================] - 1s 179us/step - loss: 0.9725 - val_loss: 0.4174\n",
      "Epoch 2/10\n",
      "8000/8000 [==============================] - 1s 102us/step - loss: 0.3554 - val_loss: 0.1991\n",
      "Epoch 3/10\n",
      "8000/8000 [==============================] - 1s 135us/step - loss: 0.1734 - val_loss: 0.1026\n",
      "Epoch 4/10\n",
      "8000/8000 [==============================] - 1s 133us/step - loss: 0.1187 - val_loss: 0.0895\n",
      "Epoch 5/10\n",
      "8000/8000 [==============================] - 1s 128us/step - loss: 0.0795 - val_loss: 0.0461\n",
      "Epoch 6/10\n",
      "8000/8000 [==============================] - 1s 127us/step - loss: 0.0621 - val_loss: 0.0801\n",
      "Epoch 7/10\n",
      "8000/8000 [==============================] - 1s 140us/step - loss: 0.0484 - val_loss: 0.0480\n",
      "Epoch 8/10\n",
      "8000/8000 [==============================] - 1s 126us/step - loss: 0.0429 - val_loss: 0.0466\n",
      "Epoch 9/10\n",
      "8000/8000 [==============================] - 1s 127us/step - loss: 0.0411 - val_loss: 0.0415\n",
      "Epoch 10/10\n",
      "8000/8000 [==============================] - 1s 126us/step - loss: 0.0391 - val_loss: 0.0416\n",
      "Train on 8000 samples, validate on 2000 samples\n",
      "Epoch 1/10\n",
      "8000/8000 [==============================] - 1s 186us/step - loss: 1.1647 - val_loss: 0.9336\n",
      "Epoch 2/10\n",
      "8000/8000 [==============================] - 1s 111us/step - loss: 0.4740 - val_loss: 0.2027\n",
      "Epoch 3/10\n",
      "8000/8000 [==============================] - 1s 129us/step - loss: 0.2834 - val_loss: 0.3533\n",
      "Epoch 4/10\n",
      "8000/8000 [==============================] - 1s 141us/step - loss: 0.1950 - val_loss: 0.2033\n",
      "Epoch 5/10\n",
      "8000/8000 [==============================] - 1s 157us/step - loss: 0.1345 - val_loss: 0.1033\n",
      "Epoch 6/10\n"
     ]
    },
    {
     "name": "stdout",
     "output_type": "stream",
     "text": [
      "8000/8000 [==============================] - 1s 153us/step - loss: 0.1044 - val_loss: 0.0645\n",
      "Epoch 7/10\n",
      "8000/8000 [==============================] - 1s 150us/step - loss: 0.0767 - val_loss: 0.0773\n",
      "Epoch 8/10\n",
      "8000/8000 [==============================] - 1s 149us/step - loss: 0.0613 - val_loss: 0.0545\n",
      "Epoch 9/10\n",
      "8000/8000 [==============================] - 1s 146us/step - loss: 0.0552 - val_loss: 0.0540\n",
      "Epoch 10/10\n",
      "8000/8000 [==============================] - 1s 140us/step - loss: 0.0512 - val_loss: 0.0395\n",
      "Train on 8000 samples, validate on 2000 samples\n",
      "Epoch 1/10\n",
      "8000/8000 [==============================] - 2s 189us/step - loss: 1.1076 - val_loss: 0.4225\n",
      "Epoch 2/10\n",
      "8000/8000 [==============================] - 1s 137us/step - loss: 0.4148 - val_loss: 0.2211\n",
      "Epoch 3/10\n",
      "8000/8000 [==============================] - 1s 135us/step - loss: 0.2447 - val_loss: 0.2000\n",
      "Epoch 4/10\n",
      "8000/8000 [==============================] - 1s 138us/step - loss: 0.1612 - val_loss: 0.1386\n",
      "Epoch 5/10\n",
      "8000/8000 [==============================] - 1s 144us/step - loss: 0.1213 - val_loss: 0.0927\n",
      "Epoch 6/10\n",
      "8000/8000 [==============================] - 1s 126us/step - loss: 0.0912 - val_loss: 0.0648\n",
      "Epoch 7/10\n",
      "8000/8000 [==============================] - 1s 129us/step - loss: 0.0705 - val_loss: 0.0961\n",
      "Epoch 8/10\n",
      "8000/8000 [==============================] - 1s 128us/step - loss: 0.0584 - val_loss: 0.0592\n",
      "Epoch 9/10\n",
      "8000/8000 [==============================] - 1s 127us/step - loss: 0.0471 - val_loss: 0.0426\n",
      "Epoch 10/10\n",
      "8000/8000 [==============================] - 1s 132us/step - loss: 0.0421 - val_loss: 0.0390\n",
      "Train on 8000 samples, validate on 2000 samples\n",
      "Epoch 1/10\n",
      "8000/8000 [==============================] - 2s 213us/step - loss: 1.2227 - val_loss: 0.3801\n",
      "Epoch 2/10\n",
      "8000/8000 [==============================] - 1s 151us/step - loss: 0.4365 - val_loss: 0.3125\n",
      "Epoch 3/10\n",
      "8000/8000 [==============================] - 1s 142us/step - loss: 0.2726 - val_loss: 0.1327\n",
      "Epoch 4/10\n",
      "8000/8000 [==============================] - 1s 149us/step - loss: 0.1682 - val_loss: 0.2077\n",
      "Epoch 5/10\n",
      "8000/8000 [==============================] - 1s 146us/step - loss: 0.1108 - val_loss: 0.0835\n",
      "Epoch 6/10\n",
      "8000/8000 [==============================] - 1s 152us/step - loss: 0.0814 - val_loss: 0.0905\n",
      "Epoch 7/10\n",
      "8000/8000 [==============================] - 1s 139us/step - loss: 0.0669 - val_loss: 0.0705\n",
      "Epoch 8/10\n",
      "8000/8000 [==============================] - 1s 135us/step - loss: 0.0535 - val_loss: 0.0545\n",
      "Epoch 9/10\n",
      "8000/8000 [==============================] - 1s 141us/step - loss: 0.0492 - val_loss: 0.0402\n",
      "Epoch 10/10\n",
      "8000/8000 [==============================] - 1s 130us/step - loss: 0.0425 - val_loss: 0.0397\n"
     ]
    }
   ],
   "source": [
    "today = date.today()\n",
    "today_string = str(today.year)+str(today.month)+str(today.day)\n",
    "n_trials = 10\n",
    "path = PATH_FILES + '/Trial_outputs/' #The path should exist prior to execution.\n",
    "\n",
    "# network parameters\n",
    "original_dim = x_train.shape[1]\n",
    "input_shape = (original_dim, )\n",
    "intermediate_dim = 300\n",
    "batch_size = 128\n",
    "latent_dim = 2\n",
    "epochs = 10\n",
    "\n",
    "for i in range(n_trials): # Create the VAE model and get the predictions n_trials(=10) times.\n",
    "  n_rows_sim_paths_matrix = n_tickers_selected * n_simpath_per_ticker\n",
    "  sim_paths_matrix  = np.zeros((n_rows_sim_paths_matrix, len(geoMA_5d_stocks_p1_T.iloc[0])))\n",
    "  for j in range(len(random_tickers_selected)):\n",
    "    random_index = random_tickers_selected[j]\n",
    "    rd_stock_logReturns = np.diff(np.log(geoMA_5d_stocks_T.iloc[random_index]))\n",
    "    for k in range(n_simpath_per_ticker):\n",
    "      sim_path = np.zeros(len(geoMA_5d_stocks_p1_T.iloc[random_index]))\n",
    "      sim_path[0] = geoMA_5d_stocks_p1_T.iloc[random_index][0]\n",
    "      for l in range(1,len(sim_path)):\n",
    "        sim_path[l] = sim_path[0]*np.exp(rd_stock_logReturns[np.random.randint(0, len(rd_stock_logReturns))])\n",
    "      sim_paths_matrix[j*100+k] = sim_path\n",
    "   \n",
    "  shuffled_array = np.random.permutation(sim_paths_matrix)\n",
    "  \n",
    "  x_train = shuffled_array[0:8000]\n",
    "  x_test = shuffled_array[8000:]\n",
    "\n",
    "  # VAE model = encoder + decoder\n",
    "  # build encoder model\n",
    "  inputs = Input(shape=input_shape, name='encoder_input')\n",
    "  x = Dense(intermediate_dim, activation='relu')(inputs)\n",
    "  z_mean = Dense(latent_dim, name='z_mean')(x)\n",
    "  z_log_var = Dense(latent_dim, name='z_log_var')(x)\n",
    "  \n",
    "  # use reparameterization trick to push the sampling out as input\n",
    "  # note that \"output_shape\" isn't necessary with the TensorFlow backend\n",
    "  z = Lambda(sampling, output_shape=(latent_dim,), name='z')([z_mean, z_log_var])\n",
    "  \n",
    "  # instantiate encoder model\n",
    "  encoder = Model(inputs, z_mean)\n",
    "  # build decoder model\n",
    "  latent_inputs = Input(shape=(latent_dim,), name='z_sampling')\n",
    "  x = Dense(intermediate_dim, activation='relu')(latent_inputs)\n",
    "  outputs = Dense(original_dim, activation='sigmoid')(x)\n",
    "  # instantiate decoder model\n",
    "  decoder = Model(latent_inputs, outputs, name='decoder')\n",
    "  # instantiate VAE model\n",
    "  outputs = decoder(encoder(inputs))\n",
    "  vae = Model(inputs, outputs, name='vae_mlp')\n",
    "\n",
    "  vae.compile(optimizer='rmsprop', loss=vae_loss)\n",
    "\n",
    "  results = vae.fit(x_train, x_train,\n",
    "          shuffle=True,\n",
    "          epochs=epochs,\n",
    "          batch_size=batch_size,\n",
    "          validation_data=(x_test, x_test))\n",
    "\n",
    "  encoded_p1 = encoder.predict(matrix_to_test_p1, batch_size=batch_size)\n",
    "  # Convert the predictions into a dataframe\n",
    "  encoded_p1_df = pd.DataFrame(data = encoded_p1, columns = ['x','y'], index = dataframe_to_test_p1.T.index)\n",
    "\n",
    "\n",
    "  ref_point = encoded_p1_df.loc['Futures'].values\n",
    "  encoded_p1_df['Distance'] = scipy.spatial.distance.cdist([ref_point], encoded_p1_df, metric='euclidean')[0]\n",
    "  closest_points = encoded_p1_df.sort_values('Distance', ascending = True)\n",
    "  closest_points_top50 = closest_points.head(51)[1:] #We take head(51), because the Futures reference point is the first entry\n",
    "  closest_points_top50['Ticker'] = closest_points_top50.index\n",
    "  \n",
    "  # Save the top 50 closest points obtained for the cuurent run in a .xlsx file\n",
    "  loop_currentfilename = path + 'Futures_vs_stocks_period1_'+today_string+'_trial_'+str(i+1)+'.xlsx'\n",
    "  closest_points_top50.to_excel(loop_currentfilename)"
   ]
  },
  {
   "cell_type": "markdown",
   "metadata": {
    "colab_type": "text",
    "id": "hupsO_KKV-oe"
   },
   "source": [
    "### Build the dataframe using the excel files saved"
   ]
  },
  {
   "cell_type": "code",
   "execution_count": 103,
   "metadata": {
    "colab": {},
    "colab_type": "code",
    "id": "p7moXwuw_YQ0"
   },
   "outputs": [],
   "source": [
    "results = os.listdir(PATH_FILES + '/Trial_outputs/')\n",
    "results_df = pd.DataFrame()\n",
    "for f in results:\n",
    "  path = PATH_FILES + '/Trial_outputs/'+str(f)\n",
    "  data = pd.read_excel(path)\n",
    "  results_df = results_df.append(data)"
   ]
  },
  {
   "cell_type": "code",
   "execution_count": 104,
   "metadata": {
    "colab": {
     "base_uri": "https://localhost:8080/",
     "height": 204
    },
    "colab_type": "code",
    "executionInfo": {
     "elapsed": 799,
     "status": "ok",
     "timestamp": 1554398137230,
     "user": {
      "displayName": "Marie Imokoyende",
      "photoUrl": "",
      "userId": "13592623342127678396"
     },
     "user_tz": 240
    },
    "id": "Fg8ksBa5WD9A",
    "outputId": "60e451d9-56ef-4f1a-c94e-f590fbc75b1f"
   },
   "outputs": [
    {
     "data": {
      "text/html": [
       "<div>\n",
       "<style scoped>\n",
       "    .dataframe tbody tr th:only-of-type {\n",
       "        vertical-align: middle;\n",
       "    }\n",
       "\n",
       "    .dataframe tbody tr th {\n",
       "        vertical-align: top;\n",
       "    }\n",
       "\n",
       "    .dataframe thead th {\n",
       "        text-align: right;\n",
       "    }\n",
       "</style>\n",
       "<table border=\"1\" class=\"dataframe\">\n",
       "  <thead>\n",
       "    <tr style=\"text-align: right;\">\n",
       "      <th></th>\n",
       "      <th>x</th>\n",
       "      <th>y</th>\n",
       "      <th>Distance</th>\n",
       "      <th>Ticker</th>\n",
       "    </tr>\n",
       "  </thead>\n",
       "  <tbody>\n",
       "    <tr>\n",
       "      <th>BHBD</th>\n",
       "      <td>-0.118448</td>\n",
       "      <td>-0.126967</td>\n",
       "      <td>0.000203</td>\n",
       "      <td>BHBD</td>\n",
       "    </tr>\n",
       "    <tr>\n",
       "      <th>GBEA</th>\n",
       "      <td>-0.118013</td>\n",
       "      <td>-0.127155</td>\n",
       "      <td>0.000272</td>\n",
       "      <td>GBEA</td>\n",
       "    </tr>\n",
       "    <tr>\n",
       "      <th>FBCF</th>\n",
       "      <td>-0.118483</td>\n",
       "      <td>-0.127242</td>\n",
       "      <td>0.000275</td>\n",
       "      <td>FBCF</td>\n",
       "    </tr>\n",
       "    <tr>\n",
       "      <th>EFEH</th>\n",
       "      <td>-0.118375</td>\n",
       "      <td>-0.126793</td>\n",
       "      <td>0.000293</td>\n",
       "      <td>EFEH</td>\n",
       "    </tr>\n",
       "    <tr>\n",
       "      <th>ACGG</th>\n",
       "      <td>-0.118007</td>\n",
       "      <td>-0.126917</td>\n",
       "      <td>0.000303</td>\n",
       "      <td>ACGG</td>\n",
       "    </tr>\n",
       "  </tbody>\n",
       "</table>\n",
       "</div>"
      ],
      "text/plain": [
       "             x         y  Distance Ticker\n",
       "BHBD -0.118448 -0.126967  0.000203   BHBD\n",
       "GBEA -0.118013 -0.127155  0.000272   GBEA\n",
       "FBCF -0.118483 -0.127242  0.000275   FBCF\n",
       "EFEH -0.118375 -0.126793  0.000293   EFEH\n",
       "ACGG -0.118007 -0.126917  0.000303   ACGG"
      ]
     },
     "execution_count": 104,
     "metadata": {},
     "output_type": "execute_result"
    }
   ],
   "source": [
    "results_df.head()"
   ]
  },
  {
   "cell_type": "markdown",
   "metadata": {
    "colab_type": "text",
    "id": "OESRzjr1GrMU"
   },
   "source": [
    "We sort all the points by distance (in ascending order)"
   ]
  },
  {
   "cell_type": "code",
   "execution_count": 105,
   "metadata": {
    "colab": {},
    "colab_type": "code",
    "id": "LqE1n7JHWUdA"
   },
   "outputs": [],
   "source": [
    "sorted_by_dist = results_df.sort_values('Distance', ascending = True)"
   ]
  },
  {
   "cell_type": "code",
   "execution_count": 106,
   "metadata": {
    "colab": {
     "base_uri": "https://localhost:8080/",
     "height": 204
    },
    "colab_type": "code",
    "executionInfo": {
     "elapsed": 590,
     "status": "ok",
     "timestamp": 1554398373173,
     "user": {
      "displayName": "Marie Imokoyende",
      "photoUrl": "",
      "userId": "13592623342127678396"
     },
     "user_tz": 240
    },
    "id": "Rv-IdU3uXL7P",
    "outputId": "25e76ba8-4c8f-4e4a-a609-cf8797718c6f"
   },
   "outputs": [
    {
     "data": {
      "text/html": [
       "<div>\n",
       "<style scoped>\n",
       "    .dataframe tbody tr th:only-of-type {\n",
       "        vertical-align: middle;\n",
       "    }\n",
       "\n",
       "    .dataframe tbody tr th {\n",
       "        vertical-align: top;\n",
       "    }\n",
       "\n",
       "    .dataframe thead th {\n",
       "        text-align: right;\n",
       "    }\n",
       "</style>\n",
       "<table border=\"1\" class=\"dataframe\">\n",
       "  <thead>\n",
       "    <tr style=\"text-align: right;\">\n",
       "      <th></th>\n",
       "      <th>x</th>\n",
       "      <th>y</th>\n",
       "      <th>Distance</th>\n",
       "      <th>Ticker</th>\n",
       "    </tr>\n",
       "  </thead>\n",
       "  <tbody>\n",
       "    <tr>\n",
       "      <th>FADH</th>\n",
       "      <td>0.037527</td>\n",
       "      <td>-0.055782</td>\n",
       "      <td>0.000031</td>\n",
       "      <td>FADH</td>\n",
       "    </tr>\n",
       "    <tr>\n",
       "      <th>GBFC</th>\n",
       "      <td>0.037557</td>\n",
       "      <td>-0.055826</td>\n",
       "      <td>0.000067</td>\n",
       "      <td>GBFC</td>\n",
       "    </tr>\n",
       "    <tr>\n",
       "      <th>AFAG</th>\n",
       "      <td>-0.004665</td>\n",
       "      <td>0.020649</td>\n",
       "      <td>0.000072</td>\n",
       "      <td>AFAG</td>\n",
       "    </tr>\n",
       "    <tr>\n",
       "      <th>AFFD</th>\n",
       "      <td>-0.031613</td>\n",
       "      <td>-0.048004</td>\n",
       "      <td>0.000077</td>\n",
       "      <td>AFFD</td>\n",
       "    </tr>\n",
       "    <tr>\n",
       "      <th>EAGA</th>\n",
       "      <td>0.037523</td>\n",
       "      <td>-0.055678</td>\n",
       "      <td>0.000086</td>\n",
       "      <td>EAGA</td>\n",
       "    </tr>\n",
       "  </tbody>\n",
       "</table>\n",
       "</div>"
      ],
      "text/plain": [
       "             x         y  Distance Ticker\n",
       "FADH  0.037527 -0.055782  0.000031   FADH\n",
       "GBFC  0.037557 -0.055826  0.000067   GBFC\n",
       "AFAG -0.004665  0.020649  0.000072   AFAG\n",
       "AFFD -0.031613 -0.048004  0.000077   AFFD\n",
       "EAGA  0.037523 -0.055678  0.000086   EAGA"
      ]
     },
     "execution_count": 106,
     "metadata": {},
     "output_type": "execute_result"
    }
   ],
   "source": [
    "# We verify:\n",
    "sorted_by_dist.head()"
   ]
  },
  {
   "cell_type": "code",
   "execution_count": 107,
   "metadata": {
    "colab": {
     "base_uri": "https://localhost:8080/",
     "height": 34
    },
    "colab_type": "code",
    "executionInfo": {
     "elapsed": 591,
     "status": "ok",
     "timestamp": 1554398422656,
     "user": {
      "displayName": "Marie Imokoyende",
      "photoUrl": "",
      "userId": "13592623342127678396"
     },
     "user_tz": 240
    },
    "id": "H4CktKRoXOGR",
    "outputId": "e85f3078-da2c-455e-e8b1-51f3d24216eb"
   },
   "outputs": [
    {
     "data": {
      "text/plain": [
       "500"
      ]
     },
     "execution_count": 107,
     "metadata": {},
     "output_type": "execute_result"
    }
   ],
   "source": [
    "len(sorted_by_dist)"
   ]
  },
  {
   "cell_type": "markdown",
   "metadata": {
    "colab_type": "text",
    "id": "GbZ3pmnHG1JK"
   },
   "source": [
    "We drop the duplicate tickers, keeping only the first occurance."
   ]
  },
  {
   "cell_type": "code",
   "execution_count": 108,
   "metadata": {
    "colab": {},
    "colab_type": "code",
    "id": "ppkyLapoXaMA"
   },
   "outputs": [],
   "source": [
    "sorted_by_dist.drop_duplicates(subset='Ticker', keep='first', inplace = True)"
   ]
  },
  {
   "cell_type": "code",
   "execution_count": 109,
   "metadata": {
    "colab": {
     "base_uri": "https://localhost:8080/",
     "height": 34
    },
    "colab_type": "code",
    "executionInfo": {
     "elapsed": 666,
     "status": "ok",
     "timestamp": 1554398450729,
     "user": {
      "displayName": "Marie Imokoyende",
      "photoUrl": "",
      "userId": "13592623342127678396"
     },
     "user_tz": 240
    },
    "id": "WJ9VJq0uXfY1",
    "outputId": "72edc289-ac66-4ca7-ad61-5af3da35df94"
   },
   "outputs": [
    {
     "data": {
      "text/plain": [
       "256"
      ]
     },
     "execution_count": 109,
     "metadata": {},
     "output_type": "execute_result"
    }
   ],
   "source": [
    "len(sorted_by_dist)"
   ]
  },
  {
   "cell_type": "markdown",
   "metadata": {
    "colab_type": "text",
    "id": "VpK9-c5zf6ph"
   },
   "source": [
    "## Compute the weights of each stock"
   ]
  },
  {
   "cell_type": "markdown",
   "metadata": {
    "colab_type": "text",
    "id": "ABjPWldkf_E9"
   },
   "source": [
    "We calculate the weight of each stock such that the points closest to the futures contract point will get a higher weight than the ones further from it.\n",
    "\n",
    "With non anonymized stock data, it is important to filter the results obtained to keep the market capitalization range we want and to also remove outliers (stocks that are not related to the futures contract)  before computing the index weights."
   ]
  },
  {
   "cell_type": "code",
   "execution_count": 110,
   "metadata": {
    "colab": {
     "base_uri": "https://localhost:8080/",
     "height": 119
    },
    "colab_type": "code",
    "executionInfo": {
     "elapsed": 601,
     "status": "ok",
     "timestamp": 1554398535182,
     "user": {
      "displayName": "Marie Imokoyende",
      "photoUrl": "",
      "userId": "13592623342127678396"
     },
     "user_tz": 240
    },
    "id": "YzDnz4FmXkvC",
    "outputId": "d7c8a12f-c003-4f94-9231-a204c4fd88a0"
   },
   "outputs": [
    {
     "name": "stderr",
     "output_type": "stream",
     "text": [
      "d:\\uoft-work\\handson-ml\\env\\lib\\site-packages\\ipykernel_launcher.py:3: SettingWithCopyWarning: \n",
      "A value is trying to be set on a copy of a slice from a DataFrame.\n",
      "Try using .loc[row_indexer,col_indexer] = value instead\n",
      "\n",
      "See the caveats in the documentation: http://pandas.pydata.org/pandas-docs/stable/indexing.html#indexing-view-versus-copy\n",
      "  This is separate from the ipykernel package so we can avoid doing imports until\n"
     ]
    }
   ],
   "source": [
    "# Calculate the weights\n",
    "top50 = sorted_by_dist.head(50)\n",
    "top50['Weight'] = (1/top50['Distance'])/np.sum(1/top50['Distance'])"
   ]
  },
  {
   "cell_type": "code",
   "execution_count": 111,
   "metadata": {
    "colab": {
     "base_uri": "https://localhost:8080/",
     "height": 204
    },
    "colab_type": "code",
    "executionInfo": {
     "elapsed": 846,
     "status": "ok",
     "timestamp": 1554398546719,
     "user": {
      "displayName": "Marie Imokoyende",
      "photoUrl": "",
      "userId": "13592623342127678396"
     },
     "user_tz": 240
    },
    "id": "OR5zVKsuX1pM",
    "outputId": "4ba25009-36c1-4c77-9997-700aa2556da7"
   },
   "outputs": [
    {
     "data": {
      "text/html": [
       "<div>\n",
       "<style scoped>\n",
       "    .dataframe tbody tr th:only-of-type {\n",
       "        vertical-align: middle;\n",
       "    }\n",
       "\n",
       "    .dataframe tbody tr th {\n",
       "        vertical-align: top;\n",
       "    }\n",
       "\n",
       "    .dataframe thead th {\n",
       "        text-align: right;\n",
       "    }\n",
       "</style>\n",
       "<table border=\"1\" class=\"dataframe\">\n",
       "  <thead>\n",
       "    <tr style=\"text-align: right;\">\n",
       "      <th></th>\n",
       "      <th>x</th>\n",
       "      <th>y</th>\n",
       "      <th>Distance</th>\n",
       "      <th>Ticker</th>\n",
       "      <th>Weight</th>\n",
       "    </tr>\n",
       "  </thead>\n",
       "  <tbody>\n",
       "    <tr>\n",
       "      <th>FADH</th>\n",
       "      <td>0.037527</td>\n",
       "      <td>-0.055782</td>\n",
       "      <td>0.000031</td>\n",
       "      <td>FADH</td>\n",
       "      <td>0.102364</td>\n",
       "    </tr>\n",
       "    <tr>\n",
       "      <th>GBFC</th>\n",
       "      <td>0.037557</td>\n",
       "      <td>-0.055826</td>\n",
       "      <td>0.000067</td>\n",
       "      <td>GBFC</td>\n",
       "      <td>0.047425</td>\n",
       "    </tr>\n",
       "    <tr>\n",
       "      <th>AFAG</th>\n",
       "      <td>-0.004665</td>\n",
       "      <td>0.020649</td>\n",
       "      <td>0.000072</td>\n",
       "      <td>AFAG</td>\n",
       "      <td>0.044649</td>\n",
       "    </tr>\n",
       "    <tr>\n",
       "      <th>AFFD</th>\n",
       "      <td>-0.031613</td>\n",
       "      <td>-0.048004</td>\n",
       "      <td>0.000077</td>\n",
       "      <td>AFFD</td>\n",
       "      <td>0.041763</td>\n",
       "    </tr>\n",
       "    <tr>\n",
       "      <th>EAGA</th>\n",
       "      <td>0.037523</td>\n",
       "      <td>-0.055678</td>\n",
       "      <td>0.000086</td>\n",
       "      <td>EAGA</td>\n",
       "      <td>0.037321</td>\n",
       "    </tr>\n",
       "  </tbody>\n",
       "</table>\n",
       "</div>"
      ],
      "text/plain": [
       "             x         y  Distance Ticker    Weight\n",
       "FADH  0.037527 -0.055782  0.000031   FADH  0.102364\n",
       "GBFC  0.037557 -0.055826  0.000067   GBFC  0.047425\n",
       "AFAG -0.004665  0.020649  0.000072   AFAG  0.044649\n",
       "AFFD -0.031613 -0.048004  0.000077   AFFD  0.041763\n",
       "EAGA  0.037523 -0.055678  0.000086   EAGA  0.037321"
      ]
     },
     "execution_count": 111,
     "metadata": {},
     "output_type": "execute_result"
    }
   ],
   "source": [
    "top50.head()"
   ]
  },
  {
   "cell_type": "markdown",
   "metadata": {
    "colab_type": "text",
    "id": "JJer00CYg3LG"
   },
   "source": [
    "## Determine the number of shares of each ticker"
   ]
  },
  {
   "cell_type": "markdown",
   "metadata": {
    "colab_type": "text",
    "id": "SZIRsF66YsIO"
   },
   "source": [
    "### Load the stock data"
   ]
  },
  {
   "cell_type": "code",
   "execution_count": 112,
   "metadata": {
    "colab": {},
    "colab_type": "code",
    "id": "PdZlDEbDX4aN"
   },
   "outputs": [],
   "source": [
    "stock_data = pd.read_excel(PATH_FILES + '/stocks_data.xlsx')\n",
    "\n",
    "# Remove the weekend and holidays\n",
    "# We will use a well known stock (anonymized ticker: 'EAGH') as our reference data to detect weekends and public holidays\n",
    "stock_data = stock_data[pd.notnull(stock_data['EAGH'])]\n",
    "\n",
    "#After removing weekend and holidays, we clean the data further by removing columns which still contains NaN values\n",
    "#Drop tickers for which there are NaN values\n",
    "stock_data.dropna(axis='columns', inplace = True)\n",
    "\n",
    "# We further drop all rows with 0\n",
    "stock_data = stock_data[(stock_data != 0)]\n",
    "\n",
    "#Get the stock prices for the top 50 stocks we selected\n",
    "stock_data_top50 = stock_data[top50['Ticker']]"
   ]
  },
  {
   "cell_type": "code",
   "execution_count": 113,
   "metadata": {
    "colab": {},
    "colab_type": "code",
    "id": "PK7H9swdZSnN"
   },
   "outputs": [],
   "source": [
    "#Get the stock prices on January 4th 2016\n",
    "\n",
    "jan4_2016_stockPrice = np.zeros(len(stock_data_top50.columns))\n",
    "for i in range(len(jan4_2016_stockPrice)):\n",
    "  if stock_data_top50.columns[i] == top50['Ticker'].iloc[i]:\n",
    "    jan4_2016_stockPrice[i] = stock_data_top50[stock_data_top50.columns[i]].iloc[0]"
   ]
  },
  {
   "cell_type": "code",
   "execution_count": 114,
   "metadata": {
    "colab": {
     "base_uri": "https://localhost:8080/",
     "height": 119
    },
    "colab_type": "code",
    "executionInfo": {
     "elapsed": 593,
     "status": "ok",
     "timestamp": 1554399075075,
     "user": {
      "displayName": "Marie Imokoyende",
      "photoUrl": "",
      "userId": "13592623342127678396"
     },
     "user_tz": 240
    },
    "id": "ONO5vdu-Z4Q-",
    "outputId": "617e0a84-7c62-4ac3-c22e-cb923e90852d"
   },
   "outputs": [
    {
     "name": "stderr",
     "output_type": "stream",
     "text": [
      "d:\\uoft-work\\handson-ml\\env\\lib\\site-packages\\ipykernel_launcher.py:1: SettingWithCopyWarning: \n",
      "A value is trying to be set on a copy of a slice from a DataFrame.\n",
      "Try using .loc[row_indexer,col_indexer] = value instead\n",
      "\n",
      "See the caveats in the documentation: http://pandas.pydata.org/pandas-docs/stable/indexing.html#indexing-view-versus-copy\n",
      "  \"\"\"Entry point for launching an IPython kernel.\n"
     ]
    }
   ],
   "source": [
    "top50['Price Jan4_2016'] = jan4_2016_stockPrice"
   ]
  },
  {
   "cell_type": "code",
   "execution_count": 115,
   "metadata": {
    "colab": {
     "base_uri": "https://localhost:8080/",
     "height": 204
    },
    "colab_type": "code",
    "executionInfo": {
     "elapsed": 615,
     "status": "ok",
     "timestamp": 1554399077255,
     "user": {
      "displayName": "Marie Imokoyende",
      "photoUrl": "",
      "userId": "13592623342127678396"
     },
     "user_tz": 240
    },
    "id": "_adY1KV-Zrxy",
    "outputId": "8afc7373-3bea-4ee0-a325-a32c1c60eacc"
   },
   "outputs": [
    {
     "data": {
      "text/html": [
       "<div>\n",
       "<style scoped>\n",
       "    .dataframe tbody tr th:only-of-type {\n",
       "        vertical-align: middle;\n",
       "    }\n",
       "\n",
       "    .dataframe tbody tr th {\n",
       "        vertical-align: top;\n",
       "    }\n",
       "\n",
       "    .dataframe thead th {\n",
       "        text-align: right;\n",
       "    }\n",
       "</style>\n",
       "<table border=\"1\" class=\"dataframe\">\n",
       "  <thead>\n",
       "    <tr style=\"text-align: right;\">\n",
       "      <th></th>\n",
       "      <th>x</th>\n",
       "      <th>y</th>\n",
       "      <th>Distance</th>\n",
       "      <th>Ticker</th>\n",
       "      <th>Weight</th>\n",
       "      <th>Price Jan4_2016</th>\n",
       "    </tr>\n",
       "  </thead>\n",
       "  <tbody>\n",
       "    <tr>\n",
       "      <th>FADH</th>\n",
       "      <td>0.037527</td>\n",
       "      <td>-0.055782</td>\n",
       "      <td>0.000031</td>\n",
       "      <td>FADH</td>\n",
       "      <td>0.102364</td>\n",
       "      <td>61.00</td>\n",
       "    </tr>\n",
       "    <tr>\n",
       "      <th>GBFC</th>\n",
       "      <td>0.037557</td>\n",
       "      <td>-0.055826</td>\n",
       "      <td>0.000067</td>\n",
       "      <td>GBFC</td>\n",
       "      <td>0.047425</td>\n",
       "      <td>61.00</td>\n",
       "    </tr>\n",
       "    <tr>\n",
       "      <th>AFAG</th>\n",
       "      <td>-0.004665</td>\n",
       "      <td>0.020649</td>\n",
       "      <td>0.000072</td>\n",
       "      <td>AFAG</td>\n",
       "      <td>0.044649</td>\n",
       "      <td>28.00</td>\n",
       "    </tr>\n",
       "    <tr>\n",
       "      <th>AFFD</th>\n",
       "      <td>-0.031613</td>\n",
       "      <td>-0.048004</td>\n",
       "      <td>0.000077</td>\n",
       "      <td>AFFD</td>\n",
       "      <td>0.041763</td>\n",
       "      <td>91.60</td>\n",
       "    </tr>\n",
       "    <tr>\n",
       "      <th>EAGA</th>\n",
       "      <td>0.037523</td>\n",
       "      <td>-0.055678</td>\n",
       "      <td>0.000086</td>\n",
       "      <td>EAGA</td>\n",
       "      <td>0.037321</td>\n",
       "      <td>9.56</td>\n",
       "    </tr>\n",
       "  </tbody>\n",
       "</table>\n",
       "</div>"
      ],
      "text/plain": [
       "             x         y  Distance Ticker    Weight  Price Jan4_2016\n",
       "FADH  0.037527 -0.055782  0.000031   FADH  0.102364            61.00\n",
       "GBFC  0.037557 -0.055826  0.000067   GBFC  0.047425            61.00\n",
       "AFAG -0.004665  0.020649  0.000072   AFAG  0.044649            28.00\n",
       "AFFD -0.031613 -0.048004  0.000077   AFFD  0.041763            91.60\n",
       "EAGA  0.037523 -0.055678  0.000086   EAGA  0.037321             9.56"
      ]
     },
     "execution_count": 115,
     "metadata": {},
     "output_type": "execute_result"
    }
   ],
   "source": [
    "top50.head()"
   ]
  },
  {
   "cell_type": "markdown",
   "metadata": {
    "colab_type": "text",
    "id": "w4bdYbXihz_M"
   },
   "source": [
    "### Compute the number of shares"
   ]
  },
  {
   "cell_type": "code",
   "execution_count": 116,
   "metadata": {
    "colab": {
     "base_uri": "https://localhost:8080/",
     "height": 119
    },
    "colab_type": "code",
    "executionInfo": {
     "elapsed": 1134,
     "status": "ok",
     "timestamp": 1554399236356,
     "user": {
      "displayName": "Marie Imokoyende",
      "photoUrl": "",
      "userId": "13592623342127678396"
     },
     "user_tz": 240
    },
    "id": "vws5EDiKZxy_",
    "outputId": "2fbfab91-1ada-4df7-c69c-82bdf3cd8a0a"
   },
   "outputs": [
    {
     "name": "stderr",
     "output_type": "stream",
     "text": [
      "d:\\uoft-work\\handson-ml\\env\\lib\\site-packages\\ipykernel_launcher.py:8: SettingWithCopyWarning: \n",
      "A value is trying to be set on a copy of a slice from a DataFrame.\n",
      "Try using .loc[row_indexer,col_indexer] = value instead\n",
      "\n",
      "See the caveats in the documentation: http://pandas.pydata.org/pandas-docs/stable/indexing.html#indexing-view-versus-copy\n",
      "  \n"
     ]
    }
   ],
   "source": [
    "net_assets = 10000000 # We chose net assets = 10 million (in the currency of the stock market)\n",
    "\n",
    "numShares = np.zeros(len(stock_data_top50.columns))\n",
    "for i in range(len(jan4_2016_stockPrice)):\n",
    "  if stock_data_top50.columns[i] == top50['Ticker'].iloc[i]:\n",
    "    numShares[i] = int(net_assets*top50['Weight'].iloc[i]/top50['Price Jan4_2016'].iloc[i])\n",
    "    \n",
    "top50['numShares'] = numShares"
   ]
  },
  {
   "cell_type": "code",
   "execution_count": 117,
   "metadata": {
    "colab": {
     "base_uri": "https://localhost:8080/",
     "height": 204
    },
    "colab_type": "code",
    "executionInfo": {
     "elapsed": 801,
     "status": "ok",
     "timestamp": 1554399246516,
     "user": {
      "displayName": "Marie Imokoyende",
      "photoUrl": "",
      "userId": "13592623342127678396"
     },
     "user_tz": 240
    },
    "id": "qWKNZ5y4agsv",
    "outputId": "b43876b7-e251-4e04-9a68-4d83d1983580"
   },
   "outputs": [
    {
     "data": {
      "text/html": [
       "<div>\n",
       "<style scoped>\n",
       "    .dataframe tbody tr th:only-of-type {\n",
       "        vertical-align: middle;\n",
       "    }\n",
       "\n",
       "    .dataframe tbody tr th {\n",
       "        vertical-align: top;\n",
       "    }\n",
       "\n",
       "    .dataframe thead th {\n",
       "        text-align: right;\n",
       "    }\n",
       "</style>\n",
       "<table border=\"1\" class=\"dataframe\">\n",
       "  <thead>\n",
       "    <tr style=\"text-align: right;\">\n",
       "      <th></th>\n",
       "      <th>x</th>\n",
       "      <th>y</th>\n",
       "      <th>Distance</th>\n",
       "      <th>Ticker</th>\n",
       "      <th>Weight</th>\n",
       "      <th>Price Jan4_2016</th>\n",
       "      <th>numShares</th>\n",
       "    </tr>\n",
       "  </thead>\n",
       "  <tbody>\n",
       "    <tr>\n",
       "      <th>FADH</th>\n",
       "      <td>0.037527</td>\n",
       "      <td>-0.055782</td>\n",
       "      <td>0.000031</td>\n",
       "      <td>FADH</td>\n",
       "      <td>0.102364</td>\n",
       "      <td>61.00</td>\n",
       "      <td>16780.0</td>\n",
       "    </tr>\n",
       "    <tr>\n",
       "      <th>GBFC</th>\n",
       "      <td>0.037557</td>\n",
       "      <td>-0.055826</td>\n",
       "      <td>0.000067</td>\n",
       "      <td>GBFC</td>\n",
       "      <td>0.047425</td>\n",
       "      <td>61.00</td>\n",
       "      <td>7774.0</td>\n",
       "    </tr>\n",
       "    <tr>\n",
       "      <th>AFAG</th>\n",
       "      <td>-0.004665</td>\n",
       "      <td>0.020649</td>\n",
       "      <td>0.000072</td>\n",
       "      <td>AFAG</td>\n",
       "      <td>0.044649</td>\n",
       "      <td>28.00</td>\n",
       "      <td>15946.0</td>\n",
       "    </tr>\n",
       "    <tr>\n",
       "      <th>AFFD</th>\n",
       "      <td>-0.031613</td>\n",
       "      <td>-0.048004</td>\n",
       "      <td>0.000077</td>\n",
       "      <td>AFFD</td>\n",
       "      <td>0.041763</td>\n",
       "      <td>91.60</td>\n",
       "      <td>4559.0</td>\n",
       "    </tr>\n",
       "    <tr>\n",
       "      <th>EAGA</th>\n",
       "      <td>0.037523</td>\n",
       "      <td>-0.055678</td>\n",
       "      <td>0.000086</td>\n",
       "      <td>EAGA</td>\n",
       "      <td>0.037321</td>\n",
       "      <td>9.56</td>\n",
       "      <td>39039.0</td>\n",
       "    </tr>\n",
       "  </tbody>\n",
       "</table>\n",
       "</div>"
      ],
      "text/plain": [
       "             x         y  Distance Ticker    Weight  Price Jan4_2016  \\\n",
       "FADH  0.037527 -0.055782  0.000031   FADH  0.102364            61.00   \n",
       "GBFC  0.037557 -0.055826  0.000067   GBFC  0.047425            61.00   \n",
       "AFAG -0.004665  0.020649  0.000072   AFAG  0.044649            28.00   \n",
       "AFFD -0.031613 -0.048004  0.000077   AFFD  0.041763            91.60   \n",
       "EAGA  0.037523 -0.055678  0.000086   EAGA  0.037321             9.56   \n",
       "\n",
       "      numShares  \n",
       "FADH    16780.0  \n",
       "GBFC     7774.0  \n",
       "AFAG    15946.0  \n",
       "AFFD     4559.0  \n",
       "EAGA    39039.0  "
      ]
     },
     "execution_count": 117,
     "metadata": {},
     "output_type": "execute_result"
    }
   ],
   "source": [
    "top50.head()"
   ]
  },
  {
   "cell_type": "markdown",
   "metadata": {
    "colab_type": "text",
    "id": "FOKfGuVgh65O"
   },
   "source": [
    "## Construct the index"
   ]
  },
  {
   "cell_type": "markdown",
   "metadata": {
    "colab_type": "text",
    "id": "1B7ro1Fbaqjn"
   },
   "source": [
    "To construct the index, we will use the Laspeyres index method which is described in the S&P Dow Jones Indices [Index Mathematics Methodology](https://us.spindices.com/documents/methodologies/methodology-index-math.pdf )."
   ]
  },
  {
   "cell_type": "code",
   "execution_count": 118,
   "metadata": {
    "colab": {},
    "colab_type": "code",
    "id": "VhCk_lo7ajRo"
   },
   "outputs": [],
   "source": [
    "stock_index = np.zeros(len(stock_data_top50))\n",
    "\n",
    "for i in range(len(stock_data_top50)):\n",
    "  sum_num = 0\n",
    "  sum_denom = 0\n",
    "  for j in range(len(stock_data_top50.columns)):\n",
    "    sum_num = sum_num + stock_data_top50[stock_data_top50.columns[j]].iloc[i]*top50['numShares'].iloc[j]\n",
    "    sum_denom = sum_denom + stock_data_top50[stock_data_top50.columns[j]].iloc[0]*top50['numShares'].iloc[j]\n",
    "  stock_index[i] = sum_num /sum_denom"
   ]
  },
  {
   "cell_type": "code",
   "execution_count": 119,
   "metadata": {
    "colab": {},
    "colab_type": "code",
    "id": "cvMCzkGBbxht"
   },
   "outputs": [],
   "source": [
    "stock_index_df = pd.DataFrame(stock_index*100, columns =  ['stock_index'], index = stock_data_top50.index)"
   ]
  },
  {
   "cell_type": "markdown",
   "metadata": {
    "colab_type": "text",
    "id": "bDSHqoUmjBz6"
   },
   "source": [
    "We arbitrarily start the index at 100."
   ]
  },
  {
   "cell_type": "code",
   "execution_count": 120,
   "metadata": {
    "colab": {
     "base_uri": "https://localhost:8080/",
     "height": 474
    },
    "colab_type": "code",
    "executionInfo": {
     "elapsed": 654,
     "status": "ok",
     "timestamp": 1554399668389,
     "user": {
      "displayName": "Marie Imokoyende",
      "photoUrl": "",
      "userId": "13592623342127678396"
     },
     "user_tz": 240
    },
    "id": "HSLYfAkma2Kt",
    "outputId": "522bbd8e-5781-4195-cbf7-e059d6a65d2f"
   },
   "outputs": [
    {
     "data": {
      "text/plain": [
       "<matplotlib.axes._subplots.AxesSubplot at 0x1c25c0274e0>"
      ]
     },
     "execution_count": 120,
     "metadata": {},
     "output_type": "execute_result"
    },
    {
     "data": {
      "image/png": "[encoded data removed]",
      "text/plain": [
       "<Figure size 1080x576 with 1 Axes>"
      ]
     },
     "metadata": {
      "needs_background": "light"
     },
     "output_type": "display_data"
    }
   ],
   "source": [
    "stock_index_df.plot(figsize=(15,8))"
   ]
  },
  {
   "cell_type": "markdown",
   "metadata": {
    "colab_type": "text",
    "id": "rQBSGteliOyu"
   },
   "source": [
    "## Let's compare our index with the futures contract time series"
   ]
  },
  {
   "cell_type": "markdown",
   "metadata": {
    "colab_type": "text",
    "id": "k3kX0DIiiZBT"
   },
   "source": [
    "### Get the futures data"
   ]
  },
  {
   "cell_type": "code",
   "execution_count": 121,
   "metadata": {
    "colab": {},
    "colab_type": "code",
    "id": "6oWmivkAbPnE"
   },
   "outputs": [],
   "source": [
    "futures_data = pd.read_excel(PATH_FILES + '/futures_data_frontMonth.xlsx', index_col = 0)\n",
    "futures_data.index = pd.to_datetime(futures_data.index) #Convert the index to a datetime index\n",
    "futures_data.sort_index(inplace = True)\n",
    "\n",
    "# Only keep values that are also in stock_data dataframe and drop NaN values\n",
    "futures_data_stock_data = futures_data.loc[futures_data.index.isin(stock_data.index)].dropna()\n",
    "# We further drop all rows with 0\n",
    "futures_data = futures_data_stock_data[(futures_data_stock_data != 0)]"
   ]
  },
  {
   "cell_type": "code",
   "execution_count": 122,
   "metadata": {
    "colab": {},
    "colab_type": "code",
    "id": "aa1ST5ArcRq8"
   },
   "outputs": [],
   "source": [
    "#Then, we update the myIndex dataframe to make it have the same index as in the \"Commodities\" dataframe created above\n",
    "stock_index_df = stock_index_df[stock_index_df.index.isin(futures_data.index)]"
   ]
  },
  {
   "cell_type": "code",
   "execution_count": 123,
   "metadata": {
    "colab": {},
    "colab_type": "code",
    "id": "xxSZCF5qchBS"
   },
   "outputs": [],
   "source": [
    "futures_data_stock_data_pct_change = futures_data_stock_data.pct_change()\n",
    "futures_data_stock_data_pct_change.dropna(inplace = True)"
   ]
  },
  {
   "cell_type": "code",
   "execution_count": 124,
   "metadata": {
    "colab": {
     "base_uri": "https://localhost:8080/",
     "height": 235
    },
    "colab_type": "code",
    "executionInfo": {
     "elapsed": 621,
     "status": "ok",
     "timestamp": 1554400362381,
     "user": {
      "displayName": "Marie Imokoyende",
      "photoUrl": "",
      "userId": "13592623342127678396"
     },
     "user_tz": 240
    },
    "id": "K4SHVBM7d2xx",
    "outputId": "7cae5538-da10-4167-ba92-e37bc4d3393f"
   },
   "outputs": [
    {
     "data": {
      "text/html": [
       "<div>\n",
       "<style scoped>\n",
       "    .dataframe tbody tr th:only-of-type {\n",
       "        vertical-align: middle;\n",
       "    }\n",
       "\n",
       "    .dataframe tbody tr th {\n",
       "        vertical-align: top;\n",
       "    }\n",
       "\n",
       "    .dataframe thead th {\n",
       "        text-align: right;\n",
       "    }\n",
       "</style>\n",
       "<table border=\"1\" class=\"dataframe\">\n",
       "  <thead>\n",
       "    <tr style=\"text-align: right;\">\n",
       "      <th></th>\n",
       "      <th>Settle</th>\n",
       "    </tr>\n",
       "    <tr>\n",
       "      <th>Date</th>\n",
       "      <th></th>\n",
       "    </tr>\n",
       "  </thead>\n",
       "  <tbody>\n",
       "    <tr>\n",
       "      <th>2016-01-05</th>\n",
       "      <td>0.002274</td>\n",
       "    </tr>\n",
       "    <tr>\n",
       "      <th>2016-01-06</th>\n",
       "      <td>-0.003176</td>\n",
       "    </tr>\n",
       "    <tr>\n",
       "      <th>2016-01-07</th>\n",
       "      <td>-0.010242</td>\n",
       "    </tr>\n",
       "    <tr>\n",
       "      <th>2016-01-08</th>\n",
       "      <td>-0.001495</td>\n",
       "    </tr>\n",
       "    <tr>\n",
       "      <th>2016-01-11</th>\n",
       "      <td>-0.021879</td>\n",
       "    </tr>\n",
       "  </tbody>\n",
       "</table>\n",
       "</div>"
      ],
      "text/plain": [
       "              Settle\n",
       "Date                \n",
       "2016-01-05  0.002274\n",
       "2016-01-06 -0.003176\n",
       "2016-01-07 -0.010242\n",
       "2016-01-08 -0.001495\n",
       "2016-01-11 -0.021879"
      ]
     },
     "execution_count": 124,
     "metadata": {},
     "output_type": "execute_result"
    }
   ],
   "source": [
    "futures_data_stock_data_pct_change.head()"
   ]
  },
  {
   "cell_type": "markdown",
   "metadata": {
    "colab_type": "text",
    "id": "Rmr95nbwict8"
   },
   "source": [
    "### Scale the time series to the index such that futures_theoretical[0] = stock_index[0] = 100"
   ]
  },
  {
   "cell_type": "code",
   "execution_count": 125,
   "metadata": {
    "colab": {},
    "colab_type": "code",
    "id": "PylB23cTdG3g"
   },
   "outputs": [],
   "source": [
    "futures_theoretical = np.zeros(len(stock_index_df))\n",
    "futures_theoretical[0] = stock_index_df.iloc[0]\n",
    "for i in range(len(futures_theoretical)-1):\n",
    "  futures_theoretical[i+1] = (1+futures_data_stock_data_pct_change.iloc[i])*futures_theoretical[i]"
   ]
  },
  {
   "cell_type": "code",
   "execution_count": 126,
   "metadata": {
    "colab": {},
    "colab_type": "code",
    "id": "C62pSsoYdo0Q"
   },
   "outputs": [],
   "source": [
    "stock_index_df['Futures'] = futures_theoretical"
   ]
  },
  {
   "cell_type": "code",
   "execution_count": 127,
   "metadata": {
    "colab": {
     "base_uri": "https://localhost:8080/",
     "height": 204
    },
    "colab_type": "code",
    "executionInfo": {
     "elapsed": 551,
     "status": "ok",
     "timestamp": 1554400468026,
     "user": {
      "displayName": "Marie Imokoyende",
      "photoUrl": "",
      "userId": "13592623342127678396"
     },
     "user_tz": 240
    },
    "id": "gaf9N32yfLki",
    "outputId": "9b21d349-ec9f-430d-aad3-f6b5ce9c89c0"
   },
   "outputs": [
    {
     "data": {
      "text/html": [
       "<div>\n",
       "<style scoped>\n",
       "    .dataframe tbody tr th:only-of-type {\n",
       "        vertical-align: middle;\n",
       "    }\n",
       "\n",
       "    .dataframe tbody tr th {\n",
       "        vertical-align: top;\n",
       "    }\n",
       "\n",
       "    .dataframe thead th {\n",
       "        text-align: right;\n",
       "    }\n",
       "</style>\n",
       "<table border=\"1\" class=\"dataframe\">\n",
       "  <thead>\n",
       "    <tr style=\"text-align: right;\">\n",
       "      <th></th>\n",
       "      <th>stock_index</th>\n",
       "      <th>Futures</th>\n",
       "    </tr>\n",
       "  </thead>\n",
       "  <tbody>\n",
       "    <tr>\n",
       "      <th>2016-01-04</th>\n",
       "      <td>100.000000</td>\n",
       "      <td>100.000000</td>\n",
       "    </tr>\n",
       "    <tr>\n",
       "      <th>2016-01-05</th>\n",
       "      <td>99.782524</td>\n",
       "      <td>100.227402</td>\n",
       "    </tr>\n",
       "    <tr>\n",
       "      <th>2016-01-06</th>\n",
       "      <td>99.457649</td>\n",
       "      <td>99.909039</td>\n",
       "    </tr>\n",
       "    <tr>\n",
       "      <th>2016-01-07</th>\n",
       "      <td>97.982095</td>\n",
       "      <td>98.885731</td>\n",
       "    </tr>\n",
       "    <tr>\n",
       "      <th>2016-01-08</th>\n",
       "      <td>97.645471</td>\n",
       "      <td>98.737919</td>\n",
       "    </tr>\n",
       "  </tbody>\n",
       "</table>\n",
       "</div>"
      ],
      "text/plain": [
       "            stock_index     Futures\n",
       "2016-01-04   100.000000  100.000000\n",
       "2016-01-05    99.782524  100.227402\n",
       "2016-01-06    99.457649   99.909039\n",
       "2016-01-07    97.982095   98.885731\n",
       "2016-01-08    97.645471   98.737919"
      ]
     },
     "execution_count": 127,
     "metadata": {},
     "output_type": "execute_result"
    }
   ],
   "source": [
    "stock_index_df.head()"
   ]
  },
  {
   "cell_type": "markdown",
   "metadata": {
    "colab_type": "text",
    "id": "FskG9rYYlfxN"
   },
   "source": [
    "### Plot the Futures index and the stock_index we created"
   ]
  },
  {
   "cell_type": "code",
   "execution_count": 128,
   "metadata": {
    "colab": {
     "base_uri": "https://localhost:8080/",
     "height": 474
    },
    "colab_type": "code",
    "executionInfo": {
     "elapsed": 1006,
     "status": "ok",
     "timestamp": 1554400491249,
     "user": {
      "displayName": "Marie Imokoyende",
      "photoUrl": "",
      "userId": "13592623342127678396"
     },
     "user_tz": 240
    },
    "id": "NIRBQvZ-fNi4",
    "outputId": "6971e736-c706-4478-a692-e9bef208b2e9"
   },
   "outputs": [
    {
     "data": {
      "text/plain": [
       "<matplotlib.axes._subplots.AxesSubplot at 0x1c2501d7160>"
      ]
     },
     "execution_count": 128,
     "metadata": {},
     "output_type": "execute_result"
    },
    {
     "data": {
      "image/png": "[encoded data removed]",
      "text/plain": [
       "<Figure size 1080x576 with 1 Axes>"
      ]
     },
     "metadata": {
      "needs_background": "light"
     },
     "output_type": "display_data"
    }
   ],
   "source": [
    "stock_index_df.plot(figsize=(15,8))"
   ]
  },
  {
   "cell_type": "markdown",
   "metadata": {
    "colab_type": "text",
    "id": "L0xHhGiIkcGa"
   },
   "source": [
    "# Conclusion"
   ]
  },
  {
   "cell_type": "markdown",
   "metadata": {
    "colab_type": "text",
    "id": "Y5GkxwG3hvkQ"
   },
   "source": [
    "Our index has mostly the same trend as the reference futures data except for the second half of 2018. Because we use anonymized data, we did not filter the stocks for outliers and market capitalization limits. Furthermore there was no re-balancing throughout the two time periods observed and we ignored distributions.\n",
    "\n",
    "\n",
    "We believe that the use of variational autoencoders to construct an index can speed up the development of new indices in a stock market for which analysts may not be familiar with. Furthermore, it could help create even more niche indices to be used by ETFs or even new creative investment possibilities for direct indexing firms worldwide."
   ]
  }
 ],
 "metadata": {
  "accelerator": "GPU",
  "colab": {
   "name": "3546 Deep Learning Project - VAE & Index Construction.ipynb",
   "provenance": [],
   "version": "0.3.2"
  },
  "kernelspec": {
   "display_name": "Python 3",
   "language": "python",
   "name": "python3"
  },
  "language_info": {
   "codemirror_mode": {
    "name": "ipython",
    "version": 3
   },
   "file_extension": ".py",
   "mimetype": "text/x-python",
   "name": "python",
   "nbconvert_exporter": "python",
   "pygments_lexer": "ipython3",
   "version": "3.7.6-final"
  },
  "toc": {
   "base_numbering": 1,
   "nav_menu": {},
   "number_sections": true,
   "sideBar": true,
   "skip_h1_title": false,
   "title_cell": "Table of Contents",
   "title_sidebar": "Contents",
   "toc_cell": false,
   "toc_position": {},
   "toc_section_display": true,
   "toc_window_display": false
  }
 },
 "nbformat": 4,
 "nbformat_minor": 1
}