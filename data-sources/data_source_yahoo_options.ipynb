{
 "nbformat": 4,
 "nbformat_minor": 2,
 "metadata": {
  "language_info": {
   "name": "python",
   "codemirror_mode": {
    "name": "ipython",
    "version": 2
   },
   "version": "2.7.15-final"
  },
  "orig_nbformat": 2,
  "file_extension": ".py",
  "mimetype": "text/x-python",
  "name": "python",
  "npconvert_exporter": "python",
  "pygments_lexer": "ipython2",
  "version": 2,
  "kernelspec": {
   "name": "python38164bitpy3conda294dd441379c4b7c8b0229fa227e9fcb",
   "display_name": "Python 3.8.1 64-bit ('py3': conda)"
  }
 },
 "cells": [
  {
   "cell_type": "markdown",
   "metadata": {},
   "source": [
    "YAHOO_FIN DOCUMENTATION\n",
    "\n",
    "http://theautomatic.net/yahoo_fin-documentation\n",
    "\n",
    "Scrapes historical stock price data, as well as to provide current information on market caps, dividend yields, and which stocks comprise the major exchanges. Additional functionality includes scraping income statements, balance sheets, cash flows, holder information, and analyst data. The package includes the ability to get live stock prices, capture cryptocurrency data, and get the most actively traded stocks on a current trading day.\n",
    "\n",
    "See also:\n",
    "[An introduction to web scraping for finance](https://www.freecodecamp.org/news/how-i-get-options-data-for-free-fba22d395cc8/)"
   ]
  },
  {
   "cell_type": "code",
   "execution_count": 2,
   "metadata": {},
   "outputs": [],
   "source": [
    "import os\n",
    "import pandas as pd\n",
    "from iexfinance.stocks import Stock\n",
    "from datetime import datetime\n",
    "import matplotlib.pyplot as plt\n",
    "import iexfinance as iex\n",
    "from yahoo_fin import options\n",
    "from yahoo_fin import stock_info as si\n",
    "from dotenv import load_dotenv\n",
    "from requests_html import HTMLSession\n",
    "\n",
    "\n",
    "SYMBOL = 'AAPL'\n",
    "START_DATE = datetime(2020, 1, 1)\n",
    "END_DATE = datetime.now()\n"
   ]
  },
  {
   "cell_type": "code",
   "execution_count": 3,
   "metadata": {},
   "outputs": [
    {
     "name": "stdout",
     "output_type": "stream",
     "text": "\nSYMBOL: AAPL\nSTART_DATE: 2020-01-01 00:00:00\nEND_DATE: 2020-03-20 02:32:20.457158\n"
    }
   ],
   "source": [
    "\n",
    "print()\n",
    "print('SYMBOL:', SYMBOL)\n",
    "print('START_DATE:', START_DATE)\n",
    "print('END_DATE:', END_DATE)"
   ]
  },
  {
   "cell_type": "markdown",
   "metadata": {},
   "source": [
    "Get option expiration dates"
   ]
  },
  {
   "cell_type": "code",
   "execution_count": 7,
   "metadata": {},
   "outputs": [
    {
     "name": "stdout",
     "output_type": "stream",
     "text": "30 ['AAPL', 'AXP', 'BA', 'CAT', 'CSCO', 'CVX', 'DIS', 'DOW', 'GS', 'HD', 'IBM', 'INTC', 'JNJ', 'JPM', 'KO', 'MCD', 'MMM', 'MRK', 'MSFT', 'NKE', 'PFE', 'PG', 'TRV', 'UNH', 'UTX', 'V', 'VZ', 'WBA', 'WMT', 'XOM']\n"
    }
   ],
   "source": [
    "dji_symbols = si.tickers_dow()\n",
    "print(len(dji_symbols), dji_symbols)\n"
   ]
  },
  {
   "cell_type": "code",
   "execution_count": 8,
   "metadata": {},
   "outputs": [],
   "source": [
    "# scrape the options data for each Dow ticker\n",
    "dow_data = {}\n",
    "for ticker in dji_symbols:\n",
    "    try:\n",
    "        dow_data[ticker] = options.get_options_chain(ticker)\n",
    "    except Exception:\n",
    "        print(ticker + \" failed\")"
   ]
  },
  {
   "cell_type": "code",
   "execution_count": 9,
   "metadata": {},
   "outputs": [
    {
     "data": {
      "text/html": "<div>\n<style scoped>\n    .dataframe tbody tr th:only-of-type {\n        vertical-align: middle;\n    }\n\n    .dataframe tbody tr th {\n        vertical-align: top;\n    }\n\n    .dataframe thead th {\n        text-align: right;\n    }\n</style>\n<table border=\"1\" class=\"dataframe\">\n  <thead>\n    <tr style=\"text-align: right;\">\n      <th></th>\n      <th>Contract Name</th>\n      <th>Last Trade Date</th>\n      <th>Strike</th>\n      <th>Last Price</th>\n      <th>Bid</th>\n      <th>Ask</th>\n      <th>Change</th>\n      <th>% Change</th>\n      <th>Volume</th>\n      <th>Open Interest</th>\n      <th>Implied Volatility</th>\n    </tr>\n  </thead>\n  <tbody>\n    <tr>\n      <th>0</th>\n      <td>AAPL200320C00105000</td>\n      <td>2020-03-13 3:40PM EDT</td>\n      <td>105.0</td>\n      <td>139.53</td>\n      <td>144.80</td>\n      <td>147.15</td>\n      <td>0.0</td>\n      <td>-</td>\n      <td>1</td>\n      <td>0</td>\n      <td>1,354.69%</td>\n    </tr>\n    <tr>\n      <th>1</th>\n      <td>AAPL200320C00110000</td>\n      <td>2020-03-09 3:58PM EDT</td>\n      <td>110.0</td>\n      <td>169.85</td>\n      <td>139.05</td>\n      <td>141.65</td>\n      <td>0.0</td>\n      <td>-</td>\n      <td>3</td>\n      <td>50</td>\n      <td>1,251.56%</td>\n    </tr>\n    <tr>\n      <th>2</th>\n      <td>AAPL200320C00115000</td>\n      <td>2020-03-12 1:45PM EDT</td>\n      <td>115.0</td>\n      <td>141.55</td>\n      <td>135.05</td>\n      <td>137.20</td>\n      <td>0.0</td>\n      <td>-</td>\n      <td>5</td>\n      <td>0</td>\n      <td>1,239.75%</td>\n    </tr>\n    <tr>\n      <th>3</th>\n      <td>AAPL200320C00120000</td>\n      <td>2020-03-19 10:44AM EDT</td>\n      <td>120.0</td>\n      <td>124.91</td>\n      <td>122.60</td>\n      <td>127.40</td>\n      <td>0.0</td>\n      <td>-</td>\n      <td>2</td>\n      <td>4</td>\n      <td>602.34%</td>\n    </tr>\n    <tr>\n      <th>4</th>\n      <td>AAPL200320C00125000</td>\n      <td>2020-03-12 2:00PM EDT</td>\n      <td>125.0</td>\n      <td>132.90</td>\n      <td>125.05</td>\n      <td>127.20</td>\n      <td>0.0</td>\n      <td>-</td>\n      <td>-</td>\n      <td>0</td>\n      <td>1,126.07%</td>\n    </tr>\n    <tr>\n      <th>...</th>\n      <td>...</td>\n      <td>...</td>\n      <td>...</td>\n      <td>...</td>\n      <td>...</td>\n      <td>...</td>\n      <td>...</td>\n      <td>...</td>\n      <td>...</td>\n      <td>...</td>\n      <td>...</td>\n    </tr>\n    <tr>\n      <th>77</th>\n      <td>AAPL200320C00460000</td>\n      <td>2020-02-27 1:56PM EDT</td>\n      <td>460.0</td>\n      <td>0.01</td>\n      <td>0.00</td>\n      <td>0.01</td>\n      <td>0.0</td>\n      <td>-</td>\n      <td>2</td>\n      <td>0</td>\n      <td>350.00%</td>\n    </tr>\n    <tr>\n      <th>78</th>\n      <td>AAPL200320C00470000</td>\n      <td>2020-03-18 10:04AM EDT</td>\n      <td>470.0</td>\n      <td>0.01</td>\n      <td>0.00</td>\n      <td>0.01</td>\n      <td>0.0</td>\n      <td>-</td>\n      <td>5</td>\n      <td>0</td>\n      <td>362.50%</td>\n    </tr>\n    <tr>\n      <th>79</th>\n      <td>AAPL200320C00480000</td>\n      <td>2020-03-18 10:04AM EDT</td>\n      <td>480.0</td>\n      <td>0.03</td>\n      <td>0.01</td>\n      <td>0.05</td>\n      <td>0.0</td>\n      <td>-</td>\n      <td>1</td>\n      <td>0</td>\n      <td>429.69%</td>\n    </tr>\n    <tr>\n      <th>80</th>\n      <td>AAPL200320C00490000</td>\n      <td>2020-03-16 9:54AM EDT</td>\n      <td>490.0</td>\n      <td>0.01</td>\n      <td>0.00</td>\n      <td>0.01</td>\n      <td>0.0</td>\n      <td>-</td>\n      <td>8</td>\n      <td>424</td>\n      <td>387.50%</td>\n    </tr>\n    <tr>\n      <th>81</th>\n      <td>AAPL200320C00500000</td>\n      <td>2020-03-18 1:12PM EDT</td>\n      <td>500.0</td>\n      <td>0.01</td>\n      <td>0.00</td>\n      <td>0.01</td>\n      <td>0.0</td>\n      <td>-</td>\n      <td>1</td>\n      <td>5929</td>\n      <td>393.75%</td>\n    </tr>\n  </tbody>\n</table>\n<p>82 rows × 11 columns</p>\n</div>",
      "text/plain": "          Contract Name         Last Trade Date  Strike  Last Price     Bid  \\\n0   AAPL200320C00105000   2020-03-13 3:40PM EDT   105.0      139.53  144.80   \n1   AAPL200320C00110000   2020-03-09 3:58PM EDT   110.0      169.85  139.05   \n2   AAPL200320C00115000   2020-03-12 1:45PM EDT   115.0      141.55  135.05   \n3   AAPL200320C00120000  2020-03-19 10:44AM EDT   120.0      124.91  122.60   \n4   AAPL200320C00125000   2020-03-12 2:00PM EDT   125.0      132.90  125.05   \n..                  ...                     ...     ...         ...     ...   \n77  AAPL200320C00460000   2020-02-27 1:56PM EDT   460.0        0.01    0.00   \n78  AAPL200320C00470000  2020-03-18 10:04AM EDT   470.0        0.01    0.00   \n79  AAPL200320C00480000  2020-03-18 10:04AM EDT   480.0        0.03    0.01   \n80  AAPL200320C00490000   2020-03-16 9:54AM EDT   490.0        0.01    0.00   \n81  AAPL200320C00500000   2020-03-18 1:12PM EDT   500.0        0.01    0.00   \n\n       Ask  Change % Change Volume  Open Interest Implied Volatility  \n0   147.15     0.0        -      1              0          1,354.69%  \n1   141.65     0.0        -      3             50          1,251.56%  \n2   137.20     0.0        -      5              0          1,239.75%  \n3   127.40     0.0        -      2              4            602.34%  \n4   127.20     0.0        -      -              0          1,126.07%  \n..     ...     ...      ...    ...            ...                ...  \n77    0.01     0.0        -      2              0            350.00%  \n78    0.01     0.0        -      5              0            362.50%  \n79    0.05     0.0        -      1              0            429.69%  \n80    0.01     0.0        -      8            424            387.50%  \n81    0.01     0.0        -      1           5929            393.75%  \n\n[82 rows x 11 columns]"
     },
     "execution_count": 9,
     "metadata": {},
     "output_type": "execute_result"
    }
   ],
   "source": [
    "dow_data[\"AAPL\"][\"calls\"]"
   ]
  },
  {
   "cell_type": "markdown",
   "metadata": {},
   "source": [
    "Get all options for a givien symbol"
   ]
  },
  {
   "cell_type": "code",
   "execution_count": 11,
   "metadata": {},
   "outputs": [
    {
     "data": {
      "text/plain": "{'calls':           Contract Name         Last Trade Date  Strike  Last Price     Bid  \\\n 0   AAPL200320C00105000   2020-03-13 3:40PM EDT   105.0      139.53  144.80   \n 1   AAPL200320C00110000   2020-03-09 3:58PM EDT   110.0      169.85  139.05   \n 2   AAPL200320C00115000   2020-03-12 1:45PM EDT   115.0      141.55  135.05   \n 3   AAPL200320C00120000  2020-03-19 10:44AM EDT   120.0      124.91  122.60   \n 4   AAPL200320C00125000   2020-03-12 2:00PM EDT   125.0      132.90  125.05   \n ..                  ...                     ...     ...         ...     ...   \n 77  AAPL200320C00460000   2020-02-27 1:56PM EDT   460.0        0.01    0.00   \n 78  AAPL200320C00470000  2020-03-18 10:04AM EDT   470.0        0.01    0.00   \n 79  AAPL200320C00480000  2020-03-18 10:04AM EDT   480.0        0.03    0.01   \n 80  AAPL200320C00490000   2020-03-16 9:54AM EDT   490.0        0.01    0.00   \n 81  AAPL200320C00500000   2020-03-18 1:12PM EDT   500.0        0.01    0.00   \n \n        Ask  Change % Change Volume  Open Interest Implied Volatility  \n 0   147.15     0.0        -      1             11          1,354.69%  \n 1   141.65     0.0        -      3             50          1,251.56%  \n 2   137.20     0.0        -      1              9          1,239.75%  \n 3   127.40     0.0        -      2              4            602.34%  \n 4   127.20     0.0        -      -              1          1,126.07%  \n ..     ...     ...      ...    ...            ...                ...  \n 77    0.01     0.0        -      2              0            350.00%  \n 78    0.01     0.0        -      5              0            362.50%  \n 79    0.05     0.0        -      1              0            429.69%  \n 80    0.01     0.0        -      2            424            387.50%  \n 81    0.01     0.0        -      1           5929            393.75%  \n \n [82 rows x 11 columns],\n 'puts':           Contract Name         Last Trade Date  Strike  Last Price     Bid  \\\n 0   AAPL200320P00105000  2020-03-19 12:39PM EDT   105.0        0.01    0.00   \n 1   AAPL200320P00110000   2020-03-18 2:37PM EDT   110.0        0.01    0.00   \n 2   AAPL200320P00115000   2020-03-18 3:01PM EDT   115.0        0.01    0.00   \n 3   AAPL200320P00120000   2020-03-18 3:54PM EDT   120.0        0.01    0.00   \n 4   AAPL200320P00125000   2020-03-18 3:53PM EDT   125.0        0.02    0.00   \n ..                  ...                     ...     ...         ...     ...   \n 73  AAPL200320P00460000  2020-03-12 11:35AM EDT   460.0      183.00  208.40   \n 74  AAPL200320P00470000   2020-03-17 2:48PM EDT   470.0      218.05  223.40   \n 75  AAPL200320P00480000   2020-03-03 2:36PM EDT   480.0      193.85  230.45   \n 76  AAPL200320P00490000  2020-03-03 12:03PM EDT   490.0      206.60  238.15   \n 77  AAPL200320P00500000   2020-03-02 3:34PM EDT   500.0      238.40  249.50   \n \n        Ask Change  % Change Volume Open Interest Implied Volatility  \n 0     0.01   0.00         -     39          3711            487.50%  \n 1     0.01   0.00         -     24          1911            462.50%  \n 2     0.01   0.00         -     70           556            437.50%  \n 3     0.01   0.00         -     69           835            412.50%  \n 4     0.01  +0.01  +100.00%      2           647            387.50%  \n ..     ...    ...       ...    ...           ...                ...  \n 73  211.00   0.00         -      -             -              0.00%  \n 74  227.40      -         -      -             0            500.00%  \n 75  232.55   0.00         -      1             -              0.00%  \n 76  241.10   0.00         -      1             1              0.00%  \n 77  251.80   0.00         -      1             0              0.00%  \n \n [78 rows x 11 columns]}"
     },
     "execution_count": 11,
     "metadata": {},
     "output_type": "execute_result"
    }
   ],
   "source": [
    "chain = options.get_options_chain(SYMBOL)\n",
    "chain"
   ]
  },
  {
   "cell_type": "markdown",
   "metadata": {},
   "source": [
    "Get all option expiration dates for a given symbol"
   ]
  },
  {
   "cell_type": "code",
   "execution_count": 13,
   "metadata": {},
   "outputs": [
    {
     "data": {
      "text/plain": "['March 20, 2020',\n 'March 27, 2020',\n 'April 3, 2020',\n 'April 9, 2020',\n 'April 17, 2020',\n 'April 24, 2020',\n 'May 1, 2020',\n 'May 15, 2020',\n 'June 19, 2020',\n 'July 17, 2020',\n 'September 18, 2020',\n 'October 16, 2020',\n 'December 18, 2020',\n 'January 15, 2021',\n 'June 18, 2021',\n 'September 17, 2021',\n 'January 21, 2022',\n 'June 17, 2022']"
     },
     "execution_count": 13,
     "metadata": {},
     "output_type": "execute_result"
    }
   ],
   "source": [
    "expirations = options.get_expiration_dates(SYMBOL)\n",
    "expirations"
   ]
  },
  {
   "cell_type": "markdown",
   "metadata": {},
   "source": [
    "Get option contracts for the first expiration date"
   ]
  },
  {
   "cell_type": "code",
   "execution_count": 17,
   "metadata": {},
   "outputs": [
    {
     "data": {
      "text/plain": "{'calls':           Contract Name         Last Trade Date  Strike  Last Price     Bid  \\\n 0   AAPL200320C00105000   2020-03-13 3:40PM EDT   105.0      139.53  144.80   \n 1   AAPL200320C00110000   2020-03-09 3:58PM EDT   110.0      169.85  139.05   \n 2   AAPL200320C00115000   2020-03-12 1:45PM EDT   115.0      141.55  135.05   \n 3   AAPL200320C00120000  2020-03-19 10:44AM EDT   120.0      124.91  122.60   \n 4   AAPL200320C00125000   2020-03-12 2:00PM EDT   125.0      132.90  125.05   \n ..                  ...                     ...     ...         ...     ...   \n 77  AAPL200320C00460000   2020-02-27 1:56PM EDT   460.0        0.01    0.00   \n 78  AAPL200320C00470000  2020-03-18 10:04AM EDT   470.0        0.01    0.00   \n 79  AAPL200320C00480000  2020-03-18 10:04AM EDT   480.0        0.03    0.01   \n 80  AAPL200320C00490000   2020-03-16 9:54AM EDT   490.0        0.01    0.00   \n 81  AAPL200320C00500000   2020-03-18 1:12PM EDT   500.0        0.01    0.00   \n \n        Ask  Change % Change Volume  Open Interest Implied Volatility  \n 0   147.15     0.0        -      1             11          1,354.69%  \n 1   141.65     0.0        -      3             50          1,251.56%  \n 2   137.20     0.0        -      5              0          1,239.75%  \n 3   127.40     0.0        -      2              4            602.34%  \n 4   127.20     0.0        -      -              0          1,126.07%  \n ..     ...     ...      ...    ...            ...                ...  \n 77    0.01     0.0        -      2              0            350.00%  \n 78    0.01     0.0        -      5              0            362.50%  \n 79    0.05     0.0        -      1              0            429.69%  \n 80    0.01     0.0        -      8            424            387.50%  \n 81    0.01     0.0        -      1           5929            393.75%  \n \n [82 rows x 11 columns],\n 'puts':           Contract Name         Last Trade Date  Strike  Last Price     Bid  \\\n 0   AAPL200320P00105000  2020-03-19 12:39PM EDT   105.0        0.01    0.00   \n 1   AAPL200320P00110000   2020-03-18 2:37PM EDT   110.0        0.01    0.00   \n 2   AAPL200320P00115000   2020-03-18 3:01PM EDT   115.0        0.01    0.00   \n 3   AAPL200320P00120000   2020-03-18 3:54PM EDT   120.0        0.01    0.00   \n 4   AAPL200320P00125000   2020-03-18 3:53PM EDT   125.0        0.02    0.00   \n ..                  ...                     ...     ...         ...     ...   \n 73  AAPL200320P00460000  2020-03-12 11:35AM EDT   460.0      183.00  208.40   \n 74  AAPL200320P00470000   2020-03-17 2:48PM EDT   470.0      218.05  223.40   \n 75  AAPL200320P00480000   2020-03-03 2:36PM EDT   480.0      193.85  230.45   \n 76  AAPL200320P00490000  2020-03-03 12:03PM EDT   490.0      206.60  238.15   \n 77  AAPL200320P00500000   2020-03-02 3:34PM EDT   500.0      238.40  249.50   \n \n        Ask Change  % Change Volume Open Interest Implied Volatility  \n 0     0.01   0.00         -     39          3711            487.50%  \n 1     0.01   0.00         -     24          1911            462.50%  \n 2     0.01   0.00         -     70           556            437.50%  \n 3     0.01   0.00         -     69           835            412.50%  \n 4     0.01  +0.01  +100.00%      2           647            387.50%  \n ..     ...    ...       ...    ...           ...                ...  \n 73  211.00   0.00         -      -             -              0.00%  \n 74  227.40      -         -      -             0            500.00%  \n 75  232.55   0.00         -      1             -              0.00%  \n 76  241.10   0.00         -      1             1              0.00%  \n 77  251.80   0.00         -      1             0              0.00%  \n \n [78 rows x 11 columns]}"
     },
     "execution_count": 17,
     "metadata": {},
     "output_type": "execute_result"
    }
   ],
   "source": [
    "options.get_options_chain(SYMBOL,expirations[0])"
   ]
  },
  {
   "cell_type": "code",
   "execution_count": 16,
   "metadata": {},
   "outputs": [
    {
     "data": {
      "text/html": "<div>\n<style scoped>\n    .dataframe tbody tr th:only-of-type {\n        vertical-align: middle;\n    }\n\n    .dataframe tbody tr th {\n        vertical-align: top;\n    }\n\n    .dataframe thead th {\n        text-align: right;\n    }\n</style>\n<table border=\"1\" class=\"dataframe\">\n  <thead>\n    <tr style=\"text-align: right;\">\n      <th></th>\n      <th>Contract Name</th>\n      <th>Last Trade Date</th>\n      <th>Strike</th>\n      <th>Last Price</th>\n      <th>Bid</th>\n      <th>Ask</th>\n      <th>Change</th>\n      <th>% Change</th>\n      <th>Volume</th>\n      <th>Open Interest</th>\n      <th>Implied Volatility</th>\n    </tr>\n  </thead>\n  <tbody>\n    <tr>\n      <th>0</th>\n      <td>AAPL200320C00105000</td>\n      <td>2020-03-13 3:40PM EDT</td>\n      <td>105.0</td>\n      <td>139.53</td>\n      <td>144.80</td>\n      <td>147.15</td>\n      <td>0.0</td>\n      <td>-</td>\n      <td>1</td>\n      <td>11</td>\n      <td>1,354.69%</td>\n    </tr>\n    <tr>\n      <th>1</th>\n      <td>AAPL200320C00110000</td>\n      <td>2020-03-09 3:58PM EDT</td>\n      <td>110.0</td>\n      <td>169.85</td>\n      <td>139.05</td>\n      <td>141.65</td>\n      <td>0.0</td>\n      <td>-</td>\n      <td>3</td>\n      <td>50</td>\n      <td>1,251.56%</td>\n    </tr>\n    <tr>\n      <th>2</th>\n      <td>AAPL200320C00115000</td>\n      <td>2020-03-12 1:45PM EDT</td>\n      <td>115.0</td>\n      <td>141.55</td>\n      <td>135.05</td>\n      <td>137.20</td>\n      <td>0.0</td>\n      <td>-</td>\n      <td>1</td>\n      <td>9</td>\n      <td>1,239.75%</td>\n    </tr>\n    <tr>\n      <th>3</th>\n      <td>AAPL200320C00120000</td>\n      <td>2020-03-19 10:44AM EDT</td>\n      <td>120.0</td>\n      <td>124.91</td>\n      <td>122.60</td>\n      <td>127.40</td>\n      <td>0.0</td>\n      <td>-</td>\n      <td>2</td>\n      <td>4</td>\n      <td>602.34%</td>\n    </tr>\n    <tr>\n      <th>4</th>\n      <td>AAPL200320C00125000</td>\n      <td>2020-03-12 2:00PM EDT</td>\n      <td>125.0</td>\n      <td>132.90</td>\n      <td>125.05</td>\n      <td>127.20</td>\n      <td>0.0</td>\n      <td>-</td>\n      <td>-</td>\n      <td>1</td>\n      <td>1,126.07%</td>\n    </tr>\n    <tr>\n      <th>...</th>\n      <td>...</td>\n      <td>...</td>\n      <td>...</td>\n      <td>...</td>\n      <td>...</td>\n      <td>...</td>\n      <td>...</td>\n      <td>...</td>\n      <td>...</td>\n      <td>...</td>\n      <td>...</td>\n    </tr>\n    <tr>\n      <th>77</th>\n      <td>AAPL200320C00460000</td>\n      <td>2020-02-27 1:56PM EDT</td>\n      <td>460.0</td>\n      <td>0.01</td>\n      <td>0.00</td>\n      <td>0.01</td>\n      <td>0.0</td>\n      <td>-</td>\n      <td>2</td>\n      <td>0</td>\n      <td>350.00%</td>\n    </tr>\n    <tr>\n      <th>78</th>\n      <td>AAPL200320C00470000</td>\n      <td>2020-03-18 10:04AM EDT</td>\n      <td>470.0</td>\n      <td>0.01</td>\n      <td>0.00</td>\n      <td>0.01</td>\n      <td>0.0</td>\n      <td>-</td>\n      <td>5</td>\n      <td>0</td>\n      <td>362.50%</td>\n    </tr>\n    <tr>\n      <th>79</th>\n      <td>AAPL200320C00480000</td>\n      <td>2020-03-18 10:04AM EDT</td>\n      <td>480.0</td>\n      <td>0.03</td>\n      <td>0.01</td>\n      <td>0.05</td>\n      <td>0.0</td>\n      <td>-</td>\n      <td>1</td>\n      <td>0</td>\n      <td>429.69%</td>\n    </tr>\n    <tr>\n      <th>80</th>\n      <td>AAPL200320C00490000</td>\n      <td>2020-03-16 9:54AM EDT</td>\n      <td>490.0</td>\n      <td>0.01</td>\n      <td>0.00</td>\n      <td>0.01</td>\n      <td>0.0</td>\n      <td>-</td>\n      <td>2</td>\n      <td>424</td>\n      <td>387.50%</td>\n    </tr>\n    <tr>\n      <th>81</th>\n      <td>AAPL200320C00500000</td>\n      <td>2020-03-18 1:12PM EDT</td>\n      <td>500.0</td>\n      <td>0.01</td>\n      <td>0.00</td>\n      <td>0.01</td>\n      <td>0.0</td>\n      <td>-</td>\n      <td>1</td>\n      <td>5929</td>\n      <td>393.75%</td>\n    </tr>\n  </tbody>\n</table>\n<p>82 rows × 11 columns</p>\n</div>",
      "text/plain": "          Contract Name         Last Trade Date  Strike  Last Price     Bid  \\\n0   AAPL200320C00105000   2020-03-13 3:40PM EDT   105.0      139.53  144.80   \n1   AAPL200320C00110000   2020-03-09 3:58PM EDT   110.0      169.85  139.05   \n2   AAPL200320C00115000   2020-03-12 1:45PM EDT   115.0      141.55  135.05   \n3   AAPL200320C00120000  2020-03-19 10:44AM EDT   120.0      124.91  122.60   \n4   AAPL200320C00125000   2020-03-12 2:00PM EDT   125.0      132.90  125.05   \n..                  ...                     ...     ...         ...     ...   \n77  AAPL200320C00460000   2020-02-27 1:56PM EDT   460.0        0.01    0.00   \n78  AAPL200320C00470000  2020-03-18 10:04AM EDT   470.0        0.01    0.00   \n79  AAPL200320C00480000  2020-03-18 10:04AM EDT   480.0        0.03    0.01   \n80  AAPL200320C00490000   2020-03-16 9:54AM EDT   490.0        0.01    0.00   \n81  AAPL200320C00500000   2020-03-18 1:12PM EDT   500.0        0.01    0.00   \n\n       Ask  Change % Change Volume  Open Interest Implied Volatility  \n0   147.15     0.0        -      1             11          1,354.69%  \n1   141.65     0.0        -      3             50          1,251.56%  \n2   137.20     0.0        -      1              9          1,239.75%  \n3   127.40     0.0        -      2              4            602.34%  \n4   127.20     0.0        -      -              1          1,126.07%  \n..     ...     ...      ...    ...            ...                ...  \n77    0.01     0.0        -      2              0            350.00%  \n78    0.01     0.0        -      5              0            362.50%  \n79    0.05     0.0        -      1              0            429.69%  \n80    0.01     0.0        -      2            424            387.50%  \n81    0.01     0.0        -      1           5929            393.75%  \n\n[82 rows x 11 columns]"
     },
     "execution_count": 16,
     "metadata": {},
     "output_type": "execute_result"
    }
   ],
   "source": [
    "options.get_calls(SYMBOL,expirations[0])"
   ]
  },
  {
   "cell_type": "code",
   "execution_count": 18,
   "metadata": {},
   "outputs": [
    {
     "data": {
      "text/html": "<div>\n<style scoped>\n    .dataframe tbody tr th:only-of-type {\n        vertical-align: middle;\n    }\n\n    .dataframe tbody tr th {\n        vertical-align: top;\n    }\n\n    .dataframe thead th {\n        text-align: right;\n    }\n</style>\n<table border=\"1\" class=\"dataframe\">\n  <thead>\n    <tr style=\"text-align: right;\">\n      <th></th>\n      <th>Contract Name</th>\n      <th>Last Trade Date</th>\n      <th>Strike</th>\n      <th>Last Price</th>\n      <th>Bid</th>\n      <th>Ask</th>\n      <th>Change</th>\n      <th>% Change</th>\n      <th>Volume</th>\n      <th>Open Interest</th>\n      <th>Implied Volatility</th>\n    </tr>\n  </thead>\n  <tbody>\n    <tr>\n      <th>0</th>\n      <td>AAPL200320P00105000</td>\n      <td>2020-03-19 12:39PM EDT</td>\n      <td>105.0</td>\n      <td>0.01</td>\n      <td>0.00</td>\n      <td>0.01</td>\n      <td>0.00</td>\n      <td>-</td>\n      <td>39</td>\n      <td>3711</td>\n      <td>487.50%</td>\n    </tr>\n    <tr>\n      <th>1</th>\n      <td>AAPL200320P00110000</td>\n      <td>2020-03-18 2:37PM EDT</td>\n      <td>110.0</td>\n      <td>0.01</td>\n      <td>0.00</td>\n      <td>0.01</td>\n      <td>0.00</td>\n      <td>-</td>\n      <td>24</td>\n      <td>1911</td>\n      <td>462.50%</td>\n    </tr>\n    <tr>\n      <th>2</th>\n      <td>AAPL200320P00115000</td>\n      <td>2020-03-18 3:01PM EDT</td>\n      <td>115.0</td>\n      <td>0.01</td>\n      <td>0.00</td>\n      <td>0.01</td>\n      <td>0.00</td>\n      <td>-</td>\n      <td>70</td>\n      <td>556</td>\n      <td>437.50%</td>\n    </tr>\n    <tr>\n      <th>3</th>\n      <td>AAPL200320P00120000</td>\n      <td>2020-03-18 3:54PM EDT</td>\n      <td>120.0</td>\n      <td>0.01</td>\n      <td>0.00</td>\n      <td>0.01</td>\n      <td>0.00</td>\n      <td>-</td>\n      <td>69</td>\n      <td>835</td>\n      <td>412.50%</td>\n    </tr>\n    <tr>\n      <th>4</th>\n      <td>AAPL200320P00125000</td>\n      <td>2020-03-18 3:53PM EDT</td>\n      <td>125.0</td>\n      <td>0.02</td>\n      <td>0.00</td>\n      <td>0.01</td>\n      <td>+0.01</td>\n      <td>+100.00%</td>\n      <td>2</td>\n      <td>647</td>\n      <td>387.50%</td>\n    </tr>\n    <tr>\n      <th>...</th>\n      <td>...</td>\n      <td>...</td>\n      <td>...</td>\n      <td>...</td>\n      <td>...</td>\n      <td>...</td>\n      <td>...</td>\n      <td>...</td>\n      <td>...</td>\n      <td>...</td>\n      <td>...</td>\n    </tr>\n    <tr>\n      <th>73</th>\n      <td>AAPL200320P00460000</td>\n      <td>2020-03-12 11:35AM EDT</td>\n      <td>460.0</td>\n      <td>183.00</td>\n      <td>208.40</td>\n      <td>211.00</td>\n      <td>0.00</td>\n      <td>-</td>\n      <td>-</td>\n      <td>-</td>\n      <td>0.00%</td>\n    </tr>\n    <tr>\n      <th>74</th>\n      <td>AAPL200320P00470000</td>\n      <td>2020-03-17 2:48PM EDT</td>\n      <td>470.0</td>\n      <td>218.05</td>\n      <td>223.40</td>\n      <td>227.40</td>\n      <td>-</td>\n      <td>-</td>\n      <td>-</td>\n      <td>0</td>\n      <td>500.00%</td>\n    </tr>\n    <tr>\n      <th>75</th>\n      <td>AAPL200320P00480000</td>\n      <td>2020-03-03 2:36PM EDT</td>\n      <td>480.0</td>\n      <td>193.85</td>\n      <td>230.45</td>\n      <td>232.55</td>\n      <td>0.00</td>\n      <td>-</td>\n      <td>1</td>\n      <td>-</td>\n      <td>0.00%</td>\n    </tr>\n    <tr>\n      <th>76</th>\n      <td>AAPL200320P00490000</td>\n      <td>2020-03-03 12:03PM EDT</td>\n      <td>490.0</td>\n      <td>206.60</td>\n      <td>240.45</td>\n      <td>242.55</td>\n      <td>0.00</td>\n      <td>-</td>\n      <td>2</td>\n      <td>0</td>\n      <td>0.00%</td>\n    </tr>\n    <tr>\n      <th>77</th>\n      <td>AAPL200320P00500000</td>\n      <td>2020-03-02 3:34PM EDT</td>\n      <td>500.0</td>\n      <td>238.40</td>\n      <td>249.50</td>\n      <td>251.80</td>\n      <td>0.00</td>\n      <td>-</td>\n      <td>1</td>\n      <td>0</td>\n      <td>0.00%</td>\n    </tr>\n  </tbody>\n</table>\n<p>78 rows × 11 columns</p>\n</div>",
      "text/plain": "          Contract Name         Last Trade Date  Strike  Last Price     Bid  \\\n0   AAPL200320P00105000  2020-03-19 12:39PM EDT   105.0        0.01    0.00   \n1   AAPL200320P00110000   2020-03-18 2:37PM EDT   110.0        0.01    0.00   \n2   AAPL200320P00115000   2020-03-18 3:01PM EDT   115.0        0.01    0.00   \n3   AAPL200320P00120000   2020-03-18 3:54PM EDT   120.0        0.01    0.00   \n4   AAPL200320P00125000   2020-03-18 3:53PM EDT   125.0        0.02    0.00   \n..                  ...                     ...     ...         ...     ...   \n73  AAPL200320P00460000  2020-03-12 11:35AM EDT   460.0      183.00  208.40   \n74  AAPL200320P00470000   2020-03-17 2:48PM EDT   470.0      218.05  223.40   \n75  AAPL200320P00480000   2020-03-03 2:36PM EDT   480.0      193.85  230.45   \n76  AAPL200320P00490000  2020-03-03 12:03PM EDT   490.0      206.60  240.45   \n77  AAPL200320P00500000   2020-03-02 3:34PM EDT   500.0      238.40  249.50   \n\n       Ask Change  % Change Volume Open Interest Implied Volatility  \n0     0.01   0.00         -     39          3711            487.50%  \n1     0.01   0.00         -     24          1911            462.50%  \n2     0.01   0.00         -     70           556            437.50%  \n3     0.01   0.00         -     69           835            412.50%  \n4     0.01  +0.01  +100.00%      2           647            387.50%  \n..     ...    ...       ...    ...           ...                ...  \n73  211.00   0.00         -      -             -              0.00%  \n74  227.40      -         -      -             0            500.00%  \n75  232.55   0.00         -      1             -              0.00%  \n76  242.55   0.00         -      2             0              0.00%  \n77  251.80   0.00         -      1             0              0.00%  \n\n[78 rows x 11 columns]"
     },
     "execution_count": 18,
     "metadata": {},
     "output_type": "execute_result"
    }
   ],
   "source": [
    "options.get_puts(SYMBOL,expirations[0])"
   ]
  },
  {
   "cell_type": "code",
   "execution_count": null,
   "metadata": {},
   "outputs": [],
   "source": []
  }
 ]
}